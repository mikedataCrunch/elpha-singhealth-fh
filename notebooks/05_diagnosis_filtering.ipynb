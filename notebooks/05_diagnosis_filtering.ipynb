{
 "cells": [
  {
   "cell_type": "markdown",
   "id": "4b6cd7f7-91de-46ac-9337-5c67205dc0b5",
   "metadata": {},
   "source": [
    "# Diagnosis Filtering\n",
    "\n",
    "This notebook covers the creation of references for the following Stage 1 filtering criteria:\n",
    "1. `Diagnosis` `List` Those with secondary causes within 1 year (+/-) of Index Date"
   ]
  },
  {
   "cell_type": "code",
   "execution_count": 1,
   "id": "3233f2d9-1bcb-4371-95c8-37d2f513281f",
   "metadata": {},
   "outputs": [],
   "source": [
    "%load_ext autoreload\n",
    "%autoreload 2"
   ]
  },
  {
   "cell_type": "code",
   "execution_count": 2,
   "id": "699a4c64-654a-437a-a531-606c45aac99b",
   "metadata": {},
   "outputs": [],
   "source": [
    "import os, sys\n",
    "from dotenv import load_dotenv\n",
    "load_dotenv(\"../.env\")  # take environment variables\n",
    "PROJECT_ROOT = os.environ.get(\"PROJECT_ROOT\")\n",
    "sys.path.append(PROJECT_ROOT)\n",
    "\n",
    "import numpy as np\n",
    "import pandas as pd\n",
    "from glob import glob\n",
    "from tqdm import tqdm\n",
    "from datetime import datetime\n",
    "\n",
    "import utils.PATHS as PATHS\n",
    "import utils.utils as utils\n",
    "# import utils.emr_utils as emr_utils\n",
    "# import utils.load_utils as load_utils"
   ]
  },
  {
   "cell_type": "code",
   "execution_count": 3,
   "id": "1300a862-11a8-482b-9054-dfd557d820b4",
   "metadata": {},
   "outputs": [
    {
     "name": "stderr",
     "output_type": "stream",
     "text": [
      "100%|█████████████████████████████████████████████████████████| 4/4 [00:00<00:00,  4.32it/s]\n"
     ]
    }
   ],
   "source": [
    "dia_fp_list = glob(os.path.join(PATHS.DIAGNOSIS, \"*.csv\"))\n",
    "\n",
    "# general labs dataframe\n",
    "df_list = [pd.read_csv(path, low_memory=False) for path in tqdm(dia_fp_list)]\n",
    "dia_df = pd.concat(df_list, ignore_index=True)"
   ]
  },
  {
   "cell_type": "code",
   "execution_count": 4,
   "id": "ee98babf-4108-45ac-841f-2b7a8a3053d6",
   "metadata": {},
   "outputs": [
    {
     "data": {
      "text/plain": [
       "Index(['Institution Code', 'Patient ID', 'Gender', 'Race', 'Nationality',\n",
       "       'Date of Birth', 'Resident Indicator', 'Death Date', 'Diagnosis Code',\n",
       "       'Diagnosis Description', 'Diagnosis Catalogue Code',\n",
       "       'Diagnosis Code (ICD10)', 'Diagnosis Description (ICD10)',\n",
       "       'ILD Indicator (ICD10)', 'Diagnosis Date', 'Case No', 'eHIntS Case Id',\n",
       "       'Visit No', 'Admit/Visit Date', 'ICD10 Diagnosis Type',\n",
       "       'ICD10 Diagnosis Type2', 'Diagnosis Creation Date',\n",
       "       'Diagnosis Catalog Code', 'Diagnosis Catalogue Code.1',\n",
       "       'Diagnosis Catalogue Text Code', 'Diagnosis Catalogue Text Description',\n",
       "       'Reference Catalog Code', 'Reference Catalog Description', 'BMI',\n",
       "       'Height', 'Weight'],\n",
       "      dtype='object')"
      ]
     },
     "execution_count": 4,
     "metadata": {},
     "output_type": "execute_result"
    }
   ],
   "source": [
    "dia_df.columns"
   ]
  },
  {
   "cell_type": "code",
   "execution_count": 5,
   "id": "d15f8ec8-df1e-4b45-9f90-2a9d5f223c88",
   "metadata": {},
   "outputs": [
    {
     "name": "stderr",
     "output_type": "stream",
     "text": [
      "100%|█████████████████████████████████████████████████████████| 8/8 [00:15<00:00,  1.91s/it]\n"
     ]
    }
   ],
   "source": [
    "prl_fp_list = glob(os.path.join(PATHS.PROBLEM_LIST, \"*.csv\"))\n",
    "\n",
    "df_list = []\n",
    "for path in tqdm(prl_fp_list):\n",
    "    temp = pd.read_csv(path, low_memory=False)\n",
    "\n",
    "    # address div block at df tail\n",
    "    subset = temp.columns.tolist()\n",
    "    subset.remove(\"Visit Date\")\n",
    "    temp = temp.dropna(subset=subset, how=\"all\")\n",
    "\n",
    "    df_list.append(temp)\n",
    "    \n",
    "prl_df = pd.concat(df_list, ignore_index=True)"
   ]
  },
  {
   "cell_type": "code",
   "execution_count": 6,
   "id": "2744b9d7-5d33-4d24-aa1a-5f5dc8cf12b5",
   "metadata": {},
   "outputs": [
    {
     "data": {
      "text/plain": [
       "Index(['Visit Date', 'Institution', 'Case No', 'Visit No', 'Patient ID',\n",
       "       'Date of Birth', 'Race', 'Gender', 'Resident Indicator', 'Nationality',\n",
       "       'Problem Serial No', 'Problem Summary', 'Problem Code (Coded)',\n",
       "       'Problem Desc (Coded)', 'Coding Scheme (Coded)',\n",
       "       'Problem Shortname (Coded)', 'Problem Status', 'Problem Onset (Day)',\n",
       "       'Problem Onset (Month)', 'Problem Onset (Year)', 'Created Date',\n",
       "       'Entered Date', 'Resolved Date', 'Updated Date', 'Smoking',\n",
       "       'Smoking History', 'Smoking History.1'],\n",
       "      dtype='object')"
      ]
     },
     "execution_count": 6,
     "metadata": {},
     "output_type": "execute_result"
    }
   ],
   "source": [
    "prl_df.columns"
   ]
  },
  {
   "cell_type": "code",
   "execution_count": 7,
   "id": "be89a167-aa94-43b0-9a7c-7f5428b90faf",
   "metadata": {},
   "outputs": [],
   "source": [
    "# load ldlc for index date reference\n",
    "path = os.path.join(PROJECT_ROOT, \"results\", \"ldlc_valid_18_nontg_index_nosecondarylab.csv\")\n",
    "ldlc_valid_18_nontg_index_nosecondarylab = pd.read_csv(path)\n",
    "\n",
    "# prep datetime cols\n",
    "ldlc_valid_18_nontg_index_nosecondarylab[\"Index Date\"] = pd.to_datetime(\n",
    "    ldlc_valid_18_nontg_index_nosecondarylab[\"Index Date\"]\n",
    ")"
   ]
  },
  {
   "cell_type": "code",
   "execution_count": 8,
   "id": "e0a9cef8-84ce-413d-9dcc-be091c648dad",
   "metadata": {},
   "outputs": [],
   "source": [
    "def check_secondary_diagnosis(\n",
    "    row, \n",
    "    date_col,\n",
    "    code_col,\n",
    "    ref_df,\n",
    "):\n",
    "    pid = row[\"Patient ID\"]\n",
    "    index_date = row[\"Index Date\"]\n",
    "\n",
    "    ref_df[date_col] = pd.to_datetime(ref_df[date_col])\n",
    "    pid_dia = ref_df[ref_df[\"Patient ID\"] == pid]\n",
    "    \n",
    "    ## take only those records which are between 365 days and 42 days of index date\n",
    "    pid_dia = pid_dia[\n",
    "        (index_date - pid_dia[date_col] >= pd.Timedelta(days=0)) & \n",
    "        (index_date - pid_dia[date_col] <= pd.Timedelta(days=365))\n",
    "    ]\n",
    "    ## if not empty apply correction else do not\n",
    "    if (pid_dia.empty):\n",
    "        return False\n",
    "    else:\n",
    "        # TO UDPATE: Break apart snomed search and icd10 search to enable prefix matching in icd10\n",
    "        has_secondary = (\n",
    "            pid_dia[code_col]\n",
    "            .isin(utils.secondary_dia_icd10 + utils.secondary_dia_snomed)\n",
    "            .any()\n",
    "        )\n",
    "        return has_secondary"
   ]
  },
  {
   "cell_type": "markdown",
   "id": "557a1e99-341f-4368-be46-3687bed87fd7",
   "metadata": {},
   "source": [
    "## SNOMED-coded Problem List : Using Codes"
   ]
  },
  {
   "cell_type": "code",
   "execution_count": 9,
   "id": "47c9577d-dc24-4d77-86e3-63d32efce5ad",
   "metadata": {},
   "outputs": [
    {
     "name": "stderr",
     "output_type": "stream",
     "text": [
      "100%|███████████████████████████████████████████████| 20812/20812 [1:01:26<00:00,  5.65it/s]\n"
     ]
    }
   ],
   "source": [
    "tqdm.pandas()\n",
    "date_col = \"Visit Date\"\n",
    "code_col = \"Problem Code (Coded)\"\n",
    "with_secondary_prl = ldlc_valid_18_nontg_index_nosecondarylab[\n",
    "    ldlc_valid_18_nontg_index_nosecondarylab.progress_apply(\n",
    "        check_secondary_diagnosis, args=(date_col, code_col, prl_df), axis=1)\n",
    "]"
   ]
  },
  {
   "cell_type": "code",
   "execution_count": 10,
   "id": "88f2033c-3fb5-4de1-8cdf-a132668fb5e9",
   "metadata": {},
   "outputs": [
    {
     "name": "stderr",
     "output_type": "stream",
     "text": [
      "/home/hsrc_michael/miniconda3/envs/basic-ds-toolkit/lib/python3.12/importlib/__init__.py:131: UserWarning: The NumPy module was reloaded (imported a second time). This can in some cases result in small but subtle issues and is discouraged.\n",
      "  _bootstrap._exec(spec, module)\n"
     ]
    },
    {
     "data": {
      "text/plain": [
       "0"
      ]
     },
     "execution_count": 10,
     "metadata": {},
     "output_type": "execute_result"
    }
   ],
   "source": [
    "with_secondary_prl[\"Patient ID\"].unique().size"
   ]
  },
  {
   "cell_type": "markdown",
   "id": "e44430c2-7447-43ca-a4d3-89c447420821",
   "metadata": {},
   "source": [
    "## ICD10-coded Diagnosis: Using Codes"
   ]
  },
  {
   "cell_type": "code",
   "execution_count": 11,
   "id": "2c9030f4-3602-47c5-80ea-42a6fe8445e6",
   "metadata": {},
   "outputs": [
    {
     "ename": "TypeError",
     "evalue": "'_NoValueType' object cannot be interpreted as an integer",
     "output_type": "error",
     "traceback": [
      "\u001b[0;31m---------------------------------------------------------------------------\u001b[0m",
      "\u001b[0;31mTypeError\u001b[0m                                 Traceback (most recent call last)",
      "Cell \u001b[0;32mIn[11], line 4\u001b[0m\n\u001b[1;32m      1\u001b[0m date_col \u001b[38;5;241m=\u001b[39m \u001b[38;5;124m\"\u001b[39m\u001b[38;5;124mAdmit/Visit Date\u001b[39m\u001b[38;5;124m\"\u001b[39m\n\u001b[1;32m      2\u001b[0m code_col \u001b[38;5;241m=\u001b[39m \u001b[38;5;124m\"\u001b[39m\u001b[38;5;124mDiagnosis Code (ICD10)\u001b[39m\u001b[38;5;124m\"\u001b[39m\n\u001b[1;32m      3\u001b[0m with_secondary_dia \u001b[38;5;241m=\u001b[39m ldlc_valid_18_nontg_index_nosecondarylab\u001b[38;5;241m.\u001b[39mloc[\n\u001b[0;32m----> 4\u001b[0m     ldlc_valid_18_nontg_index_nosecondarylab\u001b[38;5;241m.\u001b[39mprogress_apply(\n\u001b[1;32m      5\u001b[0m         check_secondary_diagnosis, args\u001b[38;5;241m=\u001b[39m(date_col, code_col, dia_df), axis\u001b[38;5;241m=\u001b[39m\u001b[38;5;241m1\u001b[39m)\n\u001b[1;32m      6\u001b[0m ]\n",
      "File \u001b[0;32m~/miniconda3/envs/basic-ds-toolkit/lib/python3.12/site-packages/tqdm/std.py:878\u001b[0m, in \u001b[0;36mtqdm.pandas.<locals>.inner_generator.<locals>.inner\u001b[0;34m(df, func, *args, **kwargs)\u001b[0m\n\u001b[1;32m    876\u001b[0m             axis \u001b[38;5;241m=\u001b[39m \u001b[38;5;241m1\u001b[39m\n\u001b[1;32m    877\u001b[0m         \u001b[38;5;66;03m# when axis=0, total is shape[axis1]\u001b[39;00m\n\u001b[0;32m--> 878\u001b[0m         total \u001b[38;5;241m=\u001b[39m df\u001b[38;5;241m.\u001b[39msize \u001b[38;5;241m/\u001b[39m\u001b[38;5;241m/\u001b[39m df\u001b[38;5;241m.\u001b[39mshape[axis]\n\u001b[1;32m    880\u001b[0m \u001b[38;5;66;03m# Init bar\u001b[39;00m\n\u001b[1;32m    881\u001b[0m \u001b[38;5;28;01mif\u001b[39;00m deprecated_t[\u001b[38;5;241m0\u001b[39m] \u001b[38;5;129;01mis\u001b[39;00m \u001b[38;5;129;01mnot\u001b[39;00m \u001b[38;5;28;01mNone\u001b[39;00m:\n",
      "File \u001b[0;32m~/miniconda3/envs/basic-ds-toolkit/lib/python3.12/site-packages/pandas/core/generic.py:744\u001b[0m, in \u001b[0;36mNDFrame.size\u001b[0;34m(self)\u001b[0m\n\u001b[1;32m    720\u001b[0m \u001b[38;5;129m@final\u001b[39m\n\u001b[1;32m    721\u001b[0m \u001b[38;5;129m@property\u001b[39m\n\u001b[1;32m    722\u001b[0m \u001b[38;5;28;01mdef\u001b[39;00m \u001b[38;5;21msize\u001b[39m(\u001b[38;5;28mself\u001b[39m) \u001b[38;5;241m-\u001b[39m\u001b[38;5;241m>\u001b[39m \u001b[38;5;28mint\u001b[39m:\n\u001b[1;32m    723\u001b[0m \u001b[38;5;250m    \u001b[39m\u001b[38;5;124;03m\"\"\"\u001b[39;00m\n\u001b[1;32m    724\u001b[0m \u001b[38;5;124;03m    Return an int representing the number of elements in this object.\u001b[39;00m\n\u001b[1;32m    725\u001b[0m \n\u001b[0;32m   (...)\u001b[0m\n\u001b[1;32m    741\u001b[0m \u001b[38;5;124;03m    4\u001b[39;00m\n\u001b[1;32m    742\u001b[0m \u001b[38;5;124;03m    \"\"\"\u001b[39;00m\n\u001b[0;32m--> 744\u001b[0m     \u001b[38;5;28;01mreturn\u001b[39;00m \u001b[38;5;28mint\u001b[39m(np\u001b[38;5;241m.\u001b[39mprod(\u001b[38;5;28mself\u001b[39m\u001b[38;5;241m.\u001b[39mshape))\n",
      "File \u001b[0;32m~/miniconda3/envs/basic-ds-toolkit/lib/python3.12/site-packages/numpy/core/fromnumeric.py:3100\u001b[0m, in \u001b[0;36mprod\u001b[0;34m(a, axis, dtype, out, keepdims, initial, where)\u001b[0m\n\u001b[1;32m   2979\u001b[0m \u001b[38;5;129m@array_function_dispatch\u001b[39m(_prod_dispatcher)\n\u001b[1;32m   2980\u001b[0m \u001b[38;5;28;01mdef\u001b[39;00m \u001b[38;5;21mprod\u001b[39m(a, axis\u001b[38;5;241m=\u001b[39m\u001b[38;5;28;01mNone\u001b[39;00m, dtype\u001b[38;5;241m=\u001b[39m\u001b[38;5;28;01mNone\u001b[39;00m, out\u001b[38;5;241m=\u001b[39m\u001b[38;5;28;01mNone\u001b[39;00m, keepdims\u001b[38;5;241m=\u001b[39mnp\u001b[38;5;241m.\u001b[39m_NoValue,\n\u001b[1;32m   2981\u001b[0m          initial\u001b[38;5;241m=\u001b[39mnp\u001b[38;5;241m.\u001b[39m_NoValue, where\u001b[38;5;241m=\u001b[39mnp\u001b[38;5;241m.\u001b[39m_NoValue):\n\u001b[1;32m   2982\u001b[0m \u001b[38;5;250m    \u001b[39m\u001b[38;5;124;03m\"\"\"\u001b[39;00m\n\u001b[1;32m   2983\u001b[0m \u001b[38;5;124;03m    Return the product of array elements over a given axis.\u001b[39;00m\n\u001b[1;32m   2984\u001b[0m \n\u001b[0;32m   (...)\u001b[0m\n\u001b[1;32m   3098\u001b[0m \u001b[38;5;124;03m    10\u001b[39;00m\n\u001b[1;32m   3099\u001b[0m \u001b[38;5;124;03m    \"\"\"\u001b[39;00m\n\u001b[0;32m-> 3100\u001b[0m     \u001b[38;5;28;01mreturn\u001b[39;00m _wrapreduction(a, np\u001b[38;5;241m.\u001b[39mmultiply, \u001b[38;5;124m'\u001b[39m\u001b[38;5;124mprod\u001b[39m\u001b[38;5;124m'\u001b[39m, axis, dtype, out,\n\u001b[1;32m   3101\u001b[0m                           keepdims\u001b[38;5;241m=\u001b[39mkeepdims, initial\u001b[38;5;241m=\u001b[39minitial, where\u001b[38;5;241m=\u001b[39mwhere)\n",
      "File \u001b[0;32m~/miniconda3/envs/basic-ds-toolkit/lib/python3.12/site-packages/numpy/core/fromnumeric.py:88\u001b[0m, in \u001b[0;36m_wrapreduction\u001b[0;34m(obj, ufunc, method, axis, dtype, out, **kwargs)\u001b[0m\n\u001b[1;32m     85\u001b[0m         \u001b[38;5;28;01melse\u001b[39;00m:\n\u001b[1;32m     86\u001b[0m             \u001b[38;5;28;01mreturn\u001b[39;00m reduction(axis\u001b[38;5;241m=\u001b[39maxis, out\u001b[38;5;241m=\u001b[39mout, \u001b[38;5;241m*\u001b[39m\u001b[38;5;241m*\u001b[39mpasskwargs)\n\u001b[0;32m---> 88\u001b[0m \u001b[38;5;28;01mreturn\u001b[39;00m ufunc\u001b[38;5;241m.\u001b[39mreduce(obj, axis, dtype, out, \u001b[38;5;241m*\u001b[39m\u001b[38;5;241m*\u001b[39mpasskwargs)\n",
      "\u001b[0;31mTypeError\u001b[0m: '_NoValueType' object cannot be interpreted as an integer"
     ]
    }
   ],
   "source": [
    "\n",
    "date_col = \"Admit/Visit Date\"\n",
    "code_col = \"Diagnosis Code (ICD10)\"\n",
    "with_secondary_dia = ldlc_valid_18_nontg_index_nosecondarylab.loc[\n",
    "    ldlc_valid_18_nontg_index_nosecondarylab.progress_apply(\n",
    "        check_secondary_diagnosis, args=(date_col, code_col, dia_df), axis=1)\n",
    "]"
   ]
  },
  {
   "cell_type": "code",
   "execution_count": null,
   "id": "3efa576e-0a82-4683-97a6-f79601475b63",
   "metadata": {},
   "outputs": [],
   "source": [
    "with_secondary_dia[\"Patient ID\"].unique().size"
   ]
  },
  {
   "cell_type": "markdown",
   "id": "e53973f9-c2d2-4fd7-bce9-029d7ae0f66a",
   "metadata": {},
   "source": [
    "### SNOMED: Using keywords"
   ]
  },
  {
   "cell_type": "code",
   "execution_count": null,
   "id": "b07d89d9-ad89-4f19-9206-b138f4595bed",
   "metadata": {},
   "outputs": [],
   "source": [
    "def check_secondary_diagnosis(\n",
    "    row, \n",
    "    date_col,\n",
    "    desc_col,\n",
    "    ref_df,\n",
    "):\n",
    "    pid = row[\"Patient ID\"]\n",
    "    index_date = row[\"Index Date\"]\n",
    "\n",
    "    ref_df[date_col] = pd.to_datetime(ref_df[date_col])\n",
    "    pid_dia = ref_df[ref_df[\"Patient ID\"] == pid]\n",
    "    \n",
    "    ## take only those records which are between 365 days and 42 days of index date\n",
    "    pid_dia = pid_dia[\n",
    "        (index_date - pid_dia[date_col] >= pd.Timedelta(days=0)) & \n",
    "        (index_date - pid_dia[date_col] <= pd.Timedelta(days=365))\n",
    "    ]\n",
    "    ## if not empty apply correction else do not\n",
    "    if (pid_dia.empty):\n",
    "        return False\n",
    "    else:\n",
    "        has_secondary = (\n",
    "            pid_dia[desc_col]\n",
    "            .str.contains('|'.join(utils.secondary_pregnancy_terms), case=False)\n",
    "            .any()\n",
    "        )\n",
    "        return has_secondary"
   ]
  },
  {
   "cell_type": "code",
   "execution_count": null,
   "id": "c6dd5199-75e1-4fcd-816a-ab4311aa64b6",
   "metadata": {},
   "outputs": [],
   "source": [
    "\n",
    "date_col = \"Visit Date\"\n",
    "desc_col = \"Problem Desc (Coded)\"\n",
    "with_secondary_prl_keywords = ldlc_valid_18_nontg_index_nosecondarylab.loc[\n",
    "    ldlc_valid_18_nontg_index_nosecondarylab.progress_apply(\n",
    "        check_secondary_diagnosis, args=(date_col, desc_col, prl_df), axis=1)\n",
    "]"
   ]
  },
  {
   "cell_type": "code",
   "execution_count": null,
   "id": "c4122de3-87ad-4d8a-be94-d024ba2a68c4",
   "metadata": {},
   "outputs": [],
   "source": [
    "with_secondary_prl_keywords[\"Patient ID\"].unique().size"
   ]
  },
  {
   "cell_type": "markdown",
   "id": "0f8aa45c-e248-44eb-945d-e6e0d4971dfd",
   "metadata": {},
   "source": [
    "### ICD10: Using keywords"
   ]
  },
  {
   "cell_type": "code",
   "execution_count": null,
   "id": "51c0c0ca-b297-4cfa-b5d2-7abd2a6165c9",
   "metadata": {},
   "outputs": [],
   "source": [
    "\n",
    "date_col = \"Admit/Visit Date\"\n",
    "desc_col = \"Diagnosis Description (ICD10)\"\n",
    "with_secondary_dia_keywords = ldlc_valid_18_nontg_index_nosecondarylab.loc[\n",
    "    ldlc_valid_18_nontg_index_nosecondarylab.progress_apply(\n",
    "        check_secondary_diagnosis, args=(date_col, desc_col, dia_df), axis=1)\n",
    "]"
   ]
  },
  {
   "cell_type": "code",
   "execution_count": null,
   "id": "59868b2d-9ddf-4e8b-ac2b-6ae108d1e2fe",
   "metadata": {
    "scrolled": true
   },
   "outputs": [],
   "source": [
    "with_secondary_dia_keywords[\"Patient ID\"].unique().size"
   ]
  },
  {
   "cell_type": "code",
   "execution_count": null,
   "id": "b75e1a9b-d6d5-4e53-a1fc-35abcb7c60cb",
   "metadata": {},
   "outputs": [],
   "source": [
    "with_secondary_keywords_plist = with_secondary_prl_keywords[\"Patient ID\"].unique().tolist() + with_secondary_dia_keywords[\"Patient ID\"].unique().tolist()"
   ]
  },
  {
   "cell_type": "code",
   "execution_count": null,
   "id": "c3f3f828-e99a-4916-bbc6-7fe91c0e6593",
   "metadata": {},
   "outputs": [],
   "source": [
    "len(with_secondary_keywords_plist)"
   ]
  },
  {
   "cell_type": "markdown",
   "id": "6a4c78f2-a814-4b36-b8e0-6a822f065b0b",
   "metadata": {},
   "source": [
    "## Post-secondary filtering"
   ]
  },
  {
   "cell_type": "code",
   "execution_count": null,
   "id": "0c036554-e44a-4c22-aa86-909d09b89f3d",
   "metadata": {},
   "outputs": [],
   "source": [
    "ldlc_valid_18_nontg_index_nosecondary_final = ldlc_valid_18_nontg_index_nosecondarylab.loc[\n",
    "    ~ldlc_valid_18_nontg_index_nosecondarylab[\"Patient ID\"].isin(with_secondary_keywords_plist)\n",
    "]"
   ]
  },
  {
   "cell_type": "code",
   "execution_count": null,
   "id": "91b90c7a-b897-417c-88db-1a0ef96a9088",
   "metadata": {},
   "outputs": [],
   "source": [
    "ldlc_valid_18_nontg_index_nosecondary_final[\"Patient ID\"].unique().size"
   ]
  },
  {
   "cell_type": "code",
   "execution_count": null,
   "id": "612438c9-4179-4f83-a846-a74bca3224ec",
   "metadata": {},
   "outputs": [],
   "source": [
    "ldlc_valid_18_nontg_index_nosecondary_final.to_csv(\n",
    "    os.path.join(PROJECT_ROOT, \"results\", \"ldlc_valid_18_nontg_index_nosecondary_final.csv\"), index=False,\n",
    ")"
   ]
  },
  {
   "cell_type": "markdown",
   "id": "0e5de788-da3a-4cd6-b871-dca31c3aa55c",
   "metadata": {},
   "source": [
    "## End"
   ]
  }
 ],
 "metadata": {
  "kernelspec": {
   "display_name": "basic-ds-toolkit",
   "language": "python",
   "name": "basic-ds-toolkit"
  },
  "language_info": {
   "codemirror_mode": {
    "name": "ipython",
    "version": 3
   },
   "file_extension": ".py",
   "mimetype": "text/x-python",
   "name": "python",
   "nbconvert_exporter": "python",
   "pygments_lexer": "ipython3",
   "version": "3.12.7"
  }
 },
 "nbformat": 4,
 "nbformat_minor": 5
}
