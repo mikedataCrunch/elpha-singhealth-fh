{
 "cells": [
  {
   "cell_type": "code",
   "execution_count": 7,
   "id": "7e29da3a-6339-428d-9a49-4576af960a36",
   "metadata": {},
   "outputs": [
    {
     "name": "stdout",
     "output_type": "stream",
     "text": [
      "The autoreload extension is already loaded. To reload it, use:\n",
      "  %reload_ext autoreload\n"
     ]
    }
   ],
   "source": [
    "%load_ext autoreload\n",
    "%autoreload 2"
   ]
  },
  {
   "cell_type": "code",
   "execution_count": 8,
   "id": "84b80695-a6bd-4208-a3dd-e983f177ab19",
   "metadata": {},
   "outputs": [],
   "source": [
    "import os\n",
    "import numpy as np\n",
    "import pandas as pd\n",
    "import sys\n",
    "from glob import glob\n",
    "from tqdm import tqdm\n",
    "REPO_DIR = \"/Users/mdorosan/Desktop/2024/elpha-singhealth-fh\"\n",
    "sys.path.append(REPO_DIR)\n",
    "\n",
    "import utils.PATHS as PATHS\n",
    "import utils.utils as utils\n",
    "# import utils.emr_utils as emr_utils\n",
    "# import utils.load_utils as load_utils"
   ]
  },
  {
   "cell_type": "markdown",
   "id": "8315f781-c0ce-45c6-8c07-f557ba56dd4a",
   "metadata": {},
   "source": [
    "## Notes\n",
    "\n",
    "The following were observed in the exploration below:\n",
    "* Potentially useful columns:\n",
    "  - `Lab Resulted Order Test Description` is more intuitive in mapping to a the `Result value` column\n",
    "  - `Lab Test Description` is broader. Such as it may consist of different `Lab Resulted Order Test Description`\n",
    "* Reliable datetime columns (for Index Date of highest LDL-C), ordered by most suitable:\n",
    "  - `Specimen Received Date`\n",
    "  - `Specimen Collection Date`\n",
    "  - `Admit Date`\n",
    "* **Issue**: Lab Test Shortext Descriptions provided by collaborators dont match with SGH vocabulary. Resolve with clinician input."
   ]
  },
  {
   "cell_type": "code",
   "execution_count": 9,
   "id": "80bb24d4-2077-4775-ac6f-9ad6cb9a37d7",
   "metadata": {},
   "outputs": [],
   "source": [
    "lab_fp_list = glob(os.path.join(PATHS.LABS, \"*.csv\"))"
   ]
  },
  {
   "cell_type": "code",
   "execution_count": 10,
   "id": "fc2bdf54-c091-4341-be83-b934362a2716",
   "metadata": {},
   "outputs": [
    {
     "name": "stdout",
     "output_type": "stream",
     "text": [
      "/Users/mdorosan/Desktop/2024/datasets/elpha-fh/1 Lab General/2024-03-25_Lab_General_Subject_FH_Table_1_(SGH_2017-05May).csv\n",
      "<class 'pandas.core.frame.DataFrame'>\n",
      "RangeIndex: 712257 entries, 0 to 712256\n",
      "Data columns (total 25 columns):\n",
      " #   Column                                   Non-Null Count   Dtype  \n",
      "---  ------                                   --------------   -----  \n",
      " 0   Institution Code                         712257 non-null  object \n",
      " 1   Patient ID                               712257 non-null  object \n",
      " 2   Gender                                   712257 non-null  object \n",
      " 3   Race                                     712257 non-null  object \n",
      " 4   Date of Birth                            712257 non-null  object \n",
      " 5   Nationality                              712257 non-null  object \n",
      " 6   Country of Residence                     57680 non-null   object \n",
      " 7   Resident Indicator                       712257 non-null  object \n",
      " 8   Case No                                  712257 non-null  object \n",
      " 9   Result Comment Date                      0 non-null       float64\n",
      " 10  Specimen Received Date                   712257 non-null  object \n",
      " 11  Lab Test Code                            712221 non-null  object \n",
      " 12  Lab Test Description                     712257 non-null  object \n",
      " 13  Lab Test Type                            712257 non-null  object \n",
      " 14  Lab Test Type (KKH Only)                 0 non-null       float64\n",
      " 15  Lab Resulted Order Test Description      712257 non-null  object \n",
      " 16  Lab Test Display                         0 non-null       float64\n",
      " 17  Lab Resulted Order Test Type             712257 non-null  object \n",
      " 18  Lab Resulted Order Test Type (KKH Only)  0 non-null       float64\n",
      " 19  Lab Resulted Order Test Display          0 non-null       float64\n",
      " 20  Result Value                             703475 non-null  object \n",
      " 21  Specimen Received Date.1                 712257 non-null  object \n",
      " 22  Admit Date                               712257 non-null  object \n",
      " 23  Specimen Collection Date                 712257 non-null  object \n",
      " 24  Visit Date                               985 non-null     float64\n",
      "dtypes: float64(6), object(19)\n",
      "memory usage: 135.9+ MB\n"
     ]
    }
   ],
   "source": [
    "print(lab_fp_list[0])\n",
    "test = pd.read_csv(lab_fp_list[0])\n",
    "test.info()"
   ]
  },
  {
   "cell_type": "code",
   "execution_count": 11,
   "id": "805f700c-5406-4346-b267-cda40f9e6e96",
   "metadata": {},
   "outputs": [
    {
     "data": {
      "text/html": [
       "<div>\n",
       "<style scoped>\n",
       "    .dataframe tbody tr th:only-of-type {\n",
       "        vertical-align: middle;\n",
       "    }\n",
       "\n",
       "    .dataframe tbody tr th {\n",
       "        vertical-align: top;\n",
       "    }\n",
       "\n",
       "    .dataframe thead th {\n",
       "        text-align: right;\n",
       "    }\n",
       "</style>\n",
       "<table border=\"1\" class=\"dataframe\">\n",
       "  <thead>\n",
       "    <tr style=\"text-align: right;\">\n",
       "      <th></th>\n",
       "      <th>Lab Test Code</th>\n",
       "      <th>Lab Test Description</th>\n",
       "      <th>Lab Test Type</th>\n",
       "      <th>Lab Test Type (KKH Only)</th>\n",
       "      <th>Lab Test Display</th>\n",
       "      <th>Result Value</th>\n",
       "    </tr>\n",
       "  </thead>\n",
       "  <tbody>\n",
       "    <tr>\n",
       "      <th>0</th>\n",
       "      <td>A1</td>\n",
       "      <td>UE,BI,CRE,GLU</td>\n",
       "      <td>P</td>\n",
       "      <td>NaN</td>\n",
       "      <td>NaN</td>\n",
       "      <td>17.8</td>\n",
       "    </tr>\n",
       "    <tr>\n",
       "      <th>1</th>\n",
       "      <td>A1</td>\n",
       "      <td>UE,BI,CRE,GLU</td>\n",
       "      <td>P</td>\n",
       "      <td>NaN</td>\n",
       "      <td>NaN</td>\n",
       "      <td>111</td>\n",
       "    </tr>\n",
       "    <tr>\n",
       "      <th>2</th>\n",
       "      <td>A1</td>\n",
       "      <td>UE,BI,CRE,GLU</td>\n",
       "      <td>P</td>\n",
       "      <td>NaN</td>\n",
       "      <td>NaN</td>\n",
       "      <td>126</td>\n",
       "    </tr>\n",
       "    <tr>\n",
       "      <th>3</th>\n",
       "      <td>A1</td>\n",
       "      <td>UE,BI,CRE,GLU</td>\n",
       "      <td>P</td>\n",
       "      <td>NaN</td>\n",
       "      <td>NaN</td>\n",
       "      <td>3.8</td>\n",
       "    </tr>\n",
       "    <tr>\n",
       "      <th>4</th>\n",
       "      <td>A1</td>\n",
       "      <td>UE,BI,CRE,GLU</td>\n",
       "      <td>P</td>\n",
       "      <td>NaN</td>\n",
       "      <td>NaN</td>\n",
       "      <td>5.6</td>\n",
       "    </tr>\n",
       "    <tr>\n",
       "      <th>...</th>\n",
       "      <td>...</td>\n",
       "      <td>...</td>\n",
       "      <td>...</td>\n",
       "      <td>...</td>\n",
       "      <td>...</td>\n",
       "      <td>...</td>\n",
       "    </tr>\n",
       "    <tr>\n",
       "      <th>712252</th>\n",
       "      <td>UME</td>\n",
       "      <td>URINE MICROSCOPIC EXAM</td>\n",
       "      <td>P</td>\n",
       "      <td>NaN</td>\n",
       "      <td>NaN</td>\n",
       "      <td>5</td>\n",
       "    </tr>\n",
       "    <tr>\n",
       "      <th>712253</th>\n",
       "      <td>UME</td>\n",
       "      <td>URINE MICROSCOPIC EXAM</td>\n",
       "      <td>P</td>\n",
       "      <td>NaN</td>\n",
       "      <td>NaN</td>\n",
       "      <td>FEW</td>\n",
       "    </tr>\n",
       "    <tr>\n",
       "      <th>712254</th>\n",
       "      <td>UME</td>\n",
       "      <td>URINE MICROSCOPIC EXAM</td>\n",
       "      <td>P</td>\n",
       "      <td>NaN</td>\n",
       "      <td>NaN</td>\n",
       "      <td>NIL</td>\n",
       "    </tr>\n",
       "    <tr>\n",
       "      <th>712255</th>\n",
       "      <td>UME</td>\n",
       "      <td>URINE MICROSCOPIC EXAM</td>\n",
       "      <td>P</td>\n",
       "      <td>NaN</td>\n",
       "      <td>NaN</td>\n",
       "      <td>33</td>\n",
       "    </tr>\n",
       "    <tr>\n",
       "      <th>712256</th>\n",
       "      <td>UME</td>\n",
       "      <td>URINE MICROSCOPIC EXAM</td>\n",
       "      <td>P</td>\n",
       "      <td>NaN</td>\n",
       "      <td>NaN</td>\n",
       "      <td>30</td>\n",
       "    </tr>\n",
       "  </tbody>\n",
       "</table>\n",
       "<p>712257 rows × 6 columns</p>\n",
       "</div>"
      ],
      "text/plain": [
       "       Lab Test Code    Lab Test Description Lab Test Type  \\\n",
       "0                 A1           UE,BI,CRE,GLU             P   \n",
       "1                 A1           UE,BI,CRE,GLU             P   \n",
       "2                 A1           UE,BI,CRE,GLU             P   \n",
       "3                 A1           UE,BI,CRE,GLU             P   \n",
       "4                 A1           UE,BI,CRE,GLU             P   \n",
       "...              ...                     ...           ...   \n",
       "712252           UME  URINE MICROSCOPIC EXAM             P   \n",
       "712253           UME  URINE MICROSCOPIC EXAM             P   \n",
       "712254           UME  URINE MICROSCOPIC EXAM             P   \n",
       "712255           UME  URINE MICROSCOPIC EXAM             P   \n",
       "712256           UME  URINE MICROSCOPIC EXAM             P   \n",
       "\n",
       "        Lab Test Type (KKH Only)  Lab Test Display Result Value  \n",
       "0                            NaN               NaN         17.8  \n",
       "1                            NaN               NaN          111  \n",
       "2                            NaN               NaN          126  \n",
       "3                            NaN               NaN          3.8  \n",
       "4                            NaN               NaN          5.6  \n",
       "...                          ...               ...          ...  \n",
       "712252                       NaN               NaN            5  \n",
       "712253                       NaN               NaN          FEW  \n",
       "712254                       NaN               NaN          NIL  \n",
       "712255                       NaN               NaN           33  \n",
       "712256                       NaN               NaN           30  \n",
       "\n",
       "[712257 rows x 6 columns]"
      ]
     },
     "execution_count": 11,
     "metadata": {},
     "output_type": "execute_result"
    }
   ],
   "source": [
    "# lab results columns\n",
    "lab_cols = [\n",
    "    \"Lab Test Code\",\n",
    "    \"Lab Test Description\",\n",
    "    \"Lab Test Type\",\n",
    "    \"Lab Test Type (KKH Only)\",\n",
    "    \"Lab Test Display\",\n",
    "    \"Result Value\"\n",
    "]\n",
    "test[lab_cols]"
   ]
  },
  {
   "cell_type": "code",
   "execution_count": 12,
   "id": "e22f3898-4999-4f4e-8873-cbf04a813435",
   "metadata": {},
   "outputs": [
    {
     "data": {
      "text/plain": [
       "Lab Test Description\n",
       "(CK,MB,TNT)                 {CREATINE KINASE, CREATINE KINASE MB (MASS), (...\n",
       "(PAPP-A,FBHCG)                   {PREG ASSOC PLASMA PROTEIN A, FREE BETA HCG}\n",
       "(Tg,TgAb)                           {THYROGLOBULIN, THYROGLOBULIN ANTIBODIES}\n",
       "24HR UR FREE CORTISOL(P)    {24HR URINE VOLUME, 24H UR FREE CORTISOL(T), F...\n",
       "24HR URINE CALCIUM          {CALCIUM,URINE, 24HR URINE CALCIUM, 24HR URINE...\n",
       "                                                  ...                        \n",
       "ZINC,SERUM                                                       {ZINC,SERUM}\n",
       "pCO2,POCT                                                         {pCO2,POCT}\n",
       "pH,BLOOD POCT                                                 {pH,BLOOD POCT}\n",
       "pO2,POCT                                                           {pO2,POCT}\n",
       "tHb,POCT                                                           {tHb,POCT}\n",
       "Name: Lab Resulted Order Test Description, Length: 599, dtype: object"
      ]
     },
     "execution_count": 12,
     "metadata": {},
     "output_type": "execute_result"
    }
   ],
   "source": [
    "# ROTD per TD\n",
    "test[[\"Lab Test Description\", \"Lab Resulted Order Test Description\", \"Result Value\"]].groupby(\"Lab Test Description\")[\"Lab Resulted Order Test Description\"].apply(set)"
   ]
  },
  {
   "cell_type": "code",
   "execution_count": 13,
   "id": "5a76a468-7c91-4ef3-9339-76018b7b9f44",
   "metadata": {},
   "outputs": [
    {
     "data": {
      "text/plain": [
       "Lab Resulted Order Test Description\n",
       "%HEAT STABLE ALP                    {HEAT STABLE ALP}\n",
       "(CK,MB,TNT)                             {(CK,MB,TNT)}\n",
       "24H UR FREE CORTISOL(T)    {24HR UR FREE CORTISOL(P)}\n",
       "24HR CU URINE VOL                 {24HR URINE COPPER}\n",
       "24HR MG URINE VOLUME           {24HR URINE MAGNESIUM}\n",
       "                                      ...            \n",
       "pH,BLOOD                                {BLOOD GASES}\n",
       "pH,BLOOD POCT                         {pH,BLOOD POCT}\n",
       "pO2                                     {BLOOD GASES}\n",
       "pO2,POCT                                   {pO2,POCT}\n",
       "tHb,POCT                                   {tHb,POCT}\n",
       "Name: Lab Test Description, Length: 881, dtype: object"
      ]
     },
     "execution_count": 13,
     "metadata": {},
     "output_type": "execute_result"
    }
   ],
   "source": [
    "# TD per ROTD : See notes on findings\n",
    "test[[\"Lab Test Description\", \"Lab Resulted Order Test Description\", \"Result Value\"]].groupby(\"Lab Resulted Order Test Description\")[\"Lab Test Description\"].apply(set)"
   ]
  },
  {
   "cell_type": "code",
   "execution_count": 14,
   "id": "628f7713-05da-4bc3-85d4-9c09e84c13c4",
   "metadata": {},
   "outputs": [
    {
     "data": {
      "text/plain": [
       "Lab Test Description\n",
       "FBC                               338076\n",
       "GLUCOSE,POCT                       62903\n",
       "UE,BI,CRE                          54822\n",
       "UE,BI,CRE,GLU                      47006\n",
       "LIVER PANEL (WITH GGT)             30049\n",
       "                                   ...  \n",
       "Coxiella burnetti CFT                  1\n",
       "CD138 PLASMA CELL                      1\n",
       "CARCINO EMBRYONIC ANTIGEN,FLUI         1\n",
       "LACTATE,FLUID                          1\n",
       "Mumps Ag                               1\n",
       "Name: count, Length: 599, dtype: int64"
      ]
     },
     "execution_count": 14,
     "metadata": {},
     "output_type": "execute_result"
    }
   ],
   "source": [
    "test[\"Lab Test Description\"].value_counts()"
   ]
  },
  {
   "cell_type": "code",
   "execution_count": 15,
   "id": "f3cce83e-2bdc-421b-bc94-1daba39d90c2",
   "metadata": {},
   "outputs": [
    {
     "data": {
      "text/html": [
       "<div>\n",
       "<style scoped>\n",
       "    .dataframe tbody tr th:only-of-type {\n",
       "        vertical-align: middle;\n",
       "    }\n",
       "\n",
       "    .dataframe tbody tr th {\n",
       "        vertical-align: top;\n",
       "    }\n",
       "\n",
       "    .dataframe thead th {\n",
       "        text-align: right;\n",
       "    }\n",
       "</style>\n",
       "<table border=\"1\" class=\"dataframe\">\n",
       "  <thead>\n",
       "    <tr style=\"text-align: right;\">\n",
       "      <th></th>\n",
       "      <th>Lab Test Code</th>\n",
       "      <th>Lab Resulted Order Test Description</th>\n",
       "      <th>Lab Resulted Order Test Type</th>\n",
       "      <th>Lab Resulted Order Test Type (KKH Only)</th>\n",
       "      <th>Lab Resulted Order Test Display</th>\n",
       "      <th>Result Value</th>\n",
       "    </tr>\n",
       "  </thead>\n",
       "  <tbody>\n",
       "    <tr>\n",
       "      <th>0</th>\n",
       "      <td>A1</td>\n",
       "      <td>BICARBONATE</td>\n",
       "      <td>T</td>\n",
       "      <td>NaN</td>\n",
       "      <td>NaN</td>\n",
       "      <td>17.8</td>\n",
       "    </tr>\n",
       "    <tr>\n",
       "      <th>1</th>\n",
       "      <td>A1</td>\n",
       "      <td>CHLORIDE</td>\n",
       "      <td>T</td>\n",
       "      <td>NaN</td>\n",
       "      <td>NaN</td>\n",
       "      <td>111</td>\n",
       "    </tr>\n",
       "    <tr>\n",
       "      <th>2</th>\n",
       "      <td>A1</td>\n",
       "      <td>CREATININE</td>\n",
       "      <td>T</td>\n",
       "      <td>NaN</td>\n",
       "      <td>NaN</td>\n",
       "      <td>126</td>\n",
       "    </tr>\n",
       "    <tr>\n",
       "      <th>3</th>\n",
       "      <td>A1</td>\n",
       "      <td>GLUCOSE</td>\n",
       "      <td>T</td>\n",
       "      <td>NaN</td>\n",
       "      <td>NaN</td>\n",
       "      <td>3.8</td>\n",
       "    </tr>\n",
       "    <tr>\n",
       "      <th>4</th>\n",
       "      <td>A1</td>\n",
       "      <td>POTASSIUM</td>\n",
       "      <td>T</td>\n",
       "      <td>NaN</td>\n",
       "      <td>NaN</td>\n",
       "      <td>5.6</td>\n",
       "    </tr>\n",
       "    <tr>\n",
       "      <th>...</th>\n",
       "      <td>...</td>\n",
       "      <td>...</td>\n",
       "      <td>...</td>\n",
       "      <td>...</td>\n",
       "      <td>...</td>\n",
       "      <td>...</td>\n",
       "    </tr>\n",
       "    <tr>\n",
       "      <th>712252</th>\n",
       "      <td>UME</td>\n",
       "      <td>EPITHELIAL CELL</td>\n",
       "      <td>T</td>\n",
       "      <td>NaN</td>\n",
       "      <td>NaN</td>\n",
       "      <td>5</td>\n",
       "    </tr>\n",
       "    <tr>\n",
       "      <th>712253</th>\n",
       "      <td>UME</td>\n",
       "      <td>MICRO-ORGANISMS</td>\n",
       "      <td>T</td>\n",
       "      <td>NaN</td>\n",
       "      <td>NaN</td>\n",
       "      <td>FEW</td>\n",
       "    </tr>\n",
       "    <tr>\n",
       "      <th>712254</th>\n",
       "      <td>UME</td>\n",
       "      <td>URINE CASTS</td>\n",
       "      <td>T</td>\n",
       "      <td>NaN</td>\n",
       "      <td>NaN</td>\n",
       "      <td>NIL</td>\n",
       "    </tr>\n",
       "    <tr>\n",
       "      <th>712255</th>\n",
       "      <td>UME</td>\n",
       "      <td>URINE RBC</td>\n",
       "      <td>T</td>\n",
       "      <td>NaN</td>\n",
       "      <td>NaN</td>\n",
       "      <td>33</td>\n",
       "    </tr>\n",
       "    <tr>\n",
       "      <th>712256</th>\n",
       "      <td>UME</td>\n",
       "      <td>URINE WBC</td>\n",
       "      <td>T</td>\n",
       "      <td>NaN</td>\n",
       "      <td>NaN</td>\n",
       "      <td>30</td>\n",
       "    </tr>\n",
       "  </tbody>\n",
       "</table>\n",
       "<p>712257 rows × 6 columns</p>\n",
       "</div>"
      ],
      "text/plain": [
       "       Lab Test Code Lab Resulted Order Test Description  \\\n",
       "0                 A1                         BICARBONATE   \n",
       "1                 A1                            CHLORIDE   \n",
       "2                 A1                          CREATININE   \n",
       "3                 A1                             GLUCOSE   \n",
       "4                 A1                           POTASSIUM   \n",
       "...              ...                                 ...   \n",
       "712252           UME                     EPITHELIAL CELL   \n",
       "712253           UME                     MICRO-ORGANISMS   \n",
       "712254           UME                         URINE CASTS   \n",
       "712255           UME                           URINE RBC   \n",
       "712256           UME                           URINE WBC   \n",
       "\n",
       "       Lab Resulted Order Test Type  Lab Resulted Order Test Type (KKH Only)  \\\n",
       "0                                 T                                      NaN   \n",
       "1                                 T                                      NaN   \n",
       "2                                 T                                      NaN   \n",
       "3                                 T                                      NaN   \n",
       "4                                 T                                      NaN   \n",
       "...                             ...                                      ...   \n",
       "712252                            T                                      NaN   \n",
       "712253                            T                                      NaN   \n",
       "712254                            T                                      NaN   \n",
       "712255                            T                                      NaN   \n",
       "712256                            T                                      NaN   \n",
       "\n",
       "        Lab Resulted Order Test Display Result Value  \n",
       "0                                   NaN         17.8  \n",
       "1                                   NaN          111  \n",
       "2                                   NaN          126  \n",
       "3                                   NaN          3.8  \n",
       "4                                   NaN          5.6  \n",
       "...                                 ...          ...  \n",
       "712252                              NaN            5  \n",
       "712253                              NaN          FEW  \n",
       "712254                              NaN          NIL  \n",
       "712255                              NaN           33  \n",
       "712256                              NaN           30  \n",
       "\n",
       "[712257 rows x 6 columns]"
      ]
     },
     "execution_count": 15,
     "metadata": {},
     "output_type": "execute_result"
    }
   ],
   "source": [
    "other_lab_cols = [\n",
    "    \"Lab Test Code\",\n",
    "    \"Lab Resulted Order Test Description\",\n",
    "    \"Lab Resulted Order Test Type\",    \n",
    "    \"Lab Resulted Order Test Type (KKH Only)\",\n",
    "    \"Lab Resulted Order Test Display\",\n",
    "    \"Result Value\"    \n",
    "]\n",
    "test[other_lab_cols]"
   ]
  },
  {
   "cell_type": "code",
   "execution_count": 16,
   "id": "daf71583-e44d-4549-bd6b-2a2444c5e74b",
   "metadata": {},
   "outputs": [
    {
     "data": {
      "text/plain": [
       "Lab Resulted Order Test Description\n",
       "GLUCOSE,POCT                      62903\n",
       "POTASSIUM                         17563\n",
       "CREATININE                        17166\n",
       "UREA                              16773\n",
       "SODIUM                            16635\n",
       "                                  ...  \n",
       "CD79 BETA B-CELLS                     1\n",
       "CRYOPRESERVATION                      1\n",
       "AUTO AGGLUTINATION                    1\n",
       "CARCINO EMBRYONIC ANTIGEN,FLUI        1\n",
       "(CK,MB,TNT)                           1\n",
       "Name: count, Length: 881, dtype: int64"
      ]
     },
     "execution_count": 16,
     "metadata": {},
     "output_type": "execute_result"
    }
   ],
   "source": [
    "test[\"Lab Resulted Order Test Description\"].value_counts()"
   ]
  },
  {
   "cell_type": "code",
   "execution_count": 17,
   "id": "980febb1-6b71-4b07-af96-d0c1dd97fbd6",
   "metadata": {},
   "outputs": [
    {
     "data": {
      "text/html": [
       "<div>\n",
       "<style scoped>\n",
       "    .dataframe tbody tr th:only-of-type {\n",
       "        vertical-align: middle;\n",
       "    }\n",
       "\n",
       "    .dataframe tbody tr th {\n",
       "        vertical-align: top;\n",
       "    }\n",
       "\n",
       "    .dataframe thead th {\n",
       "        text-align: right;\n",
       "    }\n",
       "</style>\n",
       "<table border=\"1\" class=\"dataframe\">\n",
       "  <thead>\n",
       "    <tr style=\"text-align: right;\">\n",
       "      <th></th>\n",
       "      <th>Result Comment Date</th>\n",
       "      <th>Specimen Received Date</th>\n",
       "      <th>Specimen Received Date.1</th>\n",
       "      <th>Admit Date</th>\n",
       "      <th>Specimen Collection Date</th>\n",
       "      <th>Visit Date</th>\n",
       "    </tr>\n",
       "  </thead>\n",
       "  <tbody>\n",
       "    <tr>\n",
       "      <th>0</th>\n",
       "      <td>NaN</td>\n",
       "      <td>2017-05-03</td>\n",
       "      <td>2017-05-03</td>\n",
       "      <td>2017-05-03</td>\n",
       "      <td>2017-05-03</td>\n",
       "      <td>NaN</td>\n",
       "    </tr>\n",
       "    <tr>\n",
       "      <th>1</th>\n",
       "      <td>NaN</td>\n",
       "      <td>2017-05-03</td>\n",
       "      <td>2017-05-03</td>\n",
       "      <td>2017-05-03</td>\n",
       "      <td>2017-05-03</td>\n",
       "      <td>NaN</td>\n",
       "    </tr>\n",
       "    <tr>\n",
       "      <th>2</th>\n",
       "      <td>NaN</td>\n",
       "      <td>2017-05-03</td>\n",
       "      <td>2017-05-03</td>\n",
       "      <td>2017-05-03</td>\n",
       "      <td>2017-05-03</td>\n",
       "      <td>NaN</td>\n",
       "    </tr>\n",
       "    <tr>\n",
       "      <th>3</th>\n",
       "      <td>NaN</td>\n",
       "      <td>2017-05-03</td>\n",
       "      <td>2017-05-03</td>\n",
       "      <td>2017-05-03</td>\n",
       "      <td>2017-05-03</td>\n",
       "      <td>NaN</td>\n",
       "    </tr>\n",
       "    <tr>\n",
       "      <th>4</th>\n",
       "      <td>NaN</td>\n",
       "      <td>2017-05-03</td>\n",
       "      <td>2017-05-03</td>\n",
       "      <td>2017-05-03</td>\n",
       "      <td>2017-05-03</td>\n",
       "      <td>NaN</td>\n",
       "    </tr>\n",
       "    <tr>\n",
       "      <th>...</th>\n",
       "      <td>...</td>\n",
       "      <td>...</td>\n",
       "      <td>...</td>\n",
       "      <td>...</td>\n",
       "      <td>...</td>\n",
       "      <td>...</td>\n",
       "    </tr>\n",
       "    <tr>\n",
       "      <th>712252</th>\n",
       "      <td>NaN</td>\n",
       "      <td>2017-05-21</td>\n",
       "      <td>2017-05-21</td>\n",
       "      <td>2017-05-21</td>\n",
       "      <td>2017-05-21</td>\n",
       "      <td>NaN</td>\n",
       "    </tr>\n",
       "    <tr>\n",
       "      <th>712253</th>\n",
       "      <td>NaN</td>\n",
       "      <td>2017-05-21</td>\n",
       "      <td>2017-05-21</td>\n",
       "      <td>2017-05-21</td>\n",
       "      <td>2017-05-21</td>\n",
       "      <td>NaN</td>\n",
       "    </tr>\n",
       "    <tr>\n",
       "      <th>712254</th>\n",
       "      <td>NaN</td>\n",
       "      <td>2017-05-21</td>\n",
       "      <td>2017-05-21</td>\n",
       "      <td>2017-05-21</td>\n",
       "      <td>2017-05-21</td>\n",
       "      <td>NaN</td>\n",
       "    </tr>\n",
       "    <tr>\n",
       "      <th>712255</th>\n",
       "      <td>NaN</td>\n",
       "      <td>2017-05-21</td>\n",
       "      <td>2017-05-21</td>\n",
       "      <td>2017-05-21</td>\n",
       "      <td>2017-05-21</td>\n",
       "      <td>NaN</td>\n",
       "    </tr>\n",
       "    <tr>\n",
       "      <th>712256</th>\n",
       "      <td>NaN</td>\n",
       "      <td>2017-05-21</td>\n",
       "      <td>2017-05-21</td>\n",
       "      <td>2017-05-21</td>\n",
       "      <td>2017-05-21</td>\n",
       "      <td>NaN</td>\n",
       "    </tr>\n",
       "  </tbody>\n",
       "</table>\n",
       "<p>712257 rows × 6 columns</p>\n",
       "</div>"
      ],
      "text/plain": [
       "        Result Comment Date Specimen Received Date Specimen Received Date.1  \\\n",
       "0                       NaN             2017-05-03               2017-05-03   \n",
       "1                       NaN             2017-05-03               2017-05-03   \n",
       "2                       NaN             2017-05-03               2017-05-03   \n",
       "3                       NaN             2017-05-03               2017-05-03   \n",
       "4                       NaN             2017-05-03               2017-05-03   \n",
       "...                     ...                    ...                      ...   \n",
       "712252                  NaN             2017-05-21               2017-05-21   \n",
       "712253                  NaN             2017-05-21               2017-05-21   \n",
       "712254                  NaN             2017-05-21               2017-05-21   \n",
       "712255                  NaN             2017-05-21               2017-05-21   \n",
       "712256                  NaN             2017-05-21               2017-05-21   \n",
       "\n",
       "        Admit Date Specimen Collection Date  Visit Date  \n",
       "0       2017-05-03               2017-05-03         NaN  \n",
       "1       2017-05-03               2017-05-03         NaN  \n",
       "2       2017-05-03               2017-05-03         NaN  \n",
       "3       2017-05-03               2017-05-03         NaN  \n",
       "4       2017-05-03               2017-05-03         NaN  \n",
       "...            ...                      ...         ...  \n",
       "712252  2017-05-21               2017-05-21         NaN  \n",
       "712253  2017-05-21               2017-05-21         NaN  \n",
       "712254  2017-05-21               2017-05-21         NaN  \n",
       "712255  2017-05-21               2017-05-21         NaN  \n",
       "712256  2017-05-21               2017-05-21         NaN  \n",
       "\n",
       "[712257 rows x 6 columns]"
      ]
     },
     "execution_count": 17,
     "metadata": {},
     "output_type": "execute_result"
    }
   ],
   "source": [
    "# date columns\n",
    "dt_cols = [\n",
    "    \"Result Comment Date\",\n",
    "    \"Specimen Received Date\",\n",
    "    \"Specimen Received Date.1\",\n",
    "    \"Admit Date\",\n",
    "    \"Specimen Collection Date\",\n",
    "    \"Visit Date\"\n",
    "]\n",
    "test[dt_cols]"
   ]
  },
  {
   "cell_type": "code",
   "execution_count": 18,
   "id": "9d5f49bd-6537-41b6-bb3f-6760af99aab8",
   "metadata": {},
   "outputs": [
    {
     "data": {
      "text/plain": [
       "array(['LDL-CHOLESTEROL,CALCULATED', 'CHOLESTEROL,TG,HDL,LDL',\n",
       "       'LDL-CHOLESTEROL,DIRECT'], dtype=object)"
      ]
     },
     "execution_count": 18,
     "metadata": {},
     "output_type": "execute_result"
    }
   ],
   "source": [
    "# check LDL-C Tests\n",
    "(test.loc[test[\"Lab Resulted Order Test Description\"].str.contains(\"LDL\", case=False)]\n",
    " [[\"Patient ID\", \"Lab Resulted Order Test Description\", \"Result Value\"]])[\"Lab Resulted Order Test Description\"].unique()"
   ]
  },
  {
   "cell_type": "code",
   "execution_count": 19,
   "id": "5626e595-bb32-48e5-9b40-24affdead0c0",
   "metadata": {},
   "outputs": [
    {
     "data": {
      "text/plain": [
       "array(['CHOLESTEROL,TG,HDL,LDL', 'LDL-CHOLESTEROL,DIRECT'], dtype=object)"
      ]
     },
     "execution_count": 19,
     "metadata": {},
     "output_type": "execute_result"
    }
   ],
   "source": [
    "# check LDL-C Tests\n",
    "(test.loc[test[\"Lab Test Description\"].str.contains(\"LDL\", case=False)]\n",
    " [[\"Patient ID\", \"Lab Test Description\", \"Result Value\"]])[\"Lab Test Description\"].unique()"
   ]
  },
  {
   "cell_type": "code",
   "execution_count": 20,
   "id": "fa7e6d80-6ff7-4e28-b1ed-6918f2cc67bf",
   "metadata": {},
   "outputs": [
    {
     "data": {
      "text/plain": [
       "['tsh',\n",
       " 'bilirubin, total',\n",
       " 'protein, total urine',\n",
       " 'protein tot u 24h',\n",
       " 'creatinine',\n",
       " 'creatinine, poct',\n",
       " 'egfr',\n",
       " 'hba1c',\n",
       " 'hba1c, poct',\n",
       " 'hba1c, rapid',\n",
       " 'glucose, fasting']"
      ]
     },
     "execution_count": 20,
     "metadata": {},
     "output_type": "execute_result"
    }
   ],
   "source": [
    "# # check values on secondary conditions related to hypocholesterolemia\n",
    "# for i in utils.secondary_labs_st:\n",
    "#     print(i.upper())\n",
    "[i.lower() for i in utils.secondary_labs_st]"
   ]
  },
  {
   "cell_type": "code",
   "execution_count": 21,
   "id": "ca7ea690-3163-4378-a1aa-d64c20f39fd1",
   "metadata": {},
   "outputs": [
    {
     "name": "stderr",
     "output_type": "stream",
     "text": [
      "100%|███████████████████████████████████████████| 48/48 [00:58<00:00,  1.22s/it]\n"
     ]
    }
   ],
   "source": [
    "# test orders dictionary\n",
    "df_list = [pd.read_csv(path, low_memory=False) for path in tqdm(lab_fp_list)]\n",
    "df = pd.concat(df_list, ignore_index=True)"
   ]
  },
  {
   "cell_type": "code",
   "execution_count": 22,
   "id": "bb5a64b4-a7e9-48c4-b1c6-699cbcfb9bd3",
   "metadata": {},
   "outputs": [],
   "source": [
    "# df.info()"
   ]
  },
  {
   "cell_type": "code",
   "execution_count": 23,
   "id": "8d2bdd96-164c-4e87-8e26-1fa014829f23",
   "metadata": {},
   "outputs": [],
   "source": [
    "# create vocabulary of test orders\n",
    "test_orders_vocab = df[\"Lab Resulted Order Test Description\"].unique().tolist()"
   ]
  },
  {
   "cell_type": "code",
   "execution_count": 24,
   "id": "d69f4f3b-d553-40fd-89cc-cb15524a7194",
   "metadata": {},
   "outputs": [
    {
     "data": {
      "text/plain": [
       "['TSH RECEPTOR ANTIBODY',\n",
       " 'FREE THYROXINE,TSH',\n",
       " 'TSH,CORD BLOOD',\n",
       " 'TSH-CONGENITAL HYPOTHYROID SCR',\n",
       " 'TSH RECEPTOR ANTIBODIES (TRAb)']"
      ]
     },
     "execution_count": 24,
     "metadata": {},
     "output_type": "execute_result"
    }
   ],
   "source": [
    "[i for i in test_orders_vocab if \"tsh\" in i.lower()]"
   ]
  },
  {
   "cell_type": "code",
   "execution_count": 25,
   "id": "9ab3e176-5a34-43dd-b48b-c7f8d62db281",
   "metadata": {},
   "outputs": [
    {
     "data": {
      "text/plain": [
       "['BILIRUBIN,TOTAL',\n",
       " 'BILIRUBIN,DIRECT',\n",
       " 'TOTAL BILIRUBIN,FLUID',\n",
       " 'BILIRUBIN DIPSTIX',\n",
       " 'BILIRUBIN,PAEDIATRIC',\n",
       " 'BILIRUBIN DIRECT,FLUID']"
      ]
     },
     "execution_count": 25,
     "metadata": {},
     "output_type": "execute_result"
    }
   ],
   "source": [
    "[i for i in test_orders_vocab if \"bilirubin\" in i.lower()]"
   ]
  },
  {
   "cell_type": "code",
   "execution_count": 26,
   "id": "53c8f48c-3bf5-44f5-9361-2032b9232702",
   "metadata": {},
   "outputs": [
    {
     "data": {
      "text/plain": [
       "['PROTEIN,TOTAL',\n",
       " 'C REACTIVE PROTEIN',\n",
       " 'PROTEIN,URINE',\n",
       " 'URINE PROTEIN/CRE RATIO',\n",
       " 'PROTEIN,24HR URINE',\n",
       " 'ALPHAFOETO PROTEIN',\n",
       " 'PROTEIN, TOTAL (PE)',\n",
       " 'URINE PROTEIN ELECTROPHORESIS',\n",
       " 'URINE TOTAL PROTEIN',\n",
       " 'PROTEIN C',\n",
       " 'PROTEIN S (TOTAL)',\n",
       " 'URINE PROTEIN',\n",
       " 'T.PROTEIN,CSF',\n",
       " 'T.PROTEIN,FLUID',\n",
       " 'SERUM PROTEIN ELECTROPHORESIS',\n",
       " 'PROTEIN S-FREE',\n",
       " 'PROTEIN DIPSTIX',\n",
       " 'PROTEIN S (FUNCTIONAL)',\n",
       " 'UR PROTEIN/CRE RATIO PROFILE',\n",
       " 'PREG ASSOC PLASMA PROTEIN A',\n",
       " 'GPI-PROTEIN',\n",
       " 'ALPHAFOETO PROTEIN,FLUID',\n",
       " 'APOLIPOPROTEIN A-1',\n",
       " 'APOLIPOPROTEIN B',\n",
       " 'PROTEIN.T/ALBUMIN',\n",
       " '24HR U PROTEIN ELECTROPHORESIS']"
      ]
     },
     "execution_count": 26,
     "metadata": {},
     "output_type": "execute_result"
    }
   ],
   "source": [
    "[i for i in test_orders_vocab if \"protein\" in i.lower()]"
   ]
  },
  {
   "cell_type": "code",
   "execution_count": 27,
   "id": "73293565-36d3-487b-9285-8daeb6fee5cf",
   "metadata": {},
   "outputs": [
    {
     "data": {
      "text/plain": [
       "['PROTEIN,URINE',\n",
       " 'URINE PROTEIN/CRE RATIO',\n",
       " 'PROTEIN,24HR URINE',\n",
       " 'URINE PROTEIN ELECTROPHORESIS',\n",
       " 'URINE TOTAL PROTEIN',\n",
       " 'URINE PROTEIN']"
      ]
     },
     "execution_count": 27,
     "metadata": {},
     "output_type": "execute_result"
    }
   ],
   "source": [
    "[i for i in test_orders_vocab if \"urine\" in i.lower() and \"protein\" in i.lower()]"
   ]
  },
  {
   "cell_type": "code",
   "execution_count": 28,
   "id": "5eb8dbf4-ec95-43fd-96bc-344a20dbda9b",
   "metadata": {},
   "outputs": [
    {
     "data": {
      "text/plain": [
       "['CREATININE',\n",
       " 'CREATININE,URINE',\n",
       " 'CREATININE,FLUID',\n",
       " '24HR URINE CREATININE',\n",
       " 'CREATININE CLEARANCE',\n",
       " 'CREATININE,UR (CALC)',\n",
       " 'MICROALB/CREATININE',\n",
       " 'GLUCOSE,CREATININE',\n",
       " 'CREATININE CLEARANCE TEST',\n",
       " 'VMA/CREATININE URINE',\n",
       " 'ALBUMIN/CREATININE RATIO,URINE',\n",
       " 'HVA/CREATININE URINE']"
      ]
     },
     "execution_count": 28,
     "metadata": {},
     "output_type": "execute_result"
    }
   ],
   "source": [
    "[i for i in test_orders_vocab if \"creatinine\" in i.lower()]"
   ]
  },
  {
   "cell_type": "code",
   "execution_count": 29,
   "id": "b2ff4021-b974-4a98-94a3-d03c8a2a7b2f",
   "metadata": {},
   "outputs": [
    {
     "data": {
      "text/plain": [
       "['EGFR MUTATION DETECTION',\n",
       " 'EGFR REAL TIME PCR',\n",
       " 'MDRD eGFR',\n",
       " 'CORRECTED CALC CG eGFR',\n",
       " 'CKD-EPI eGFR',\n",
       " 'RENAL PANEL WITH MDRD eGFR',\n",
       " 'RENAL PANEL WITH CKD-EPI eGFR',\n",
       " 'RENAL PANEL WITH CG eGFR',\n",
       " 'CG eGFR',\n",
       " 'BLOOD EGFR MUTATION ANALYSIS']"
      ]
     },
     "execution_count": 29,
     "metadata": {},
     "output_type": "execute_result"
    }
   ],
   "source": [
    "[i for i in test_orders_vocab if \"egfr\" in i.lower()]"
   ]
  },
  {
   "cell_type": "code",
   "execution_count": 30,
   "id": "0ea1c11d-2912-4c6d-a3df-47dd0fc36080",
   "metadata": {},
   "outputs": [
    {
     "data": {
      "text/plain": [
       "[]"
      ]
     },
     "execution_count": 30,
     "metadata": {},
     "output_type": "execute_result"
    }
   ],
   "source": [
    "# efgr - Estimated glomerular filtration rate\n",
    "[i for i in test_orders_vocab if \"glomerular\" in i.lower()]"
   ]
  },
  {
   "cell_type": "code",
   "execution_count": 31,
   "id": "5c4b582b-c2be-4370-b931-82332190f0d1",
   "metadata": {},
   "outputs": [
    {
     "data": {
      "text/plain": [
       "['HBA1C', 'HBA1C IFCC']"
      ]
     },
     "execution_count": 31,
     "metadata": {},
     "output_type": "execute_result"
    }
   ],
   "source": [
    "[i for i in test_orders_vocab if \"hba1c\" in i.lower()]"
   ]
  },
  {
   "cell_type": "code",
   "execution_count": 32,
   "id": "41d9dd7a-e86e-4049-b5d5-11d88413e850",
   "metadata": {},
   "outputs": [
    {
     "data": {
      "text/plain": [
       "['HBA1C', 'HBA1C IFCC']"
      ]
     },
     "execution_count": 32,
     "metadata": {},
     "output_type": "execute_result"
    }
   ],
   "source": [
    "[i for i in test_orders_vocab if \"hba\" in i.lower()]"
   ]
  },
  {
   "cell_type": "code",
   "execution_count": 33,
   "id": "a062adce-cfc9-4718-8073-254ed7011e05",
   "metadata": {},
   "outputs": [
    {
     "data": {
      "text/plain": [
       "['GLUCOSE',\n",
       " 'GLUCOSE,POCT',\n",
       " 'GLUCOSE,PLASMA FASTING',\n",
       " 'GLUCOSE DIPSTIX',\n",
       " 'GLUCOSE,PLASMA',\n",
       " 'GLUCOSE,CSF',\n",
       " 'GLUCOSE,FLUID',\n",
       " 'GLUCOSE 120 MIN',\n",
       " 'GLUCOSE FASTING',\n",
       " 'URINE GLUCOSE',\n",
       " 'GLUCOSE,CREATININE',\n",
       " 'GLUCOSE 60 MIN',\n",
       " 'GLUCOSE TOLERANCE 2 SPEC',\n",
       " 'GLUCOSE TOLERANCE 3 SPEC']"
      ]
     },
     "execution_count": 33,
     "metadata": {},
     "output_type": "execute_result"
    }
   ],
   "source": [
    "[i for i in test_orders_vocab if \"glucose\" in i.lower()]"
   ]
  },
  {
   "cell_type": "code",
   "execution_count": 34,
   "id": "067e31ed-2d8e-4993-8948-33b7c20126c7",
   "metadata": {},
   "outputs": [
    {
     "data": {
      "text/plain": [
       "[]"
      ]
     },
     "execution_count": 34,
     "metadata": {},
     "output_type": "execute_result"
    }
   ],
   "source": [
    "[i for i in test_orders_vocab if \"rapid\" in i.lower()]"
   ]
  },
  {
   "cell_type": "code",
   "execution_count": 35,
   "id": "b345d572-234d-4db2-b972-bbc92ffdba58",
   "metadata": {},
   "outputs": [
    {
     "data": {
      "text/plain": [
       "['GLUCOSE,PLASMA FASTING', 'GLUCOSE FASTING']"
      ]
     },
     "execution_count": 35,
     "metadata": {},
     "output_type": "execute_result"
    }
   ],
   "source": [
    "[i for i in test_orders_vocab if \"fasting\" in i.lower()]"
   ]
  },
  {
   "cell_type": "code",
   "execution_count": 36,
   "id": "67b18651-205c-44f8-b4fb-65b5e7fa12e3",
   "metadata": {},
   "outputs": [
    {
     "data": {
      "text/plain": [
       "[]"
      ]
     },
     "execution_count": 36,
     "metadata": {},
     "output_type": "execute_result"
    }
   ],
   "source": [
    "[i for i in test_orders_vocab if \"poct\" in i.lower() and \"creatinine\" in i.lower()]"
   ]
  },
  {
   "cell_type": "code",
   "execution_count": 37,
   "id": "7e918c4d-ebc8-47c5-84ac-508f673b3624",
   "metadata": {},
   "outputs": [
    {
     "data": {
      "text/plain": [
       "['GLUCOSE,POCT',\n",
       " 'BE,POCT',\n",
       " 'CALCIUM,IONIC POCT',\n",
       " 'Hct,POCT',\n",
       " 'POTASSIUM,POCT',\n",
       " 'SODIUM,POCT',\n",
       " 'pCO2,POCT',\n",
       " 'pH,BLOOD POCT',\n",
       " 'pO2,POCT',\n",
       " 'O2 SAT,POCT',\n",
       " 'STD BICARBONATE,POCT',\n",
       " 'tHb,POCT',\n",
       " 'CHLORIDE,POCT',\n",
       " 'COHb,POCT',\n",
       " 'HHb,POCT',\n",
       " 'MetHb,POCT',\n",
       " 'O2 Hb,POCT',\n",
       " 'INR,POCT',\n",
       " 'LACTATE,POCT']"
      ]
     },
     "execution_count": 37,
     "metadata": {},
     "output_type": "execute_result"
    }
   ],
   "source": [
    "[i for i in test_orders_vocab if \"poct\" in i.lower()]"
   ]
  },
  {
   "cell_type": "code",
   "execution_count": null,
   "id": "003f0396-e5df-45c4-8942-fa176eed0a21",
   "metadata": {},
   "outputs": [],
   "source": []
  }
 ],
 "metadata": {
  "kernelspec": {
   "display_name": "basic-ds-toolkit",
   "language": "python",
   "name": "basic-ds-toolkit"
  },
  "language_info": {
   "codemirror_mode": {
    "name": "ipython",
    "version": 3
   },
   "file_extension": ".py",
   "mimetype": "text/x-python",
   "name": "python",
   "nbconvert_exporter": "python",
   "pygments_lexer": "ipython3",
   "version": "3.12.1"
  }
 },
 "nbformat": 4,
 "nbformat_minor": 5
}
