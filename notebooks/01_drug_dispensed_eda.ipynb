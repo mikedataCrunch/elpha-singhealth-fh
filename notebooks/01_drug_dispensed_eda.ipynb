{
 "cells": [
  {
   "cell_type": "code",
   "execution_count": 1,
   "id": "c41dc841-84b5-4d58-9b9a-7c49861a32d2",
   "metadata": {},
   "outputs": [],
   "source": [
    "%load_ext autoreload\n",
    "%autoreload 2"
   ]
  },
  {
   "cell_type": "code",
   "execution_count": 2,
   "id": "84b80695-a6bd-4208-a3dd-e983f177ab19",
   "metadata": {},
   "outputs": [],
   "source": [
    "import os, sys\n",
    "from dotenv import load_dotenv\n",
    "load_dotenv(\"../.env\")  # take environment variables\n",
    "PROJECT_ROOT = os.environ.get(\"PROJECT_ROOT\")\n",
    "sys.path.append(PROJECT_ROOT)\n",
    "\n",
    "import numpy as np\n",
    "import pandas as pd\n",
    "from glob import glob\n",
    "\n",
    "from datetime import datetime\n",
    "import utils.PATHS as PATHS\n",
    "import utils.utils as utils\n",
    "# import utils.emr_utils as emr_utils\n",
    "# import utils.load_utils as load_utils"
   ]
  },
  {
   "cell_type": "markdown",
   "id": "8315f781-c0ce-45c6-8c07-f557ba56dd4a",
   "metadata": {},
   "source": [
    "## Notes\n",
    "\n",
    "The following were observed in the exploration below:\n",
    "* Potentially useful prescription-related columns:\n",
    "    - `Generic Drug Name`\n",
    "* Consider datetime columns as reference for how long medication has been going in relation to lipid-lowering treatment"
   ]
  },
  {
   "cell_type": "code",
   "execution_count": 3,
   "id": "80bb24d4-2077-4775-ac6f-9ad6cb9a37d7",
   "metadata": {},
   "outputs": [],
   "source": [
    "dd_fp_list = glob(os.path.join(PATHS.DRUG_DISPENSED, \"*.csv\"))"
   ]
  },
  {
   "cell_type": "code",
   "execution_count": 4,
   "id": "fc2bdf54-c091-4341-be83-b934362a2716",
   "metadata": {},
   "outputs": [
    {
     "name": "stdout",
     "output_type": "stream",
     "text": [
      "<class 'pandas.core.frame.DataFrame'>\n",
      "RangeIndex: 145344 entries, 0 to 145343\n",
      "Data columns (total 33 columns):\n",
      " #   Column                     Non-Null Count   Dtype  \n",
      "---  ------                     --------------   -----  \n",
      " 0   Institution Code           145344 non-null  object \n",
      " 1   Patient ID                 145344 non-null  object \n",
      " 2   Date of Birth              145344 non-null  object \n",
      " 3   Gender                     145344 non-null  object \n",
      " 4   Race                       145337 non-null  object \n",
      " 5   Country of Residence       2395 non-null    object \n",
      " 6   Resident Indicator         145339 non-null  object \n",
      " 7   Case No                    145344 non-null  object \n",
      " 8   Visit No                   145344 non-null  object \n",
      " 9   Drug Code                  3245 non-null    object \n",
      " 10  Drug Name                  145344 non-null  object \n",
      " 11  Drug Strength              127116 non-null  object \n",
      " 12  Drug Form                  140466 non-null  object \n",
      " 13  Generic Drug Id            140466 non-null  object \n",
      " 14  Generic Drug Name          140466 non-null  object \n",
      " 15  DRG Code                   145344 non-null  object \n",
      " 16  DRG Code (AR-DRG V6.0)     145344 non-null  object \n",
      " 17  Drug Status                140689 non-null  object \n",
      " 18  Item Primary UOM           140957 non-null  object \n",
      " 19  Drug Prescribed Date From  145344 non-null  object \n",
      " 20  Drug Prescribed Date To    145344 non-null  object \n",
      " 21  Admit/Visit Date           145344 non-null  object \n",
      " 22  Case Start Date            0 non-null       float64\n",
      " 23  Case End Date              0 non-null       float64\n",
      " 24  Add Date                   145344 non-null  object \n",
      " 25  Start Date                 145344 non-null  object \n",
      " 26  Prescribed Quantity UOM    139872 non-null  object \n",
      " 27  Admit Source Code          145344 non-null  object \n",
      " 28  Admit Source Description   145344 non-null  object \n",
      " 29  Case Status Code           145344 non-null  object \n",
      " 30  Case Status Description    145344 non-null  object \n",
      " 31  Case Type Code             145344 non-null  object \n",
      " 32  Case Type Description      145344 non-null  object \n",
      "dtypes: float64(2), object(31)\n",
      "memory usage: 36.6+ MB\n"
     ]
    }
   ],
   "source": [
    "test = pd.read_csv(dd_fp_list[0])\n",
    "test.info()"
   ]
  },
  {
   "cell_type": "markdown",
   "id": "cbd5dc8e-14ed-4a78-b54c-14f71bb84d01",
   "metadata": {},
   "source": [
    "## Questions\n",
    "\n",
    "1. What to do when combinations within the lookback were observed?\n",
    "2. The statin + ____ prescriptions should be addressed within lookback?"
   ]
  },
  {
   "cell_type": "code",
   "execution_count": 5,
   "id": "722f91ea-0399-4bc2-92fb-2c949968f8aa",
   "metadata": {},
   "outputs": [
    {
     "ename": "SyntaxError",
     "evalue": "invalid syntax (3421979923.py, line 3)",
     "output_type": "error",
     "traceback": [
      "\u001b[0;36m  Cell \u001b[0;32mIn[5], line 3\u001b[0;36m\u001b[0m\n\u001b[0;31m    \"pravastatin sodium\": ,  # 20MG\u001b[0m\n\u001b[0m                          ^\u001b[0m\n\u001b[0;31mSyntaxError\u001b[0m\u001b[0;31m:\u001b[0m invalid syntax\n"
     ]
    }
   ],
   "source": [
    "# SPECIAL CORRECTION FACTORS\n",
    "{\n",
    "    \"pravastatin sodium\": ,  # 20MG\n",
    "    \"ezetimibe,simvastatin tab\" : , # 10/10, 10/20\n",
    "    \"ezetimibe\": , # 10mg\n",
    "    \"simvastatin\": , # 10mg, 20mg\n",
    "    \"atorvastatin\": , # 10mg, 40mg, 20mg\n",
    "    \"rosuvastatin\": , # 10MG, 20MG\n",
    "\n",
    "\n",
    "    \"lovastatin\": , # 20mg\n",
    "    \"metronidazole, nystatin\": , # 500mg, 100,000 unit    \n",
    "    \"nystatin\": , # 100,000IU\n",
    "} "
   ]
  },
  {
   "cell_type": "code",
   "execution_count": null,
   "id": "03ce9ca9-759a-48a0-bbe5-5ff0709d9af5",
   "metadata": {},
   "outputs": [],
   "source": [
    "test = test.dropna(subset=[\"Generic Drug Name\"])"
   ]
  },
  {
   "cell_type": "code",
   "execution_count": null,
   "id": "fce6b067-a0e4-436e-9e47-64af0b877c26",
   "metadata": {},
   "outputs": [],
   "source": [
    "test[\"Generic Drug Name\"] = test[\"Generic Drug Name\"].str.lower()"
   ]
  },
  {
   "cell_type": "code",
   "execution_count": null,
   "id": "fe77c46a-07a2-4f26-95b9-f3210edfb818",
   "metadata": {},
   "outputs": [],
   "source": [
    "drug_name = \"nystatin\"\n",
    "# drug_name = \"statin\"\n",
    "sub = test[test[\"Generic Drug Name\"].str.startswith(drug_name)][[\"Generic Drug Name\", \"Drug Strength\"]]\n",
    "display(sub.head())\n",
    "display(sub[\"Generic Drug Name\"].unique())\n",
    "display(sub[\"Drug Strength\"].unique())"
   ]
  },
  {
   "cell_type": "code",
   "execution_count": null,
   "id": "497e6df9-8415-494e-b33d-9e0f03ea0fd7",
   "metadata": {},
   "outputs": [],
   "source": [
    "test[[\"Generic Drug Name\", \"Prescribed Quantity UOM\",]]"
   ]
  },
  {
   "cell_type": "code",
   "execution_count": null,
   "id": "7a9f5a21-c200-45de-910f-bef2d8433a37",
   "metadata": {},
   "outputs": [],
   "source": [
    "test[[\"Prescribed Quantity UOM\", \"Item Primary UOM\", \"Drug Strength\", \"Drug Form\"]].head(20)"
   ]
  },
  {
   "cell_type": "code",
   "execution_count": null,
   "id": "b6b8cdc2-166d-4771-95b9-299d22a2b999",
   "metadata": {},
   "outputs": [],
   "source": [
    "test.iloc[:,-8:]"
   ]
  },
  {
   "cell_type": "code",
   "execution_count": null,
   "id": "5e3a021e-a58c-4bc8-91a0-8787ae090c4b",
   "metadata": {},
   "outputs": [],
   "source": [
    "test[[\"Add Date\", \"Start Date\"]].head(200)"
   ]
  },
  {
   "cell_type": "code",
   "execution_count": null,
   "id": "eef9dac2-1077-4bee-ba7b-dfe6638c9f72",
   "metadata": {},
   "outputs": [],
   "source": [
    "test[[\"Case Start Date\", \"Case End Date\"]].head(200)"
   ]
  },
  {
   "cell_type": "code",
   "execution_count": null,
   "id": "87b27e97-c979-4b79-83fb-ad71f383b430",
   "metadata": {},
   "outputs": [],
   "source": [
    "test[[\"Drug Prescribed Date From\", \"Drug Prescribed Date To\"]].head(200)"
   ]
  },
  {
   "cell_type": "code",
   "execution_count": null,
   "id": "6631549d-87aa-4123-9e82-0f5342867f02",
   "metadata": {},
   "outputs": [],
   "source": [
    "test[[\"Drug Code\", \"Drug Name\", \"Drug Strength\", \"Drug Form\", \"Generic Drug Id\", \"Generic Drug Name\", \"DRG Code\", \"DRG Code (AR-DRG V6.0)\"]]"
   ]
  },
  {
   "cell_type": "code",
   "execution_count": null,
   "id": "67738779-d991-4623-a51f-947f6a28c7c0",
   "metadata": {},
   "outputs": [],
   "source": [
    "# \"DRG Code\", \"DRG Code (AR-DRG V6.0)\" # diagnosis related group\n",
    "test[\"DRG Code\"].value_counts()"
   ]
  },
  {
   "cell_type": "code",
   "execution_count": null,
   "id": "b28cd074-dc08-414c-9545-744afb4518b9",
   "metadata": {},
   "outputs": [],
   "source": [
    "test[\"DRG Code (AR-DRG V6.0)\"].value_counts()"
   ]
  },
  {
   "cell_type": "code",
   "execution_count": null,
   "id": "2d82a562-29e3-4a7c-83e3-468650724cd0",
   "metadata": {},
   "outputs": [],
   "source": [
    "test[\"Drug Status\"].value_counts()"
   ]
  },
  {
   "cell_type": "code",
   "execution_count": null,
   "id": "c925d47f-b20d-4f0b-bbea-145e6048faa7",
   "metadata": {},
   "outputs": [],
   "source": [
    "test.head()"
   ]
  },
  {
   "cell_type": "markdown",
   "id": "18af4817-27d5-4400-8a44-e16a3f3b7073",
   "metadata": {},
   "source": [
    "## End."
   ]
  }
 ],
 "metadata": {
  "kernelspec": {
   "display_name": "basic-ds-toolkit",
   "language": "python",
   "name": "basic-ds-toolkit"
  },
  "language_info": {
   "codemirror_mode": {
    "name": "ipython",
    "version": 3
   },
   "file_extension": ".py",
   "mimetype": "text/x-python",
   "name": "python",
   "nbconvert_exporter": "python",
   "pygments_lexer": "ipython3",
   "version": "3.12.7"
  }
 },
 "nbformat": 4,
 "nbformat_minor": 5
}
