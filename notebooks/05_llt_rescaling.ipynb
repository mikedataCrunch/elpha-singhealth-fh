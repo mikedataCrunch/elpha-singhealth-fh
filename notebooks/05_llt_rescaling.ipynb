{
 "cells": [
  {
   "cell_type": "code",
   "execution_count": 1,
   "id": "c41dc841-84b5-4d58-9b9a-7c49861a32d2",
   "metadata": {},
   "outputs": [],
   "source": [
    "%load_ext autoreload\n",
    "%autoreload 2"
   ]
  },
  {
   "cell_type": "code",
   "execution_count": 2,
   "id": "84b80695-a6bd-4208-a3dd-e983f177ab19",
   "metadata": {},
   "outputs": [
    {
     "name": "stderr",
     "output_type": "stream",
     "text": [
      "/Users/mdorosan/miniconda3/envs/basic-ds-toolkit/lib/python3.12/site-packages/pandas/core/arrays/masked.py:60: UserWarning: Pandas requires version '1.3.6' or newer of 'bottleneck' (version '1.3.5' currently installed).\n",
      "  from pandas.core import (\n"
     ]
    }
   ],
   "source": [
    "import os\n",
    "import numpy as np\n",
    "import pandas as pd\n",
    "import sys\n",
    "from glob import glob\n",
    "REPO_DIR = \"/Users/mdorosan/Desktop/2024/elpha-singhealth-fh\"\n",
    "sys.path.append(REPO_DIR)\n",
    "from tqdm import tqdm\n",
    "from datetime import datetime\n",
    "\n",
    "import utils.PATHS as PATHS\n",
    "import utils.utils as utils\n",
    "# import utils.emr_utils as emr_utils\n",
    "# import utils.load_utils as load_utils"
   ]
  },
  {
   "cell_type": "markdown",
   "id": "b4157b74-d1f6-44da-a79b-c1f65f5fa34c",
   "metadata": {},
   "source": [
    "# Lipid-lowering treatment criteria for scaling of LDL-C values"
   ]
  },
  {
   "cell_type": "markdown",
   "id": "8315f781-c0ce-45c6-8c07-f557ba56dd4a",
   "metadata": {},
   "source": [
    "## Notes\n",
    "\n",
    "* Drug dispensed data for each patient is based on the `Generic Drug Name` column\n",
    "* Currently the `Drug Prescribed Date From` is used as reference as `Drug Prescribed Date To` may go beyond the `Index Date` from the previous notebook.\n",
    "* This notebook proceeds as follows:\n",
    "   1. Creation of a patient list according to lipid-lowering treatment (LLT) criteria\n",
    "   2. Scaling the LDL-C values accordingly, i.e., dividing LDL-C values 0.7 (confirm if this is divide or multiple like a scaling factor)\n",
    "   3. Segmentation of cohort according to scaled LDL-C thresholds\n",
    "      - Cases: LDL-C >= `4.9`\n",
    "      - Unknown: `3.36` < LDL-C < `4.9`\n",
    "      - Controls: LDL-C <= `3.36`"
   ]
  },
  {
   "cell_type": "markdown",
   "id": "cbc2a06c-1811-457a-86f3-549e2528ad9f",
   "metadata": {},
   "source": [
    "## 1. LLT criteria patient list"
   ]
  },
  {
   "cell_type": "code",
   "execution_count": 3,
   "id": "80bb24d4-2077-4775-ac6f-9ad6cb9a37d7",
   "metadata": {},
   "outputs": [
    {
     "name": "stderr",
     "output_type": "stream",
     "text": [
      "100%|███████████████████████████████████████████| 48/48 [01:17<00:00,  1.62s/it]\n"
     ]
    }
   ],
   "source": [
    "dd_fp_list = glob(os.path.join(PATHS.DRUG_DISPENSED, \"*.csv\"))\n",
    "\n",
    "# general labs dataframe\n",
    "df_list = [pd.read_csv(path, low_memory=False) for path in tqdm(dd_fp_list)]\n",
    "df = pd.concat(df_list, ignore_index=True)"
   ]
  },
  {
   "cell_type": "code",
   "execution_count": 4,
   "id": "980febb1-6b71-4b07-af96-d0c1dd97fbd6",
   "metadata": {},
   "outputs": [],
   "source": [
    "drug_name_col = \"Generic Drug Name\"\n",
    "pid_col = \"Patient ID\"\n",
    "date_col = \"Drug Prescribed Date From\"\n",
    "\n",
    "# see utils.llt_meds for list of relevant prescriptions\n",
    "llt = df[df[drug_name_col].str.lower().isin(utils.llt_meds)]"
   ]
  },
  {
   "cell_type": "code",
   "execution_count": 5,
   "id": "0ebf4583-e935-4a86-9976-ecab02ae6370",
   "metadata": {},
   "outputs": [
    {
     "name": "stderr",
     "output_type": "stream",
     "text": [
      "/var/folders/8l/dm4zrq7953jcg1whmk8m0my80000gn/T/ipykernel_95904/2589855881.py:2: SettingWithCopyWarning: \n",
      "A value is trying to be set on a copy of a slice from a DataFrame.\n",
      "Try using .loc[row_indexer,col_indexer] = value instead\n",
      "\n",
      "See the caveats in the documentation: https://pandas.pydata.org/pandas-docs/stable/user_guide/indexing.html#returning-a-view-versus-a-copy\n",
      "  llt[date_col] = pd.to_datetime(llt[date_col])\n"
     ]
    }
   ],
   "source": [
    "# prep datetime cols\n",
    "llt[date_col] = pd.to_datetime(llt[date_col])"
   ]
  },
  {
   "cell_type": "markdown",
   "id": "259e3120-f17c-413c-b29a-0dc95bd12edd",
   "metadata": {},
   "source": [
    "## 2. Scaling the LDL-C values"
   ]
  },
  {
   "cell_type": "code",
   "execution_count": 6,
   "id": "e2cae4df-fd27-4524-ae41-50f904ff11ff",
   "metadata": {},
   "outputs": [],
   "source": [
    "path = os.path.join(REPO_DIR, \"results\", \"ldlc_valid_18_nontg_index.csv\")\n",
    "ldlc_valid_18_nontg_index = pd.read_csv(path)"
   ]
  },
  {
   "cell_type": "code",
   "execution_count": 7,
   "id": "667c557a-5838-436a-9467-1256cfb491b8",
   "metadata": {},
   "outputs": [
    {
     "name": "stdout",
     "output_type": "stream",
     "text": [
      "<class 'pandas.core.frame.DataFrame'>\n",
      "RangeIndex: 24122 entries, 0 to 24121\n",
      "Data columns (total 3 columns):\n",
      " #   Column      Non-Null Count  Dtype  \n",
      "---  ------      --------------  -----  \n",
      " 0   Patient ID  24122 non-null  object \n",
      " 1   LDL-C Max   24122 non-null  float64\n",
      " 2   Index Date  24122 non-null  object \n",
      "dtypes: float64(1), object(2)\n",
      "memory usage: 565.5+ KB\n"
     ]
    }
   ],
   "source": [
    "ldlc_valid_18_nontg_index.info()"
   ]
  },
  {
   "cell_type": "code",
   "execution_count": 8,
   "id": "575f30b6-a6de-43fd-b685-a2b855b38422",
   "metadata": {},
   "outputs": [],
   "source": [
    "# prep datetime cols\n",
    "ldlc_valid_18_nontg_index[\"Index Date\"] = pd.to_datetime(\n",
    "    ldlc_valid_18_nontg_index[\"Index Date\"]\n",
    ")"
   ]
  },
  {
   "cell_type": "code",
   "execution_count": 9,
   "id": "85e772af-c31b-4503-bea3-a987dc3ce7dd",
   "metadata": {},
   "outputs": [],
   "source": [
    "def llt_recal(row):\n",
    "    pid = row[\"Patient ID\"]\n",
    "    index_date = row[\"Index Date\"]\n",
    "    temp_llt = llt[llt[pid_col] == pid]\n",
    "    \n",
    "    ## take only those records which are between 365 days and 42 days of index date\n",
    "    temp_llt = temp_llt[\n",
    "        (index_date - temp_llt[date_col] >= pd.Timedelta(days=42)) & \n",
    "        (index_date - temp_llt[date_col] <= pd.Timedelta(days=365))\n",
    "    ]\n",
    "    ## if not empty apply correction else do not\n",
    "    if (temp_llt.empty):\n",
    "        return row[\"LDL-C Max\"]\n",
    "    else:\n",
    "        return row[\"LDL-C Max\"] / 0.7\n",
    "    "
   ]
  },
  {
   "cell_type": "code",
   "execution_count": 10,
   "id": "57721d1c-4699-4753-9017-1fb5a17b47b7",
   "metadata": {},
   "outputs": [
    {
     "name": "stderr",
     "output_type": "stream",
     "text": [
      "100%|█████████████████████████████████████| 24122/24122 [07:15<00:00, 55.42it/s]\n"
     ]
    }
   ],
   "source": [
    "tqdm.pandas()\n",
    "\n",
    "ldlc_valid_18_nontg_index[\"Scaled LDL-C Max\"] = ldlc_valid_18_nontg_index.progress_apply(\n",
    "    llt_recal, axis=1\n",
    ")"
   ]
  },
  {
   "cell_type": "code",
   "execution_count": 11,
   "id": "b667f410-0888-4eb2-a8e1-2f2818287de3",
   "metadata": {},
   "outputs": [
    {
     "data": {
      "text/plain": [
       "1457"
      ]
     },
     "execution_count": 11,
     "metadata": {},
     "output_type": "execute_result"
    }
   ],
   "source": [
    "# number of cases scaled\n",
    "(ldlc_valid_18_nontg_index[\"LDL-C Max\"] != ldlc_valid_18_nontg_index[\"Scaled LDL-C Max\"]).sum()"
   ]
  },
  {
   "cell_type": "code",
   "execution_count": 12,
   "id": "3a861857-9207-4b5f-8ca8-7283da0ef0be",
   "metadata": {},
   "outputs": [
    {
     "data": {
      "text/html": [
       "<div>\n",
       "<style scoped>\n",
       "    .dataframe tbody tr th:only-of-type {\n",
       "        vertical-align: middle;\n",
       "    }\n",
       "\n",
       "    .dataframe tbody tr th {\n",
       "        vertical-align: top;\n",
       "    }\n",
       "\n",
       "    .dataframe thead th {\n",
       "        text-align: right;\n",
       "    }\n",
       "</style>\n",
       "<table border=\"1\" class=\"dataframe\">\n",
       "  <thead>\n",
       "    <tr style=\"text-align: right;\">\n",
       "      <th></th>\n",
       "      <th>Patient ID</th>\n",
       "      <th>LDL-C Max</th>\n",
       "      <th>Index Date</th>\n",
       "      <th>Scaled LDL-C Max</th>\n",
       "    </tr>\n",
       "  </thead>\n",
       "  <tbody>\n",
       "    <tr>\n",
       "      <th>26</th>\n",
       "      <td>0058f60fa347864cdd99</td>\n",
       "      <td>0.95</td>\n",
       "      <td>2016-12-04</td>\n",
       "      <td>1.357143</td>\n",
       "    </tr>\n",
       "    <tr>\n",
       "      <th>28</th>\n",
       "      <td>005fea938fa8e55e5b82</td>\n",
       "      <td>2.61</td>\n",
       "      <td>2017-12-11</td>\n",
       "      <td>3.728571</td>\n",
       "    </tr>\n",
       "    <tr>\n",
       "      <th>64</th>\n",
       "      <td>00c1792ab91a9dbfa06a</td>\n",
       "      <td>1.86</td>\n",
       "      <td>2015-06-23</td>\n",
       "      <td>2.657143</td>\n",
       "    </tr>\n",
       "    <tr>\n",
       "      <th>73</th>\n",
       "      <td>00db0b5981b442793f2b</td>\n",
       "      <td>3.53</td>\n",
       "      <td>2016-11-08</td>\n",
       "      <td>5.042857</td>\n",
       "    </tr>\n",
       "    <tr>\n",
       "      <th>99</th>\n",
       "      <td>010deabc7cacd3a7ecb4</td>\n",
       "      <td>1.29</td>\n",
       "      <td>2015-07-15</td>\n",
       "      <td>1.842857</td>\n",
       "    </tr>\n",
       "    <tr>\n",
       "      <th>...</th>\n",
       "      <td>...</td>\n",
       "      <td>...</td>\n",
       "      <td>...</td>\n",
       "      <td>...</td>\n",
       "    </tr>\n",
       "    <tr>\n",
       "      <th>24007</th>\n",
       "      <td>fea6bb891c7340c41edb</td>\n",
       "      <td>2.37</td>\n",
       "      <td>2016-10-22</td>\n",
       "      <td>3.385714</td>\n",
       "    </tr>\n",
       "    <tr>\n",
       "      <th>24054</th>\n",
       "      <td>ff2a9e32968dabeb4cbc</td>\n",
       "      <td>3.84</td>\n",
       "      <td>2016-05-10</td>\n",
       "      <td>5.485714</td>\n",
       "    </tr>\n",
       "    <tr>\n",
       "      <th>24056</th>\n",
       "      <td>ff38216f6e43cd9602c5</td>\n",
       "      <td>0.89</td>\n",
       "      <td>2018-10-18</td>\n",
       "      <td>1.271429</td>\n",
       "    </tr>\n",
       "    <tr>\n",
       "      <th>24059</th>\n",
       "      <td>ff3a413299e78f9b8598</td>\n",
       "      <td>3.87</td>\n",
       "      <td>2017-02-28</td>\n",
       "      <td>5.528571</td>\n",
       "    </tr>\n",
       "    <tr>\n",
       "      <th>24112</th>\n",
       "      <td>ffed72306d9970bafa2a</td>\n",
       "      <td>2.98</td>\n",
       "      <td>2016-08-22</td>\n",
       "      <td>4.257143</td>\n",
       "    </tr>\n",
       "  </tbody>\n",
       "</table>\n",
       "<p>1457 rows × 4 columns</p>\n",
       "</div>"
      ],
      "text/plain": [
       "                 Patient ID  LDL-C Max Index Date  Scaled LDL-C Max\n",
       "26     0058f60fa347864cdd99       0.95 2016-12-04          1.357143\n",
       "28     005fea938fa8e55e5b82       2.61 2017-12-11          3.728571\n",
       "64     00c1792ab91a9dbfa06a       1.86 2015-06-23          2.657143\n",
       "73     00db0b5981b442793f2b       3.53 2016-11-08          5.042857\n",
       "99     010deabc7cacd3a7ecb4       1.29 2015-07-15          1.842857\n",
       "...                     ...        ...        ...               ...\n",
       "24007  fea6bb891c7340c41edb       2.37 2016-10-22          3.385714\n",
       "24054  ff2a9e32968dabeb4cbc       3.84 2016-05-10          5.485714\n",
       "24056  ff38216f6e43cd9602c5       0.89 2018-10-18          1.271429\n",
       "24059  ff3a413299e78f9b8598       3.87 2017-02-28          5.528571\n",
       "24112  ffed72306d9970bafa2a       2.98 2016-08-22          4.257143\n",
       "\n",
       "[1457 rows x 4 columns]"
      ]
     },
     "execution_count": 12,
     "metadata": {},
     "output_type": "execute_result"
    }
   ],
   "source": [
    "ldlc_valid_18_nontg_index[ldlc_valid_18_nontg_index[\"LDL-C Max\"] != ldlc_valid_18_nontg_index[\"Scaled LDL-C Max\"]]"
   ]
  },
  {
   "cell_type": "code",
   "execution_count": 15,
   "id": "d7418736-01b4-41ac-bcb1-9feea1d20033",
   "metadata": {},
   "outputs": [],
   "source": [
    "##\n",
    "def segment(ldlc_val):\n",
    "    if ldlc_val >= 4.9:\n",
    "        return \"Cases\"\n",
    "    elif 3.36 < ldlc_val < 4.9:\n",
    "        return \"Unknown\"\n",
    "    elif ldlc_val <= 3.36:\n",
    "        return \"Control\"\n",
    "    else:\n",
    "        raise ValueError(\"Unable to handle ldlc_val.\")\n",
    "\n",
    "ldlc_valid_18_nontg_index[\"Category\"] = ldlc_valid_18_nontg_index[\"Scaled LDL-C Max\"].apply(segment)"
   ]
  },
  {
   "cell_type": "code",
   "execution_count": 18,
   "id": "50fef757-0361-4c88-824f-62a34ce30e82",
   "metadata": {},
   "outputs": [
    {
     "data": {
      "text/plain": [
       "Category\n",
       "Control    16569\n",
       "Unknown     6147\n",
       "Cases       1406\n",
       "Name: count, dtype: int64"
      ]
     },
     "execution_count": 18,
     "metadata": {},
     "output_type": "execute_result"
    }
   ],
   "source": [
    "ldlc_valid_18_nontg_index[\"Category\"].value_counts()"
   ]
  },
  {
   "cell_type": "code",
   "execution_count": null,
   "id": "dc4dc4ac-2ed7-4285-9902-de97a0c1c9bd",
   "metadata": {},
   "outputs": [],
   "source": [
    "# Add race/nationality filter in reporting results\n",
    "# Add table 1 using general lab data (main source, ldlc is the limiting feature)"
   ]
  },
  {
   "cell_type": "markdown",
   "id": "ed3ea18d-f703-44c6-9f2d-c9e2d3fb07fa",
   "metadata": {},
   "source": [
    "## End."
   ]
  }
 ],
 "metadata": {
  "kernelspec": {
   "display_name": "basic-ds-toolkit",
   "language": "python",
   "name": "basic-ds-toolkit"
  },
  "language_info": {
   "codemirror_mode": {
    "name": "ipython",
    "version": 3
   },
   "file_extension": ".py",
   "mimetype": "text/x-python",
   "name": "python",
   "nbconvert_exporter": "python",
   "pygments_lexer": "ipython3",
   "version": "3.12.1"
  }
 },
 "nbformat": 4,
 "nbformat_minor": 5
}
