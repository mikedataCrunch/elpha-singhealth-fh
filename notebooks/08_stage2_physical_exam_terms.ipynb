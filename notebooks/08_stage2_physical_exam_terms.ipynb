{
 "cells": [
  {
   "cell_type": "markdown",
   "id": "4b6cd7f7-91de-46ac-9337-5c67205dc0b5",
   "metadata": {},
   "source": [
    "# Creating a collection of Physical Exam terms\n",
    "\n",
    "This notebook covers the creation of references terms for CVD and CHD. This is done through the following steps:\n",
    "1. Creation of a dictionary based on the `Diagnosis` and `Problem List` subject areas\n",
    "2. Applying `fuzzy` or `spacy` based searches to get suitable thresholds.\n",
    "3. Implement a search based on a selected threshold.\n",
    "4. Save the search results and use as dictionary for later filtering."
   ]
  },
  {
   "cell_type": "code",
   "execution_count": 1,
   "id": "3233f2d9-1bcb-4371-95c8-37d2f513281f",
   "metadata": {},
   "outputs": [],
   "source": [
    "%load_ext autoreload\n",
    "%autoreload 2"
   ]
  },
  {
   "cell_type": "code",
   "execution_count": 2,
   "id": "699a4c64-654a-437a-a531-606c45aac99b",
   "metadata": {},
   "outputs": [],
   "source": [
    "import os, sys\n",
    "from dotenv import load_dotenv\n",
    "load_dotenv(\"../.env\")  # take environment variables\n",
    "PROJECT_ROOT = os.environ.get(\"PROJECT_ROOT\")\n",
    "sys.path.append(PROJECT_ROOT)\n",
    "import matplotlib.pyplot as plt\n",
    "import pandas as pd\n",
    "from glob import glob\n",
    "from tqdm import tqdm\n",
    "from datetime import datetime\n",
    "\n",
    "import utils.PATHS as PATHS\n",
    "import utils.utils as utils\n",
    "# import utils.emr_utils as emr_utils\n",
    "# import utils.load_utils as load_utils"
   ]
  },
  {
   "cell_type": "code",
   "execution_count": 3,
   "id": "1300a862-11a8-482b-9054-dfd557d820b4",
   "metadata": {},
   "outputs": [
    {
     "name": "stderr",
     "output_type": "stream",
     "text": [
      "100%|█████████████████████████████████████████████████████████| 4/4 [00:00<00:00,  4.16it/s]\n"
     ]
    }
   ],
   "source": [
    "dia_fp_list = glob(os.path.join(PATHS.DIAGNOSIS, \"*.csv\"))\n",
    "\n",
    "# general labs dataframe\n",
    "df_list = [pd.read_csv(path, low_memory=False) for path in tqdm(dia_fp_list)]\n",
    "dia_df = pd.concat(df_list, ignore_index=True)"
   ]
  },
  {
   "cell_type": "code",
   "execution_count": 4,
   "id": "ee98babf-4108-45ac-841f-2b7a8a3053d6",
   "metadata": {},
   "outputs": [
    {
     "data": {
      "text/plain": [
       "Index(['Institution Code', 'Patient ID', 'Gender', 'Race', 'Nationality',\n",
       "       'Date of Birth', 'Resident Indicator', 'Death Date', 'Diagnosis Code',\n",
       "       'Diagnosis Description', 'Diagnosis Catalogue Code',\n",
       "       'Diagnosis Code (ICD10)', 'Diagnosis Description (ICD10)',\n",
       "       'ILD Indicator (ICD10)', 'Diagnosis Date', 'Case No', 'eHIntS Case Id',\n",
       "       'Visit No', 'Admit/Visit Date', 'ICD10 Diagnosis Type',\n",
       "       'ICD10 Diagnosis Type2', 'Diagnosis Creation Date',\n",
       "       'Diagnosis Catalog Code', 'Diagnosis Catalogue Code.1',\n",
       "       'Diagnosis Catalogue Text Code', 'Diagnosis Catalogue Text Description',\n",
       "       'Reference Catalog Code', 'Reference Catalog Description', 'BMI',\n",
       "       'Height', 'Weight'],\n",
       "      dtype='object')"
      ]
     },
     "execution_count": 4,
     "metadata": {},
     "output_type": "execute_result"
    }
   ],
   "source": [
    "dia_df.columns"
   ]
  },
  {
   "cell_type": "code",
   "execution_count": 5,
   "id": "d15f8ec8-df1e-4b45-9f90-2a9d5f223c88",
   "metadata": {},
   "outputs": [
    {
     "name": "stderr",
     "output_type": "stream",
     "text": [
      "100%|█████████████████████████████████████████████████████████| 8/8 [00:15<00:00,  1.93s/it]\n"
     ]
    }
   ],
   "source": [
    "prl_fp_list = glob(os.path.join(PATHS.PROBLEM_LIST, \"*.csv\"))\n",
    "\n",
    "df_list = []\n",
    "for path in tqdm(prl_fp_list):\n",
    "    temp = pd.read_csv(path, low_memory=False)\n",
    "\n",
    "    # address div block at df tail\n",
    "    subset = temp.columns.tolist()\n",
    "    subset.remove(\"Visit Date\")\n",
    "    temp = temp.dropna(subset=subset, how=\"all\")\n",
    "\n",
    "    df_list.append(temp)\n",
    "    \n",
    "prl_df = pd.concat(df_list, ignore_index=True)"
   ]
  },
  {
   "cell_type": "code",
   "execution_count": 6,
   "id": "2744b9d7-5d33-4d24-aa1a-5f5dc8cf12b5",
   "metadata": {},
   "outputs": [
    {
     "data": {
      "text/plain": [
       "Index(['Visit Date', 'Institution', 'Case No', 'Visit No', 'Patient ID',\n",
       "       'Date of Birth', 'Race', 'Gender', 'Resident Indicator', 'Nationality',\n",
       "       'Problem Serial No', 'Problem Summary', 'Problem Code (Coded)',\n",
       "       'Problem Desc (Coded)', 'Coding Scheme (Coded)',\n",
       "       'Problem Shortname (Coded)', 'Problem Status', 'Problem Onset (Day)',\n",
       "       'Problem Onset (Month)', 'Problem Onset (Year)', 'Created Date',\n",
       "       'Entered Date', 'Resolved Date', 'Updated Date', 'Smoking',\n",
       "       'Smoking History', 'Smoking History.1'],\n",
       "      dtype='object')"
      ]
     },
     "execution_count": 6,
     "metadata": {},
     "output_type": "execute_result"
    }
   ],
   "source": [
    "prl_df.columns"
   ]
  },
  {
   "cell_type": "markdown",
   "id": "b8ce0385-f264-42ab-a579-8016d7ebb3ab",
   "metadata": {},
   "source": [
    "## Create dictionary"
   ]
  },
  {
   "cell_type": "markdown",
   "id": "8cdcdcf6-14b2-4fd7-8191-cec63b5ac8e2",
   "metadata": {},
   "source": [
    "### Diagnosis"
   ]
  },
  {
   "cell_type": "code",
   "execution_count": 7,
   "id": "8bc7e98c-e6cc-4760-bb3e-b229901b0453",
   "metadata": {},
   "outputs": [],
   "source": [
    "dia_dict = dia_df[['Diagnosis Code (ICD10)', 'Diagnosis Description (ICD10)']].drop_duplicates()"
   ]
  },
  {
   "cell_type": "markdown",
   "id": "09bf8857-bfd4-4eda-a477-bbc1f313713a",
   "metadata": {},
   "source": [
    "### Problem List"
   ]
  },
  {
   "cell_type": "code",
   "execution_count": 8,
   "id": "79c77771-84fe-4aba-bd75-420e89f023c4",
   "metadata": {},
   "outputs": [],
   "source": [
    "prl_dict = prl_df[['Problem Code (Coded)', 'Problem Desc (Coded)', 'Coding Scheme (Coded)']].drop_duplicates()"
   ]
  },
  {
   "cell_type": "markdown",
   "id": "51246e60-520d-482d-931b-cd49cdc58f21",
   "metadata": {},
   "source": [
    "## Thresholds EDA"
   ]
  },
  {
   "cell_type": "markdown",
   "id": "b7501643-a00c-4a32-bd94-3fdd3c6a1618",
   "metadata": {},
   "source": [
    "### Semantic similarity with `spaCy`\n",
    "\n",
    "SpaCy `Doc.vector` are averages of per token vectors. As stated in this documentation [link](https://spacy.io/api/doc#vector).\n",
    "> \"A real-valued meaning representation. Defaults to an average of the token vectors.\"\n",
    "\n",
    "Similarity is calculated as [cosine similarity using an average of word vectors.](https://spacy.io/api/doc#similarity)"
   ]
  },
  {
   "cell_type": "code",
   "execution_count": 9,
   "id": "c733dd14-07bb-4dfe-aea9-11112b89e298",
   "metadata": {},
   "outputs": [],
   "source": [
    "import spacy"
   ]
  },
  {
   "cell_type": "code",
   "execution_count": 10,
   "id": "ff680adc-e0b1-43a8-83b2-187defb15eda",
   "metadata": {},
   "outputs": [],
   "source": [
    "# !python -m spacy download en_core_web_lg\n",
    "# !python -m spacy download en_core_web_md\n",
    "# !python -m spacy download en_core_web_sm"
   ]
  },
  {
   "cell_type": "code",
   "execution_count": 11,
   "id": "7a509c43-0be1-4f8c-a2a7-588fffa8a919",
   "metadata": {},
   "outputs": [],
   "source": [
    "nlp = spacy.load(\"en_core_web_md\")\n",
    "# spacy.prefer_gpu()\n",
    "def get_similarity(term1, term2):\n",
    "    \"\"\"Get similarity using an NLP model.\"\"\"\n",
    "    if len(term2) == 0:\n",
    "        return 0\n",
    "    term1_vec = nlp(term1)\n",
    "    term2_vec = nlp(term2)\n",
    "    return term1_vec.similarity(term2_vec)"
   ]
  },
  {
   "cell_type": "code",
   "execution_count": 13,
   "id": "4424f9f4-6751-45ad-ab4c-ef54a3c71e11",
   "metadata": {},
   "outputs": [
    {
     "name": "stderr",
     "output_type": "stream",
     "text": [
      "  2%|█▎                                                  | 75/3013 [00:00<00:19, 147.80it/s]/tmp/ipykernel_41253/1688029613.py:9: UserWarning: [W008] Evaluating Doc.similarity based on empty vectors.\n",
      "  return term1_vec.similarity(term2_vec)\n",
      "100%|██████████████████████████████████████████████████| 3013/3013 [00:17<00:00, 171.21it/s]\n"
     ]
    }
   ],
   "source": [
    "tqdm.pandas()\n",
    "key_term = utils.physical_exam_xa_terms[0].lower()\n",
    "db_terms = dia_dict['Diagnosis Description (ICD10)'].str.lower()\n",
    "sims = db_terms.progress_apply(lambda x: get_similarity(key_term, x))"
   ]
  },
  {
   "cell_type": "code",
   "execution_count": 14,
   "id": "e0a47e5e-7d23-4ba4-91d1-2165771db26c",
   "metadata": {},
   "outputs": [
    {
     "data": {
      "image/png": "[encoded data removed]",
      "text/plain": [
       "<Figure size 640x480 with 1 Axes>"
      ]
     },
     "metadata": {},
     "output_type": "display_data"
    }
   ],
   "source": [
    "fig, ax = plt.subplots()\n",
    "sims.sort_values().plot.bar(ax=ax)\n",
    "ax.set_xticklabels([])\n",
    "plt.show()"
   ]
  },
  {
   "cell_type": "code",
   "execution_count": 15,
   "id": "de7ad63a-5789-4136-9a9d-0b524d3fe37f",
   "metadata": {},
   "outputs": [
    {
     "data": {
      "text/html": [
       "<div>\n",
       "<style scoped>\n",
       "    .dataframe tbody tr th:only-of-type {\n",
       "        vertical-align: middle;\n",
       "    }\n",
       "\n",
       "    .dataframe tbody tr th {\n",
       "        vertical-align: top;\n",
       "    }\n",
       "\n",
       "    .dataframe thead th {\n",
       "        text-align: right;\n",
       "    }\n",
       "</style>\n",
       "<table border=\"1\" class=\"dataframe\">\n",
       "  <thead>\n",
       "    <tr style=\"text-align: right;\">\n",
       "      <th></th>\n",
       "      <th>Diagnosis Code (ICD10)</th>\n",
       "      <th>Diagnosis Description (ICD10)</th>\n",
       "    </tr>\n",
       "  </thead>\n",
       "  <tbody>\n",
       "  </tbody>\n",
       "</table>\n",
       "</div>"
      ],
      "text/plain": [
       "Empty DataFrame\n",
       "Columns: [Diagnosis Code (ICD10), Diagnosis Description (ICD10)]\n",
       "Index: []"
      ]
     },
     "execution_count": 15,
     "metadata": {},
     "output_type": "execute_result"
    }
   ],
   "source": [
    "# sample terms\n",
    "threshold = 0.99\n",
    "dia_dict[sims >= threshold]"
   ]
  },
  {
   "cell_type": "markdown",
   "id": "93ef3a9e-290f-4f9f-843d-e88a00f0aa20",
   "metadata": {},
   "source": [
    "### Fuzzy Similarity with `thefuzz`"
   ]
  },
  {
   "cell_type": "code",
   "execution_count": 16,
   "id": "ec4a7441-af5f-4343-9161-5411f99fe195",
   "metadata": {},
   "outputs": [],
   "source": [
    "from thefuzz import fuzz"
   ]
  },
  {
   "cell_type": "code",
   "execution_count": 17,
   "id": "2822d655-acde-4295-982f-5236f66a1276",
   "metadata": {},
   "outputs": [],
   "source": [
    "# Check the similarity score\n",
    "def get_fuzz_similarity(term1, term2):\n",
    "    \"\"\"Get similarity using an NLP model.\"\"\"\n",
    "    if len(term2) == 0:\n",
    "        return 0\n",
    "    return fuzz.token_set_ratio(term1, term2)"
   ]
  },
  {
   "cell_type": "code",
   "execution_count": 19,
   "id": "e98c0ee4-9684-42bd-918d-753db32c379c",
   "metadata": {},
   "outputs": [
    {
     "name": "stderr",
     "output_type": "stream",
     "text": [
      "100%|███████████████████████████████████████████████| 3013/3013 [00:00<00:00, 114411.51it/s]\n"
     ]
    }
   ],
   "source": [
    "tqdm.pandas()\n",
    "key_term = utils.physical_exam_xa_terms[0].lower()\n",
    "db_terms = dia_dict['Diagnosis Description (ICD10)'].str.lower()\n",
    "sims = db_terms.progress_apply(lambda x: get_fuzz_similarity(key_term, x)) / 100"
   ]
  },
  {
   "cell_type": "code",
   "execution_count": 20,
   "id": "5757dc6b-f558-4a21-a033-f73a7dd970c3",
   "metadata": {},
   "outputs": [
    {
     "data": {
      "image/png": "[encoded data removed]",
      "text/plain": [
       "<Figure size 640x480 with 1 Axes>"
      ]
     },
     "metadata": {},
     "output_type": "display_data"
    }
   ],
   "source": [
    "fig, ax = plt.subplots()\n",
    "sims.sort_values().plot.bar(ax=ax)\n",
    "ax.set_xticklabels([])\n",
    "plt.show()"
   ]
  },
  {
   "cell_type": "code",
   "execution_count": 21,
   "id": "5c12cffe-2140-4e30-a365-f3709bacb7e6",
   "metadata": {},
   "outputs": [
    {
     "data": {
      "text/html": [
       "<div>\n",
       "<style scoped>\n",
       "    .dataframe tbody tr th:only-of-type {\n",
       "        vertical-align: middle;\n",
       "    }\n",
       "\n",
       "    .dataframe tbody tr th {\n",
       "        vertical-align: top;\n",
       "    }\n",
       "\n",
       "    .dataframe thead th {\n",
       "        text-align: right;\n",
       "    }\n",
       "</style>\n",
       "<table border=\"1\" class=\"dataframe\">\n",
       "  <thead>\n",
       "    <tr style=\"text-align: right;\">\n",
       "      <th></th>\n",
       "      <th>Diagnosis Code (ICD10)</th>\n",
       "      <th>Diagnosis Description (ICD10)</th>\n",
       "    </tr>\n",
       "  </thead>\n",
       "  <tbody>\n",
       "  </tbody>\n",
       "</table>\n",
       "</div>"
      ],
      "text/plain": [
       "Empty DataFrame\n",
       "Columns: [Diagnosis Code (ICD10), Diagnosis Description (ICD10)]\n",
       "Index: []"
      ]
     },
     "execution_count": 21,
     "metadata": {},
     "output_type": "execute_result"
    }
   ],
   "source": [
    "# sample terms\n",
    "threshold = 0.91\n",
    "dia_dict[sims >= threshold]"
   ]
  },
  {
   "cell_type": "markdown",
   "id": "5ffb913a-01e5-4fa0-8c31-0942908a2001",
   "metadata": {},
   "source": [
    "### Contains method"
   ]
  },
  {
   "cell_type": "code",
   "execution_count": 22,
   "id": "6163bda9-5ea4-4a62-a68e-e5d86ccc27fe",
   "metadata": {},
   "outputs": [
    {
     "data": {
      "text/html": [
       "<div>\n",
       "<style scoped>\n",
       "    .dataframe tbody tr th:only-of-type {\n",
       "        vertical-align: middle;\n",
       "    }\n",
       "\n",
       "    .dataframe tbody tr th {\n",
       "        vertical-align: top;\n",
       "    }\n",
       "\n",
       "    .dataframe thead th {\n",
       "        text-align: right;\n",
       "    }\n",
       "</style>\n",
       "<table border=\"1\" class=\"dataframe\">\n",
       "  <thead>\n",
       "    <tr style=\"text-align: right;\">\n",
       "      <th></th>\n",
       "      <th>Diagnosis Code (ICD10)</th>\n",
       "      <th>Diagnosis Description (ICD10)</th>\n",
       "    </tr>\n",
       "  </thead>\n",
       "  <tbody>\n",
       "    <tr>\n",
       "      <th>565</th>\n",
       "      <td>I64</td>\n",
       "      <td>Stroke, not specified as haemorrhage orinfarction</td>\n",
       "    </tr>\n",
       "    <tr>\n",
       "      <th>183631</th>\n",
       "      <td>I694</td>\n",
       "      <td>Sequelae of stroke, not specified as haemorrha...</td>\n",
       "    </tr>\n",
       "  </tbody>\n",
       "</table>\n",
       "</div>"
      ],
      "text/plain": [
       "       Diagnosis Code (ICD10)  \\\n",
       "565                       I64   \n",
       "183631                   I694   \n",
       "\n",
       "                            Diagnosis Description (ICD10)  \n",
       "565     Stroke, not specified as haemorrhage orinfarction  \n",
       "183631  Sequelae of stroke, not specified as haemorrha...  "
      ]
     },
     "execution_count": 22,
     "metadata": {},
     "output_type": "execute_result"
    }
   ],
   "source": [
    "key_term = utils.cvd_terms[0].lower()\n",
    "db_terms = dia_dict['Diagnosis Description (ICD10)'].str.lower()\n",
    "matches = dia_dict[db_terms.str.contains(key_term)]\n",
    "matches"
   ]
  },
  {
   "cell_type": "markdown",
   "id": "5f570917-5dea-4e7d-95da-8fefc7f7cfa5",
   "metadata": {},
   "source": [
    "## `xanthomas` Candidate Physical Exam Terms from `Diagnosis` subject area\n",
    "\n",
    "Candidate terms are generated uzing threholded token set ratio implemented by `thefuzz.fuzz`."
   ]
  },
  {
   "cell_type": "code",
   "execution_count": 23,
   "id": "a3e394ed-c8c6-41c6-970d-46d9ef715acb",
   "metadata": {},
   "outputs": [
    {
     "name": "stderr",
     "output_type": "stream",
     "text": [
      "100%|███████████████████████████████████████████████████████| 21/21 [00:00<00:00, 51.45it/s]\n"
     ]
    },
    {
     "data": {
      "text/html": [
       "<div>\n",
       "<style scoped>\n",
       "    .dataframe tbody tr th:only-of-type {\n",
       "        vertical-align: middle;\n",
       "    }\n",
       "\n",
       "    .dataframe tbody tr th {\n",
       "        vertical-align: top;\n",
       "    }\n",
       "\n",
       "    .dataframe thead th {\n",
       "        text-align: right;\n",
       "    }\n",
       "</style>\n",
       "<table border=\"1\" class=\"dataframe\">\n",
       "  <thead>\n",
       "    <tr style=\"text-align: right;\">\n",
       "      <th></th>\n",
       "      <th>Diagnosis Code (ICD10)</th>\n",
       "      <th>Diagnosis Description (ICD10)</th>\n",
       "      <th>Score</th>\n",
       "      <th>Key Term</th>\n",
       "    </tr>\n",
       "  </thead>\n",
       "  <tbody>\n",
       "  </tbody>\n",
       "</table>\n",
       "</div>"
      ],
      "text/plain": [
       "Empty DataFrame\n",
       "Columns: [Diagnosis Code (ICD10), Diagnosis Description (ICD10), Score, Key Term]\n",
       "Index: []"
      ]
     },
     "execution_count": 23,
     "metadata": {},
     "output_type": "execute_result"
    }
   ],
   "source": [
    "db_terms = dia_dict['Diagnosis Description (ICD10)'].str.lower()\n",
    "threshold = 0.91\n",
    "logger_reference = dia_dict.copy()\n",
    "\n",
    "candidate_list = []\n",
    "for key_term in tqdm(utils.physical_exam_xa_terms):\n",
    "    sims = db_terms.apply(\n",
    "        lambda x: get_fuzz_similarity(key_term.lower(), x)\n",
    "    ) / 100\n",
    "    temp = logger_reference.copy()\n",
    "    temp['Score'] = sims\n",
    "    temp['Key Term'] = key_term\n",
    "    temp = temp[temp[\"Score\"] >= threshold]\n",
    "    candidate_list.append(temp)\n",
    "\n",
    "candidate_terms = pd.concat(candidate_list, axis=0, ignore_index=True)\n",
    "candidate_terms"
   ]
  },
  {
   "cell_type": "code",
   "execution_count": 24,
   "id": "26f0ab33-67e5-4972-b08c-7cc3148aab46",
   "metadata": {},
   "outputs": [],
   "source": [
    "candidate_terms.to_csv(\n",
    "    os.path.join(PROJECT_ROOT, \"results\", \"candidate_dia_xanthomas_terms.csv\"), index=False,\n",
    ")"
   ]
  },
  {
   "cell_type": "markdown",
   "id": "987f2f0d-06d4-4db8-b80c-35439bb21fec",
   "metadata": {},
   "source": [
    "## `xanthomas` Candidate Physical Exam Terms from `Problem List` subject area\n",
    "Candidate terms are generated uzing threholded token set ratio implemented by `thefuzz.fuzz`."
   ]
  },
  {
   "cell_type": "code",
   "execution_count": 25,
   "id": "fc9c1139-da6b-4b86-b80d-f1b3d21173d3",
   "metadata": {},
   "outputs": [
    {
     "name": "stderr",
     "output_type": "stream",
     "text": [
      "100%|███████████████████████████████████████████████████████| 21/21 [00:03<00:00,  5.29it/s]\n"
     ]
    },
    {
     "data": {
      "text/html": [
       "<div>\n",
       "<style scoped>\n",
       "    .dataframe tbody tr th:only-of-type {\n",
       "        vertical-align: middle;\n",
       "    }\n",
       "\n",
       "    .dataframe tbody tr th {\n",
       "        vertical-align: top;\n",
       "    }\n",
       "\n",
       "    .dataframe thead th {\n",
       "        text-align: right;\n",
       "    }\n",
       "</style>\n",
       "<table border=\"1\" class=\"dataframe\">\n",
       "  <thead>\n",
       "    <tr style=\"text-align: right;\">\n",
       "      <th></th>\n",
       "      <th>Problem Code (Coded)</th>\n",
       "      <th>Problem Desc (Coded)</th>\n",
       "      <th>Coding Scheme (Coded)</th>\n",
       "      <th>Score</th>\n",
       "      <th>Key Term</th>\n",
       "    </tr>\n",
       "  </thead>\n",
       "  <tbody>\n",
       "    <tr>\n",
       "      <th>0</th>\n",
       "      <td>499478014</td>\n",
       "      <td>XANTHOMA</td>\n",
       "      <td>SN</td>\n",
       "      <td>1.00</td>\n",
       "      <td>Achilles tendon xanthoma</td>\n",
       "    </tr>\n",
       "    <tr>\n",
       "      <th>1</th>\n",
       "      <td>499728011</td>\n",
       "      <td>XANTHOMA</td>\n",
       "      <td>SN</td>\n",
       "      <td>1.00</td>\n",
       "      <td>Achilles tendon xanthoma</td>\n",
       "    </tr>\n",
       "    <tr>\n",
       "      <th>2</th>\n",
       "      <td>125555018</td>\n",
       "      <td>XANTHOMA</td>\n",
       "      <td>SN</td>\n",
       "      <td>1.00</td>\n",
       "      <td>Achilles tendon xanthoma</td>\n",
       "    </tr>\n",
       "    <tr>\n",
       "      <th>3</th>\n",
       "      <td>1781604017</td>\n",
       "      <td>CUTANEOUS XANTHOMA</td>\n",
       "      <td>SN</td>\n",
       "      <td>0.97</td>\n",
       "      <td>Cutaneous Xanthomas</td>\n",
       "    </tr>\n",
       "    <tr>\n",
       "      <th>4</th>\n",
       "      <td>499478014</td>\n",
       "      <td>XANTHOMA</td>\n",
       "      <td>SN</td>\n",
       "      <td>1.00</td>\n",
       "      <td>Tendinous Xanthoma</td>\n",
       "    </tr>\n",
       "    <tr>\n",
       "      <th>5</th>\n",
       "      <td>499728011</td>\n",
       "      <td>XANTHOMA</td>\n",
       "      <td>SN</td>\n",
       "      <td>1.00</td>\n",
       "      <td>Tendinous Xanthoma</td>\n",
       "    </tr>\n",
       "    <tr>\n",
       "      <th>6</th>\n",
       "      <td>125555018</td>\n",
       "      <td>XANTHOMA</td>\n",
       "      <td>SN</td>\n",
       "      <td>1.00</td>\n",
       "      <td>Tendinous Xanthoma</td>\n",
       "    </tr>\n",
       "    <tr>\n",
       "      <th>7</th>\n",
       "      <td>499478014</td>\n",
       "      <td>XANTHOMA</td>\n",
       "      <td>SN</td>\n",
       "      <td>1.00</td>\n",
       "      <td>Tendon Xanthoma</td>\n",
       "    </tr>\n",
       "    <tr>\n",
       "      <th>8</th>\n",
       "      <td>499728011</td>\n",
       "      <td>XANTHOMA</td>\n",
       "      <td>SN</td>\n",
       "      <td>1.00</td>\n",
       "      <td>Tendon Xanthoma</td>\n",
       "    </tr>\n",
       "    <tr>\n",
       "      <th>9</th>\n",
       "      <td>125555018</td>\n",
       "      <td>XANTHOMA</td>\n",
       "      <td>SN</td>\n",
       "      <td>1.00</td>\n",
       "      <td>Tendon Xanthoma</td>\n",
       "    </tr>\n",
       "    <tr>\n",
       "      <th>10</th>\n",
       "      <td>149147015</td>\n",
       "      <td>THICKENING</td>\n",
       "      <td>SN</td>\n",
       "      <td>1.00</td>\n",
       "      <td>Thickening Of Achilles Tendon</td>\n",
       "    </tr>\n",
       "    <tr>\n",
       "      <th>11</th>\n",
       "      <td>358115010</td>\n",
       "      <td>TUBEROUS XANTHOMA</td>\n",
       "      <td>SN</td>\n",
       "      <td>0.97</td>\n",
       "      <td>Tuberous Xanthomas</td>\n",
       "    </tr>\n",
       "    <tr>\n",
       "      <th>12</th>\n",
       "      <td>499478014</td>\n",
       "      <td>XANTHOMA</td>\n",
       "      <td>SN</td>\n",
       "      <td>0.94</td>\n",
       "      <td>Xanthomas</td>\n",
       "    </tr>\n",
       "    <tr>\n",
       "      <th>13</th>\n",
       "      <td>499728011</td>\n",
       "      <td>XANTHOMA</td>\n",
       "      <td>SN</td>\n",
       "      <td>0.94</td>\n",
       "      <td>Xanthomas</td>\n",
       "    </tr>\n",
       "    <tr>\n",
       "      <th>14</th>\n",
       "      <td>125555018</td>\n",
       "      <td>XANTHOMA</td>\n",
       "      <td>SN</td>\n",
       "      <td>0.94</td>\n",
       "      <td>Xanthomas</td>\n",
       "    </tr>\n",
       "  </tbody>\n",
       "</table>\n",
       "</div>"
      ],
      "text/plain": [
       "   Problem Code (Coded) Problem Desc (Coded) Coding Scheme (Coded)  Score  \\\n",
       "0             499478014             XANTHOMA                    SN   1.00   \n",
       "1             499728011             XANTHOMA                    SN   1.00   \n",
       "2             125555018             XANTHOMA                    SN   1.00   \n",
       "3            1781604017   CUTANEOUS XANTHOMA                    SN   0.97   \n",
       "4             499478014             XANTHOMA                    SN   1.00   \n",
       "5             499728011             XANTHOMA                    SN   1.00   \n",
       "6             125555018             XANTHOMA                    SN   1.00   \n",
       "7             499478014             XANTHOMA                    SN   1.00   \n",
       "8             499728011             XANTHOMA                    SN   1.00   \n",
       "9             125555018             XANTHOMA                    SN   1.00   \n",
       "10            149147015           THICKENING                    SN   1.00   \n",
       "11            358115010    TUBEROUS XANTHOMA                    SN   0.97   \n",
       "12            499478014             XANTHOMA                    SN   0.94   \n",
       "13            499728011             XANTHOMA                    SN   0.94   \n",
       "14            125555018             XANTHOMA                    SN   0.94   \n",
       "\n",
       "                         Key Term  \n",
       "0        Achilles tendon xanthoma  \n",
       "1        Achilles tendon xanthoma  \n",
       "2        Achilles tendon xanthoma  \n",
       "3             Cutaneous Xanthomas  \n",
       "4              Tendinous Xanthoma  \n",
       "5              Tendinous Xanthoma  \n",
       "6              Tendinous Xanthoma  \n",
       "7                 Tendon Xanthoma  \n",
       "8                 Tendon Xanthoma  \n",
       "9                 Tendon Xanthoma  \n",
       "10  Thickening Of Achilles Tendon  \n",
       "11             Tuberous Xanthomas  \n",
       "12                      Xanthomas  \n",
       "13                      Xanthomas  \n",
       "14                      Xanthomas  "
      ]
     },
     "execution_count": 25,
     "metadata": {},
     "output_type": "execute_result"
    }
   ],
   "source": [
    "db_terms = prl_dict['Problem Desc (Coded)'].str.lower()\n",
    "threshold = 0.91\n",
    "logger_reference = prl_dict.copy()\n",
    "\n",
    "candidate_list = []\n",
    "for key_term in tqdm(utils.physical_exam_xa_terms):\n",
    "    sims = db_terms.apply(\n",
    "        lambda x: get_fuzz_similarity(key_term.lower(), x)\n",
    "    ) / 100\n",
    "    temp = logger_reference.copy()\n",
    "    temp['Score'] = sims\n",
    "    temp['Key Term'] = key_term\n",
    "    temp = temp[temp[\"Score\"] >= threshold]\n",
    "    candidate_list.append(temp)\n",
    "\n",
    "candidate_terms = pd.concat(candidate_list, axis=0, ignore_index=True)\n",
    "candidate_terms"
   ]
  },
  {
   "cell_type": "code",
   "execution_count": 26,
   "id": "4a5c5e9d-6549-4b4b-9782-5c30d6e2a6bc",
   "metadata": {},
   "outputs": [],
   "source": [
    "candidate_terms.to_csv(\n",
    "    os.path.join(PROJECT_ROOT, \"results\", \"candidate_prl_xanthomas_terms.csv\"), index=False,\n",
    ")"
   ]
  },
  {
   "cell_type": "markdown",
   "id": "42ab498d-5f48-4fae-a6fa-993a91dcd58b",
   "metadata": {},
   "source": [
    "## `corneal_arcus` Candidate Physical Exam Terms from `Diagnosis` subject area\n",
    "\n",
    "Candidate terms are generated uzing threholded token set ratio implemented by `thefuzz.fuzz`."
   ]
  },
  {
   "cell_type": "code",
   "execution_count": 27,
   "id": "8cf8881f-becb-4542-8ea9-f960f1b04f58",
   "metadata": {},
   "outputs": [
    {
     "name": "stderr",
     "output_type": "stream",
     "text": [
      "100%|█████████████████████████████████████████████████████████| 3/3 [00:00<00:00, 43.99it/s]\n"
     ]
    },
    {
     "data": {
      "text/html": [
       "<div>\n",
       "<style scoped>\n",
       "    .dataframe tbody tr th:only-of-type {\n",
       "        vertical-align: middle;\n",
       "    }\n",
       "\n",
       "    .dataframe tbody tr th {\n",
       "        vertical-align: top;\n",
       "    }\n",
       "\n",
       "    .dataframe thead th {\n",
       "        text-align: right;\n",
       "    }\n",
       "</style>\n",
       "<table border=\"1\" class=\"dataframe\">\n",
       "  <thead>\n",
       "    <tr style=\"text-align: right;\">\n",
       "      <th></th>\n",
       "      <th>Diagnosis Code (ICD10)</th>\n",
       "      <th>Diagnosis Description (ICD10)</th>\n",
       "      <th>Score</th>\n",
       "      <th>Key Term</th>\n",
       "    </tr>\n",
       "  </thead>\n",
       "  <tbody>\n",
       "  </tbody>\n",
       "</table>\n",
       "</div>"
      ],
      "text/plain": [
       "Empty DataFrame\n",
       "Columns: [Diagnosis Code (ICD10), Diagnosis Description (ICD10), Score, Key Term]\n",
       "Index: []"
      ]
     },
     "execution_count": 27,
     "metadata": {},
     "output_type": "execute_result"
    }
   ],
   "source": [
    "db_terms = dia_dict['Diagnosis Description (ICD10)'].str.lower()\n",
    "threshold = 0.91\n",
    "logger_reference = dia_dict.copy()\n",
    "\n",
    "candidate_list = []\n",
    "for key_term in tqdm(utils.physical_exam_ca_terms):\n",
    "    sims = db_terms.apply(\n",
    "        lambda x: get_fuzz_similarity(key_term.lower(), x)\n",
    "    ) / 100\n",
    "    temp = logger_reference.copy()\n",
    "    temp['Score'] = sims\n",
    "    temp['Key Term'] = key_term\n",
    "    temp = temp[temp[\"Score\"] >= threshold]\n",
    "    candidate_list.append(temp)\n",
    "\n",
    "candidate_terms = pd.concat(candidate_list, axis=0, ignore_index=True)\n",
    "candidate_terms"
   ]
  },
  {
   "cell_type": "code",
   "execution_count": 28,
   "id": "5fda25b8-b42e-409d-8f97-5e8c73632b99",
   "metadata": {},
   "outputs": [],
   "source": [
    "candidate_terms.to_csv(\n",
    "    os.path.join(PROJECT_ROOT, \"results\", \"candidate_dia_corneal_arcus_terms.csv\"), index=False,\n",
    ")"
   ]
  },
  {
   "cell_type": "markdown",
   "id": "536ecfe6-eb75-4b42-8322-abc3857524a1",
   "metadata": {},
   "source": [
    "## `corneal_arcus` Candidate Physical Exam Terms from `Problem List` subject area\n",
    "Candidate terms are generated uzing threholded token set ratio implemented by `thefuzz.fuzz`."
   ]
  },
  {
   "cell_type": "code",
   "execution_count": 29,
   "id": "40416662-be8d-4c7e-9f95-45f1f97642ff",
   "metadata": {},
   "outputs": [
    {
     "name": "stderr",
     "output_type": "stream",
     "text": [
      "100%|█████████████████████████████████████████████████████████| 3/3 [00:00<00:00,  5.48it/s]\n"
     ]
    },
    {
     "data": {
      "text/html": [
       "<div>\n",
       "<style scoped>\n",
       "    .dataframe tbody tr th:only-of-type {\n",
       "        vertical-align: middle;\n",
       "    }\n",
       "\n",
       "    .dataframe tbody tr th {\n",
       "        vertical-align: top;\n",
       "    }\n",
       "\n",
       "    .dataframe thead th {\n",
       "        text-align: right;\n",
       "    }\n",
       "</style>\n",
       "<table border=\"1\" class=\"dataframe\">\n",
       "  <thead>\n",
       "    <tr style=\"text-align: right;\">\n",
       "      <th></th>\n",
       "      <th>Problem Code (Coded)</th>\n",
       "      <th>Problem Desc (Coded)</th>\n",
       "      <th>Coding Scheme (Coded)</th>\n",
       "      <th>Score</th>\n",
       "      <th>Key Term</th>\n",
       "    </tr>\n",
       "  </thead>\n",
       "  <tbody>\n",
       "  </tbody>\n",
       "</table>\n",
       "</div>"
      ],
      "text/plain": [
       "Empty DataFrame\n",
       "Columns: [Problem Code (Coded), Problem Desc (Coded), Coding Scheme (Coded), Score, Key Term]\n",
       "Index: []"
      ]
     },
     "execution_count": 29,
     "metadata": {},
     "output_type": "execute_result"
    }
   ],
   "source": [
    "db_terms = prl_dict['Problem Desc (Coded)'].str.lower()\n",
    "threshold = 0.91\n",
    "logger_reference = prl_dict.copy()\n",
    "\n",
    "candidate_list = []\n",
    "for key_term in tqdm(utils.physical_exam_ca_terms):\n",
    "    sims = db_terms.apply(\n",
    "        lambda x: get_fuzz_similarity(key_term.lower(), x)\n",
    "    ) / 100\n",
    "    temp = logger_reference.copy()\n",
    "    temp['Score'] = sims\n",
    "    temp['Key Term'] = key_term\n",
    "    temp = temp[temp[\"Score\"] >= threshold]\n",
    "    candidate_list.append(temp)\n",
    "\n",
    "candidate_terms = pd.concat(candidate_list, axis=0, ignore_index=True)\n",
    "candidate_terms"
   ]
  },
  {
   "cell_type": "code",
   "execution_count": 30,
   "id": "371bc018-a121-4d93-be80-218635b7a0d3",
   "metadata": {},
   "outputs": [],
   "source": [
    "candidate_terms.to_csv(\n",
    "    os.path.join(PROJECT_ROOT, \"results\", \"candidate_prl_corneal_arcus_terms.csv\"), index=False,\n",
    ")"
   ]
  },
  {
   "cell_type": "markdown",
   "id": "0e5de788-da3a-4cd6-b871-dca31c3aa55c",
   "metadata": {},
   "source": [
    "## End"
   ]
  }
 ],
 "metadata": {
  "kernelspec": {
   "display_name": "nlp-env",
   "language": "python",
   "name": "nlp-env"
  },
  "language_info": {
   "codemirror_mode": {
    "name": "ipython",
    "version": 3
   },
   "file_extension": ".py",
   "mimetype": "text/x-python",
   "name": "python",
   "nbconvert_exporter": "python",
   "pygments_lexer": "ipython3",
   "version": "3.12.2"
  }
 },
 "nbformat": 4,
 "nbformat_minor": 5
}
