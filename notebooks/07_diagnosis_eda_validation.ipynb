{
 "cells": [
  {
   "cell_type": "markdown",
   "id": "4b6cd7f7-91de-46ac-9337-5c67205dc0b5",
   "metadata": {},
   "source": [
    "# Diagnosis Filtering\n",
    "\n",
    "This notebook covers the creation of references for the following Stage 1 filtering criteria:\n",
    "1. `Diagnosis` `List` Those with secondary causes within 1 year (+/-) of Index Date"
   ]
  },
  {
   "cell_type": "code",
   "execution_count": 1,
   "id": "3233f2d9-1bcb-4371-95c8-37d2f513281f",
   "metadata": {},
   "outputs": [],
   "source": [
    "%load_ext autoreload\n",
    "%autoreload 2"
   ]
  },
  {
   "cell_type": "code",
   "execution_count": 2,
   "id": "699a4c64-654a-437a-a531-606c45aac99b",
   "metadata": {},
   "outputs": [
    {
     "name": "stderr",
     "output_type": "stream",
     "text": [
      "/Users/mdorosan/miniconda3/envs/basic-ds-toolkit/lib/python3.12/site-packages/pandas/core/arrays/masked.py:60: UserWarning: Pandas requires version '1.3.6' or newer of 'bottleneck' (version '1.3.5' currently installed).\n",
      "  from pandas.core import (\n"
     ]
    }
   ],
   "source": [
    "import os\n",
    "import numpy as np\n",
    "import pandas as pd\n",
    "import sys\n",
    "from glob import glob\n",
    "from tqdm import tqdm\n",
    "REPO_DIR = \"/Users/mdorosan/Desktop/2024/elpha-singhealth-fh\"\n",
    "sys.path.append(REPO_DIR)\n",
    "from datetime import datetime\n",
    "\n",
    "import utils.PATHS as PATHS\n",
    "import utils.utils as utils\n",
    "# import utils.emr_utils as emr_utils\n",
    "# import utils.load_utils as load_utils"
   ]
  },
  {
   "cell_type": "code",
   "execution_count": 3,
   "id": "1300a862-11a8-482b-9054-dfd557d820b4",
   "metadata": {},
   "outputs": [
    {
     "name": "stderr",
     "output_type": "stream",
     "text": [
      "100%|█████████████████████████████████████████████| 4/4 [00:00<00:00,  6.90it/s]\n"
     ]
    }
   ],
   "source": [
    "dia_fp_list = glob(os.path.join(PATHS.DIAGNOSIS, \"*.csv\"))\n",
    "\n",
    "# general labs dataframe\n",
    "df_list = [pd.read_csv(path, low_memory=False) for path in tqdm(dia_fp_list)]\n",
    "dia_df = pd.concat(df_list, ignore_index=True)"
   ]
  },
  {
   "cell_type": "code",
   "execution_count": 4,
   "id": "ee98babf-4108-45ac-841f-2b7a8a3053d6",
   "metadata": {},
   "outputs": [
    {
     "data": {
      "text/plain": [
       "Index(['Institution Code', 'Patient ID', 'Gender', 'Race', 'Nationality',\n",
       "       'Date of Birth', 'Resident Indicator', 'Death Date', 'Diagnosis Code',\n",
       "       'Diagnosis Description', 'Diagnosis Catalogue Code',\n",
       "       'Diagnosis Code (ICD10)', 'Diagnosis Description (ICD10)',\n",
       "       'ILD Indicator (ICD10)', 'Diagnosis Date', 'Case No', 'eHIntS Case Id',\n",
       "       'Visit No', 'Admit/Visit Date', 'ICD10 Diagnosis Type',\n",
       "       'ICD10 Diagnosis Type2', 'Diagnosis Creation Date',\n",
       "       'Diagnosis Catalog Code', 'Diagnosis Catalogue Code.1',\n",
       "       'Diagnosis Catalogue Text Code', 'Diagnosis Catalogue Text Description',\n",
       "       'Reference Catalog Code', 'Reference Catalog Description', 'BMI',\n",
       "       'Height', 'Weight'],\n",
       "      dtype='object')"
      ]
     },
     "execution_count": 4,
     "metadata": {},
     "output_type": "execute_result"
    }
   ],
   "source": [
    "dia_df.columns"
   ]
  },
  {
   "cell_type": "code",
   "execution_count": 5,
   "id": "d15f8ec8-df1e-4b45-9f90-2a9d5f223c88",
   "metadata": {},
   "outputs": [
    {
     "name": "stderr",
     "output_type": "stream",
     "text": [
      "100%|█████████████████████████████████████████████| 8/8 [00:09<00:00,  1.22s/it]\n"
     ]
    }
   ],
   "source": [
    "prl_fp_list = glob(os.path.join(PATHS.PROBLEM_LIST, \"*.csv\"))\n",
    "\n",
    "df_list = []\n",
    "for path in tqdm(prl_fp_list):\n",
    "    temp = pd.read_csv(path, low_memory=False)\n",
    "\n",
    "    # address div block at df tail\n",
    "    subset = temp.columns.tolist()\n",
    "    subset.remove(\"Visit Date\")\n",
    "    temp = temp.dropna(subset=subset, how=\"all\")\n",
    "\n",
    "    df_list.append(temp)\n",
    "    \n",
    "prl_df = pd.concat(df_list, ignore_index=True)"
   ]
  },
  {
   "cell_type": "code",
   "execution_count": 6,
   "id": "2744b9d7-5d33-4d24-aa1a-5f5dc8cf12b5",
   "metadata": {},
   "outputs": [
    {
     "data": {
      "text/plain": [
       "Index(['Visit Date', 'Institution', 'Case No', 'Visit No', 'Patient ID',\n",
       "       'Date of Birth', 'Race', 'Gender', 'Resident Indicator', 'Nationality',\n",
       "       'Problem Serial No', 'Problem Summary', 'Problem Code (Coded)',\n",
       "       'Problem Desc (Coded)', 'Coding Scheme (Coded)',\n",
       "       'Problem Shortname (Coded)', 'Problem Status', 'Problem Onset (Day)',\n",
       "       'Problem Onset (Month)', 'Problem Onset (Year)', 'Created Date',\n",
       "       'Entered Date', 'Resolved Date', 'Updated Date', 'Smoking',\n",
       "       'Smoking History', 'Smoking History.1'],\n",
       "      dtype='object')"
      ]
     },
     "execution_count": 6,
     "metadata": {},
     "output_type": "execute_result"
    }
   ],
   "source": [
    "prl_df.columns"
   ]
  },
  {
   "cell_type": "markdown",
   "id": "0e5de788-da3a-4cd6-b871-dca31c3aa55c",
   "metadata": {},
   "source": [
    "## End"
   ]
  }
 ],
 "metadata": {
  "kernelspec": {
   "display_name": "basic-ds-toolkit",
   "language": "python",
   "name": "basic-ds-toolkit"
  },
  "language_info": {
   "codemirror_mode": {
    "name": "ipython",
    "version": 3
   },
   "file_extension": ".py",
   "mimetype": "text/x-python",
   "name": "python",
   "nbconvert_exporter": "python",
   "pygments_lexer": "ipython3",
   "version": "3.12.1"
  }
 },
 "nbformat": 4,
 "nbformat_minor": 5
}
