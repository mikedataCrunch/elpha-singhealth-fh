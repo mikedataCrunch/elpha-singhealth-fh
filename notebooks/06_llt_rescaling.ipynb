{
 "cells": [
  {
   "cell_type": "code",
   "execution_count": 1,
   "id": "c41dc841-84b5-4d58-9b9a-7c49861a32d2",
   "metadata": {},
   "outputs": [],
   "source": [
    "%load_ext autoreload\n",
    "%autoreload 2"
   ]
  },
  {
   "cell_type": "code",
   "execution_count": 2,
   "id": "84b80695-a6bd-4208-a3dd-e983f177ab19",
   "metadata": {},
   "outputs": [],
   "source": [
    "import os, sys\n",
    "from dotenv import load_dotenv\n",
    "load_dotenv(\"../.env\")  # take environment variables\n",
    "PROJECT_ROOT = os.environ.get(\"PROJECT_ROOT\")\n",
    "sys.path.append(PROJECT_ROOT)\n",
    "\n",
    "import numpy as np\n",
    "import pandas as pd\n",
    "from glob import glob\n",
    "from tqdm import tqdm\n",
    "from datetime import datetime\n",
    "import random\n",
    "\n",
    "import utils.PATHS as PATHS\n",
    "import utils.utils as utils\n",
    "# import utils.emr_utils as emr_utils\n",
    "# import utils.load_utils as load_utils"
   ]
  },
  {
   "cell_type": "markdown",
   "id": "b4157b74-d1f6-44da-a79b-c1f65f5fa34c",
   "metadata": {},
   "source": [
    "# Lipid-lowering treatment criteria for scaling of LDL-C values"
   ]
  },
  {
   "cell_type": "markdown",
   "id": "8315f781-c0ce-45c6-8c07-f557ba56dd4a",
   "metadata": {},
   "source": [
    "## Notes\n",
    "\n",
    "* Drug dispensed data for each patient is based on the `Generic Drug Name` column\n",
    "* Currently the `Drug Prescribed Date From` is used as reference as `Drug Prescribed Date To` may go beyond the `Index Date` from the previous notebook.\n",
    "* This notebook proceeds as follows:\n",
    "   1. Creation of a patient list according to lipid-lowering treatment (LLT) criteria\n",
    "   2. Scaling the LDL-C values accordingly, i.e., dividing LDL-C values 0.7 (confirm if this is divide or multiple like a scaling factor)\n",
    "   3. Segmentation of cohort according to scaled LDL-C thresholds\n",
    "      - Cases: LDL-C >= `4.9`\n",
    "      - Unknown: `3.36` < LDL-C < `4.9`\n",
    "      - Controls: LDL-C <= `3.36`"
   ]
  },
  {
   "cell_type": "markdown",
   "id": "cbc2a06c-1811-457a-86f3-549e2528ad9f",
   "metadata": {},
   "source": [
    "## 1. LLT Data Preprocessing"
   ]
  },
  {
   "cell_type": "code",
   "execution_count": 3,
   "id": "80bb24d4-2077-4775-ac6f-9ad6cb9a37d7",
   "metadata": {},
   "outputs": [
    {
     "name": "stderr",
     "output_type": "stream",
     "text": [
      "100%|███████████████████████████████████████████████████████| 48/48 [03:05<00:00,  3.87s/it]\n"
     ]
    }
   ],
   "source": [
    "dd_fp_list = glob(os.path.join(PATHS.DRUG_DISPENSED, \"*.csv\"))\n",
    "\n",
    "# general labs dataframe\n",
    "df_list = [pd.read_csv(path, low_memory=False) for path in tqdm(dd_fp_list)]\n",
    "df = pd.concat(df_list, ignore_index=True)\n",
    "\n",
    "drug_name_col = \"Generic Drug Name\"\n",
    "pid_col = \"Patient ID\"\n",
    "date_col = \"Drug Prescribed Date From\"\n",
    "backup_date_col = \"Drug Dispensed Date From\" # has more weird values\n",
    "ref_date_col = \"Drug Reference Date\"\n",
    "\n",
    "# prep datetime cols\n",
    "df[date_col] = pd.to_datetime(df[date_col])\n",
    "df[backup_date_col] = pd.to_datetime(df[backup_date_col])"
   ]
  },
  {
   "cell_type": "code",
   "execution_count": 4,
   "id": "2dd9ee8a-f8fe-4356-8315-5824a01ea521",
   "metadata": {},
   "outputs": [
    {
     "name": "stderr",
     "output_type": "stream",
     "text": [
      "100%|███████████████████████████████████████| 20132904/20132904 [03:21<00:00, 100041.77it/s]\n"
     ]
    }
   ],
   "source": [
    "tqdm.pandas()\n",
    "\n",
    "# RESOLVE OPTION\n",
    "def resolve_date(row):\n",
    "    \"\"\"Use prescribed date when dispensed date is not available.\"\"\"\n",
    "    if np.isnat(np.datetime64(str(row[date_col]))):\n",
    "        return row[backup_date_col]\n",
    "    return row[date_col]\n",
    "\n",
    "df[ref_date_col] = df.progress_apply(lambda row: resolve_date(row), axis=1)"
   ]
  },
  {
   "cell_type": "code",
   "execution_count": 5,
   "id": "f8622191-64fa-4472-ba1a-30c731020dcb",
   "metadata": {},
   "outputs": [],
   "source": [
    "# DROP OPTION\n",
    "\n",
    "# df[\"Drug Reference Date\"] = df[date_col]\n",
    "# df = df.dropna(subset=[\"Drug Reference Date\"])"
   ]
  },
  {
   "cell_type": "code",
   "execution_count": 6,
   "id": "fb884ea0-656b-4eb4-83b2-1be8eb42ea84",
   "metadata": {},
   "outputs": [],
   "source": [
    "# see utils.llt_meds for list of relevant prescriptions\n",
    "llt = df[df[drug_name_col].str.lower().isin(utils.llt_meds)]"
   ]
  },
  {
   "cell_type": "code",
   "execution_count": 7,
   "id": "8ff9d074-2715-4423-b977-241f47136eaa",
   "metadata": {},
   "outputs": [],
   "source": [
    "# # Inspect weird dates\n",
    "# grouper = df.groupby(df[backup_date_col].dt.year)\n",
    "# grouper.size()"
   ]
  },
  {
   "cell_type": "markdown",
   "id": "259e3120-f17c-413c-b29a-0dc95bd12edd",
   "metadata": {},
   "source": [
    "## 2. Load the LDL-C values"
   ]
  },
  {
   "cell_type": "code",
   "execution_count": 8,
   "id": "e2cae4df-fd27-4524-ae41-50f904ff11ff",
   "metadata": {},
   "outputs": [],
   "source": [
    "path = os.path.join(PROJECT_ROOT, \"results\", \"ldlc_valid_18_nontg_index_nosecondary_final.csv\")\n",
    "ldlc_valid_18_nontg_index_nosecondary_final = pd.read_csv(path)"
   ]
  },
  {
   "cell_type": "code",
   "execution_count": 9,
   "id": "667c557a-5838-436a-9467-1256cfb491b8",
   "metadata": {},
   "outputs": [
    {
     "name": "stdout",
     "output_type": "stream",
     "text": [
      "<class 'pandas.core.frame.DataFrame'>\n",
      "RangeIndex: 20786 entries, 0 to 20785\n",
      "Data columns (total 3 columns):\n",
      " #   Column      Non-Null Count  Dtype  \n",
      "---  ------      --------------  -----  \n",
      " 0   Patient ID  20786 non-null  object \n",
      " 1   LDL-C Max   20786 non-null  float64\n",
      " 2   Index Date  20786 non-null  object \n",
      "dtypes: float64(1), object(2)\n",
      "memory usage: 487.3+ KB\n"
     ]
    }
   ],
   "source": [
    "ldlc_valid_18_nontg_index_nosecondary_final.info()"
   ]
  },
  {
   "cell_type": "code",
   "execution_count": 10,
   "id": "575f30b6-a6de-43fd-b685-a2b855b38422",
   "metadata": {},
   "outputs": [],
   "source": [
    "# prep datetime cols\n",
    "ldlc_valid_18_nontg_index_nosecondary_final[\"Index Date\"] = pd.to_datetime(\n",
    "    ldlc_valid_18_nontg_index_nosecondary_final[\"Index Date\"]\n",
    ")"
   ]
  },
  {
   "cell_type": "markdown",
   "id": "6e686c13-8406-4385-a880-943975ad2511",
   "metadata": {},
   "source": [
    "## 3. LLT data filtering based on LDL-C Index Date"
   ]
  },
  {
   "cell_type": "code",
   "execution_count": 11,
   "id": "9552aae7-f5f9-4ea0-8093-18fb454abdcb",
   "metadata": {},
   "outputs": [
    {
     "data": {
      "text/plain": [
       "Timestamp('2014-11-04 00:00:00')"
      ]
     },
     "metadata": {},
     "output_type": "display_data"
    },
    {
     "data": {
      "text/plain": [
       "Timestamp('2024-03-27 00:00:00')"
      ]
     },
     "metadata": {},
     "output_type": "display_data"
    }
   ],
   "source": [
    "# excldue drug data that are too old: over 1 year before the minimum LDLC Index Date\n",
    "mask = df[ref_date_col] < (ldlc_valid_18_nontg_index_nosecondary_final[\"Index Date\"].min() - pd.Timedelta(days=366))\n",
    "llt = df[~mask]\n",
    "\n",
    "# check\n",
    "display(llt[ref_date_col].min())\n",
    "display(llt[ref_date_col].max())"
   ]
  },
  {
   "cell_type": "markdown",
   "id": "d7ab6746-3976-494d-b7ca-4f464d323d11",
   "metadata": {},
   "source": [
    "# 4. Scaling the LDL-C Max values"
   ]
  },
  {
   "cell_type": "code",
   "execution_count": 12,
   "id": "41e0ba6b-722f-4f4b-9bc1-7db33ddd2f7b",
   "metadata": {},
   "outputs": [],
   "source": [
    "ezetimibe_combis = {\n",
    "    \"atorvastatin\": {\n",
    "        \"10mg\" : 2.0,\n",
    "        \"20mg\" : 2.2,\n",
    "        \"40mg\" : 2.2,\n",
    "    },\n",
    "    \"pravastatin sodium\": {\n",
    "        '20MG': 1.6,\n",
    "    },\n",
    "    \"simvastatin\": {\n",
    "        \"10mg\": 1.9,\n",
    "        \"20mg\": 2.0,\n",
    "    },\n",
    "    \"rosuvastatin\" : {\n",
    "        \"10MG\" : 1.9,\n",
    "        \"20MG\" : 2.1,\n",
    "    },\n",
    "}\n",
    "\n",
    "special_factors = {\n",
    "    \"pravastatin sodium\": {\n",
    "        '20MG': 1.3,\n",
    "    }, # 20MG\n",
    "\n",
    "    \"ezetimibe,simvastatin tab\" : {\n",
    "        \"10/10\": 1.9,\n",
    "        \"10/20\": 2.0,\n",
    "    }, # 10/10, 10/20\n",
    "\n",
    "    \"ezetimibe\": {\n",
    "        \"10mg\": 1.2,\n",
    "    }, # 10mg\n",
    "\n",
    "    \"simvastatin\": {\n",
    "        \"10mg\": 1.4,\n",
    "        \"20mg\": 1.6,\n",
    "    }, # 10mg, 20mg\n",
    "\n",
    "    \"atorvastatin\": {\n",
    "        \"10mg\" : 1.6,\n",
    "        \"20mg\" : 1.8,\n",
    "        \"40mg\" : 2.0,\n",
    "    }, # 10mg, 40mg, 20mg\n",
    "\n",
    "    \"rosuvastatin\": {\n",
    "        \"10MG\" : 1.9,\n",
    "        \"20MG\" : 2.1,\n",
    "    }, # 10MG, 20MG\n",
    "\n",
    "    # # --- NOT IN NUHS DOC --- #\n",
    "    # \"lovastatin\": {\n",
    "    #     \"20mg\" : None,\n",
    "    # }, # 20mg\n",
    "\n",
    "    # \"metronidazole, nystatin\": {\n",
    "    #     \"500mg\": None,\n",
    "    #     \"100,000 unit\": None,\n",
    "    # }, # 500mg, 100,000 unit  \n",
    "\n",
    "    # \"nystatin\": {\n",
    "    #     \"100,000IU\" : None,\n",
    "    # }, # 100,000IU\n",
    "} "
   ]
  },
  {
   "cell_type": "code",
   "execution_count": 13,
   "id": "85e772af-c31b-4503-bea3-a987dc3ce7dd",
   "metadata": {},
   "outputs": [],
   "source": [
    "def llt_rescale(row):\n",
    "    pid = row[\"Patient ID\"]\n",
    "    index_date = row[\"Index Date\"]\n",
    "    temp_llt = llt[llt[pid_col] == pid]\n",
    "    \n",
    "    ## take only those records which are between 365 days and 42 days of index date\n",
    "    temp_llt = temp_llt[\n",
    "        (index_date - temp_llt[ref_date_col] >= pd.Timedelta(days=42)) & \n",
    "        (index_date - temp_llt[ref_date_col] <= pd.Timedelta(days=365))\n",
    "    ]\n",
    "    \n",
    "    ## if not empty apply correction else do not\n",
    "    if (temp_llt.empty):\n",
    "        factor = 1\n",
    "    else:\n",
    "        # sort by date, get the most_recent_date, get all dispensed on same most_recent-date         \n",
    "        most_recent_date = temp_llt[ref_date_col].sort_values(ascending=False).iloc[0]\n",
    "        temp_llt = temp_llt[temp_llt[ref_date_col] == most_recent_date]\n",
    "\n",
    "        # intersections\n",
    "        prescribed_list = temp_llt[drug_name_col].str.lower().unique().tolist()\n",
    "\n",
    "        # referenced later in elif block\n",
    "        special_set = set(prescribed_list).intersection(set(special_factors.keys()))\n",
    "        \n",
    "        if len(prescribed_list) == 1:\n",
    "            drug_key =  prescribed_list[0]\n",
    "            factor_dict = special_factors.get(drug_key)\n",
    "            if not factor_dict:\n",
    "                if drug_key in utils.llt_meds:\n",
    "                    factor = 1/0.7\n",
    "                else:\n",
    "                    factor = 1\n",
    "            else:\n",
    "                drug_subset = temp_llt.loc[temp_llt[drug_name_col].str.lower() == drug_key]\n",
    "                dose_key = drug_subset.iloc[0][\"Drug Strength\"]\n",
    "                factor = factor_dict.get(dose_key)\n",
    "            \n",
    "        elif len(set(prescribed_list).intersection(set(ezetimibe_combis.keys()))) \\\n",
    "            and (\"ezetimibe\" in prescribed_list):\n",
    "            prescribed_list.remove(\"ezetimibe\")\n",
    "            \n",
    "            combis_set = set(prescribed_list).intersection(set(ezetimibe_combis.keys()))\n",
    "            \n",
    "            # get a random special drug\n",
    "            drug_key = random.sample(list(combis_set), 1)[0]\n",
    "\n",
    "            # get dose\n",
    "            drug_subset = temp_llt.loc[temp_llt[drug_name_col].str.lower() == drug_key]\n",
    "            dose_key = drug_subset.iloc[0][\"Drug Strength\"]\n",
    "\n",
    "            # get factor\n",
    "            factor = ezetimibe_combis.get(drug_key).get(dose_key)\n",
    "\n",
    "        # next block assumes ezetimibe cases has already been evaluated\n",
    "        # non-ezetimibe combinations\n",
    "        elif len(special_set): \n",
    "        \n",
    "            # get a random special drug\n",
    "            drug_key = random.sample(list(special_set), 1)[0]\n",
    "\n",
    "            # get dose\n",
    "            drug_subset = temp_llt.loc[temp_llt[drug_name_col].str.lower() == drug_key]\n",
    "            dose_key = drug_subset.iloc[0][\"Drug Strength\"]\n",
    "\n",
    "            # get factor\n",
    "            factor = special_factors.get(drug_key).get(dose_key)\n",
    "\n",
    "        # default scaling factor on master list of llt medications (see utils.py)\n",
    "        elif len(set(prescribed_list).intersection(set(utils.llt_meds))):\n",
    "            factor = 1/0.7\n",
    "\n",
    "        else:\n",
    "            factor = 1 \n",
    "    # display(row[\"Patient ID\"])        \n",
    "    return row[\"LDL-C Max\"] * factor\n",
    "    "
   ]
  },
  {
   "cell_type": "code",
   "execution_count": 14,
   "id": "57721d1c-4699-4753-9017-1fb5a17b47b7",
   "metadata": {},
   "outputs": [
    {
     "name": "stderr",
     "output_type": "stream",
     "text": [
      "100%|███████████████████████████████████████████████| 20786/20786 [5:19:51<00:00,  1.08it/s]\n"
     ]
    }
   ],
   "source": [
    "tqdm.pandas()\n",
    "\n",
    "ldlc_valid_18_nontg_index_nosecondary_final[\"Scaled LDL-C Max\"] = ldlc_valid_18_nontg_index_nosecondary_final.progress_apply(\n",
    "    llt_rescale, axis=1\n",
    "    \n",
    ")"
   ]
  },
  {
   "cell_type": "code",
   "execution_count": 16,
   "id": "b667f410-0888-4eb2-a8e1-2f2818287de3",
   "metadata": {},
   "outputs": [
    {
     "data": {
      "text/plain": [
       "807"
      ]
     },
     "execution_count": 16,
     "metadata": {},
     "output_type": "execute_result"
    }
   ],
   "source": [
    "# number of cases scaled\n",
    "(ldlc_valid_18_nontg_index_nosecondary_final[\"LDL-C Max\"] != ldlc_valid_18_nontg_index_nosecondary_final[\"Scaled LDL-C Max\"]).sum()"
   ]
  },
  {
   "cell_type": "code",
   "execution_count": 17,
   "id": "3a861857-9207-4b5f-8ca8-7283da0ef0be",
   "metadata": {},
   "outputs": [
    {
     "data": {
      "text/html": [
       "<div>\n",
       "<style scoped>\n",
       "    .dataframe tbody tr th:only-of-type {\n",
       "        vertical-align: middle;\n",
       "    }\n",
       "\n",
       "    .dataframe tbody tr th {\n",
       "        vertical-align: top;\n",
       "    }\n",
       "\n",
       "    .dataframe thead th {\n",
       "        text-align: right;\n",
       "    }\n",
       "</style>\n",
       "<table border=\"1\" class=\"dataframe\">\n",
       "  <thead>\n",
       "    <tr style=\"text-align: right;\">\n",
       "      <th></th>\n",
       "      <th>Patient ID</th>\n",
       "      <th>LDL-C Max</th>\n",
       "      <th>Index Date</th>\n",
       "      <th>Scaled LDL-C Max</th>\n",
       "    </tr>\n",
       "  </thead>\n",
       "  <tbody>\n",
       "    <tr>\n",
       "      <th>125</th>\n",
       "      <td>F7405823W</td>\n",
       "      <td>1.73</td>\n",
       "      <td>2015-11-01</td>\n",
       "      <td>2.768</td>\n",
       "    </tr>\n",
       "    <tr>\n",
       "      <th>128</th>\n",
       "      <td>F7475829X</td>\n",
       "      <td>2.71</td>\n",
       "      <td>2015-09-23</td>\n",
       "      <td>4.336</td>\n",
       "    </tr>\n",
       "    <tr>\n",
       "      <th>279</th>\n",
       "      <td>G1055848X</td>\n",
       "      <td>1.46</td>\n",
       "      <td>2018-08-21</td>\n",
       "      <td>2.336</td>\n",
       "    </tr>\n",
       "    <tr>\n",
       "      <th>368</th>\n",
       "      <td>G3056360W</td>\n",
       "      <td>2.74</td>\n",
       "      <td>2018-10-02</td>\n",
       "      <td>4.384</td>\n",
       "    </tr>\n",
       "    <tr>\n",
       "      <th>554</th>\n",
       "      <td>G6667404K</td>\n",
       "      <td>3.32</td>\n",
       "      <td>2018-01-20</td>\n",
       "      <td>6.640</td>\n",
       "    </tr>\n",
       "    <tr>\n",
       "      <th>...</th>\n",
       "      <td>...</td>\n",
       "      <td>...</td>\n",
       "      <td>...</td>\n",
       "      <td>...</td>\n",
       "    </tr>\n",
       "    <tr>\n",
       "      <th>20106</th>\n",
       "      <td>S9531639E</td>\n",
       "      <td>2.71</td>\n",
       "      <td>2015-07-08</td>\n",
       "      <td>4.336</td>\n",
       "    </tr>\n",
       "    <tr>\n",
       "      <th>20657</th>\n",
       "      <td>X0170018318H</td>\n",
       "      <td>2.72</td>\n",
       "      <td>2016-03-04</td>\n",
       "      <td>3.808</td>\n",
       "    </tr>\n",
       "    <tr>\n",
       "      <th>20699</th>\n",
       "      <td>X0170042553Z</td>\n",
       "      <td>2.91</td>\n",
       "      <td>2016-11-26</td>\n",
       "      <td>4.074</td>\n",
       "    </tr>\n",
       "    <tr>\n",
       "      <th>20714</th>\n",
       "      <td>X0170049475B</td>\n",
       "      <td>0.96</td>\n",
       "      <td>2017-11-02</td>\n",
       "      <td>1.728</td>\n",
       "    </tr>\n",
       "    <tr>\n",
       "      <th>20761</th>\n",
       "      <td>X0170067584F</td>\n",
       "      <td>2.85</td>\n",
       "      <td>2018-05-18</td>\n",
       "      <td>4.560</td>\n",
       "    </tr>\n",
       "  </tbody>\n",
       "</table>\n",
       "<p>807 rows × 4 columns</p>\n",
       "</div>"
      ],
      "text/plain": [
       "         Patient ID  LDL-C Max Index Date  Scaled LDL-C Max\n",
       "125       F7405823W       1.73 2015-11-01             2.768\n",
       "128       F7475829X       2.71 2015-09-23             4.336\n",
       "279       G1055848X       1.46 2018-08-21             2.336\n",
       "368       G3056360W       2.74 2018-10-02             4.384\n",
       "554       G6667404K       3.32 2018-01-20             6.640\n",
       "...             ...        ...        ...               ...\n",
       "20106     S9531639E       2.71 2015-07-08             4.336\n",
       "20657  X0170018318H       2.72 2016-03-04             3.808\n",
       "20699  X0170042553Z       2.91 2016-11-26             4.074\n",
       "20714  X0170049475B       0.96 2017-11-02             1.728\n",
       "20761  X0170067584F       2.85 2018-05-18             4.560\n",
       "\n",
       "[807 rows x 4 columns]"
      ]
     },
     "execution_count": 17,
     "metadata": {},
     "output_type": "execute_result"
    }
   ],
   "source": [
    "ldlc_valid_18_nontg_index_nosecondary_final[ldlc_valid_18_nontg_index_nosecondary_final[\"LDL-C Max\"] != ldlc_valid_18_nontg_index_nosecondary_final[\"Scaled LDL-C Max\"]]"
   ]
  },
  {
   "cell_type": "code",
   "execution_count": 18,
   "id": "d7418736-01b4-41ac-bcb1-9feea1d20033",
   "metadata": {},
   "outputs": [],
   "source": [
    "##\n",
    "def segment(ldlc_val):\n",
    "    if ldlc_val >= 4.9:\n",
    "        return \"Cases\"\n",
    "    elif 3.36 < ldlc_val < 4.9:\n",
    "        return \"Unknown\"\n",
    "    elif ldlc_val <= 3.36:\n",
    "        return \"Control\"\n",
    "    else:\n",
    "        raise ValueError(\"Unable to handle ldlc_val.\")\n",
    "\n",
    "ldlc_valid_18_nontg_index_nosecondary_final[\"Category\"] = ldlc_valid_18_nontg_index_nosecondary_final[\"Scaled LDL-C Max\"].apply(segment)"
   ]
  },
  {
   "cell_type": "code",
   "execution_count": 20,
   "id": "5e7435e5-a8a7-414c-86dc-fbf1501e7415",
   "metadata": {},
   "outputs": [
    {
     "data": {
      "text/plain": [
       "Category\n",
       "Control    13947\n",
       "Unknown     5572\n",
       "Cases       1267\n",
       "Name: count, dtype: int64"
      ]
     },
     "execution_count": 20,
     "metadata": {},
     "output_type": "execute_result"
    }
   ],
   "source": [
    "ldlc_valid_18_nontg_index_nosecondary_final[\"Category\"].value_counts()"
   ]
  },
  {
   "cell_type": "code",
   "execution_count": 21,
   "id": "dc4dc4ac-2ed7-4285-9902-de97a0c1c9bd",
   "metadata": {},
   "outputs": [],
   "source": [
    "ldlc_valid_18_nontg_index_nosecondary_final.to_csv(\n",
    "    os.path.join(PROJECT_ROOT, \"results\", \"scaled_ldlc_valid_18_nontg_index_nosecondary_final.csv\"),\n",
    "    index=False,\n",
    ")"
   ]
  },
  {
   "cell_type": "code",
   "execution_count": 22,
   "id": "c9c241ad-cb42-435f-ab20-31221f7362a6",
   "metadata": {},
   "outputs": [
    {
     "name": "stdout",
     "output_type": "stream",
     "text": [
      "<class 'pandas.core.frame.DataFrame'>\n",
      "RangeIndex: 20786 entries, 0 to 20785\n",
      "Data columns (total 5 columns):\n",
      " #   Column            Non-Null Count  Dtype         \n",
      "---  ------            --------------  -----         \n",
      " 0   Patient ID        20786 non-null  object        \n",
      " 1   LDL-C Max         20786 non-null  float64       \n",
      " 2   Index Date        20786 non-null  datetime64[ns]\n",
      " 3   Scaled LDL-C Max  20786 non-null  float64       \n",
      " 4   Category          20786 non-null  object        \n",
      "dtypes: datetime64[ns](1), float64(2), object(2)\n",
      "memory usage: 812.1+ KB\n"
     ]
    }
   ],
   "source": [
    "ldlc_valid_18_nontg_index_nosecondary_final.info()"
   ]
  },
  {
   "cell_type": "markdown",
   "id": "ed3ea18d-f703-44c6-9f2d-c9e2d3fb07fa",
   "metadata": {},
   "source": [
    "## End."
   ]
  }
 ],
 "metadata": {
  "kernelspec": {
   "display_name": "basic-ds-toolkit",
   "language": "python",
   "name": "basic-ds-toolkit"
  },
  "language_info": {
   "codemirror_mode": {
    "name": "ipython",
    "version": 3
   },
   "file_extension": ".py",
   "mimetype": "text/x-python",
   "name": "python",
   "nbconvert_exporter": "python",
   "pygments_lexer": "ipython3",
   "version": "3.12.7"
  }
 },
 "nbformat": 4,
 "nbformat_minor": 5
}
