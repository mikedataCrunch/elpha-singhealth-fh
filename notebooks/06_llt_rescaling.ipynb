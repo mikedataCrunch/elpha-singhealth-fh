{
 "cells": [
  {
   "cell_type": "code",
   "execution_count": 1,
   "id": "c41dc841-84b5-4d58-9b9a-7c49861a32d2",
   "metadata": {},
   "outputs": [],
   "source": [
    "%load_ext autoreload\n",
    "%autoreload 2"
   ]
  },
  {
   "cell_type": "code",
   "execution_count": 46,
   "id": "84b80695-a6bd-4208-a3dd-e983f177ab19",
   "metadata": {},
   "outputs": [],
   "source": [
    "import os\n",
    "import numpy as np\n",
    "import pandas as pd\n",
    "import sys\n",
    "from glob import glob\n",
    "REPO_DIR = \"/Users/mdorosan/Desktop/2024/elpha-singhealth-fh\"\n",
    "sys.path.append(REPO_DIR)\n",
    "from tqdm import tqdm\n",
    "from datetime import datetime\n",
    "import random\n",
    "\n",
    "import utils.PATHS as PATHS\n",
    "import utils.utils as utils\n",
    "# import utils.emr_utils as emr_utils\n",
    "# import utils.load_utils as load_utils"
   ]
  },
  {
   "cell_type": "markdown",
   "id": "b4157b74-d1f6-44da-a79b-c1f65f5fa34c",
   "metadata": {},
   "source": [
    "# Lipid-lowering treatment criteria for scaling of LDL-C values"
   ]
  },
  {
   "cell_type": "markdown",
   "id": "8315f781-c0ce-45c6-8c07-f557ba56dd4a",
   "metadata": {},
   "source": [
    "## Notes\n",
    "\n",
    "* Drug dispensed data for each patient is based on the `Generic Drug Name` column\n",
    "* Currently the `Drug Prescribed Date From` is used as reference as `Drug Prescribed Date To` may go beyond the `Index Date` from the previous notebook.\n",
    "* This notebook proceeds as follows:\n",
    "   1. Creation of a patient list according to lipid-lowering treatment (LLT) criteria\n",
    "   2. Scaling the LDL-C values accordingly, i.e., dividing LDL-C values 0.7 (confirm if this is divide or multiple like a scaling factor)\n",
    "   3. Segmentation of cohort according to scaled LDL-C thresholds\n",
    "      - Cases: LDL-C >= `4.9`\n",
    "      - Unknown: `3.36` < LDL-C < `4.9`\n",
    "      - Controls: LDL-C <= `3.36`"
   ]
  },
  {
   "cell_type": "markdown",
   "id": "cbc2a06c-1811-457a-86f3-549e2528ad9f",
   "metadata": {},
   "source": [
    "## 1. LLT Data Preprocessing"
   ]
  },
  {
   "cell_type": "code",
   "execution_count": 3,
   "id": "80bb24d4-2077-4775-ac6f-9ad6cb9a37d7",
   "metadata": {},
   "outputs": [
    {
     "name": "stderr",
     "output_type": "stream",
     "text": [
      "100%|███████████████████████████████████████████| 48/48 [01:15<00:00,  1.58s/it]\n"
     ]
    }
   ],
   "source": [
    "dd_fp_list = glob(os.path.join(PATHS.DRUG_DISPENSED, \"*.csv\"))\n",
    "\n",
    "# general labs dataframe\n",
    "df_list = [pd.read_csv(path, low_memory=False) for path in tqdm(dd_fp_list)]\n",
    "df = pd.concat(df_list, ignore_index=True)\n",
    "\n",
    "drug_name_col = \"Generic Drug Name\"\n",
    "pid_col = \"Patient ID\"\n",
    "date_col = \"Drug Prescribed Date From\"\n",
    "backup_date_col = \"Drug Dispensed Date From\" # has more weird values\n",
    "ref_date_col = \"Drug Reference Date\"\n",
    "\n",
    "# prep datetime cols\n",
    "df[date_col] = pd.to_datetime(df[date_col])\n",
    "df[backup_date_col] = pd.to_datetime(df[backup_date_col])"
   ]
  },
  {
   "cell_type": "code",
   "execution_count": 5,
   "id": "2dd9ee8a-f8fe-4356-8315-5824a01ea521",
   "metadata": {},
   "outputs": [
    {
     "name": "stderr",
     "output_type": "stream",
     "text": [
      "100%|███████████████████████████| 20132904/20132904 [02:49<00:00, 118472.57it/s]\n"
     ]
    }
   ],
   "source": [
    "tqdm.pandas()\n",
    "\n",
    "# RESOLVE OPTION\n",
    "def resolve_date(row):\n",
    "    \"\"\"Use prescribed date when dispensed date is not available.\"\"\"\n",
    "    if np.isnat(np.datetime64(str(row[date_col]))):\n",
    "        return row[backup_date_col]\n",
    "    return row[date_col]\n",
    "\n",
    "df[ref_date_col] = df.progress_apply(lambda row: resolve_date(row), axis=1)"
   ]
  },
  {
   "cell_type": "code",
   "execution_count": null,
   "id": "f8622191-64fa-4472-ba1a-30c731020dcb",
   "metadata": {},
   "outputs": [],
   "source": [
    "# DROP OPTION\n",
    "\n",
    "# df[\"Drug Reference Date\"] = df[date_col]\n",
    "# df = df.dropna(subset=[\"Drug Reference Date\"])"
   ]
  },
  {
   "cell_type": "code",
   "execution_count": null,
   "id": "fb884ea0-656b-4eb4-83b2-1be8eb42ea84",
   "metadata": {},
   "outputs": [],
   "source": [
    "# see utils.llt_meds for list of relevant prescriptions\n",
    "llt = df[df[drug_name_col].str.lower().isin(utils.llt_meds)]"
   ]
  },
  {
   "cell_type": "code",
   "execution_count": 18,
   "id": "8ff9d074-2715-4423-b977-241f47136eaa",
   "metadata": {},
   "outputs": [],
   "source": [
    "# # Inspect weird dates\n",
    "# grouper = df.groupby(df[backup_date_col].dt.year)\n",
    "# grouper.size()"
   ]
  },
  {
   "cell_type": "markdown",
   "id": "259e3120-f17c-413c-b29a-0dc95bd12edd",
   "metadata": {},
   "source": [
    "## 2. Load the LDL-C values"
   ]
  },
  {
   "cell_type": "code",
   "execution_count": 19,
   "id": "e2cae4df-fd27-4524-ae41-50f904ff11ff",
   "metadata": {},
   "outputs": [],
   "source": [
    "path = os.path.join(REPO_DIR, \"results\", \"ldlc_valid_18_nontg_index_nosecondary_final.csv\")\n",
    "ldlc_valid_18_nontg_index_nosecondary_final = pd.read_csv(path)"
   ]
  },
  {
   "cell_type": "code",
   "execution_count": 20,
   "id": "667c557a-5838-436a-9467-1256cfb491b8",
   "metadata": {},
   "outputs": [
    {
     "name": "stdout",
     "output_type": "stream",
     "text": [
      "<class 'pandas.core.frame.DataFrame'>\n",
      "RangeIndex: 20787 entries, 0 to 20786\n",
      "Data columns (total 3 columns):\n",
      " #   Column      Non-Null Count  Dtype  \n",
      "---  ------      --------------  -----  \n",
      " 0   Patient ID  20787 non-null  object \n",
      " 1   LDL-C Max   20787 non-null  float64\n",
      " 2   Index Date  20787 non-null  object \n",
      "dtypes: float64(1), object(2)\n",
      "memory usage: 487.3+ KB\n"
     ]
    }
   ],
   "source": [
    "ldlc_valid_18_nontg_index_nosecondary_final.info()"
   ]
  },
  {
   "cell_type": "code",
   "execution_count": 26,
   "id": "575f30b6-a6de-43fd-b685-a2b855b38422",
   "metadata": {},
   "outputs": [],
   "source": [
    "# prep datetime cols\n",
    "ldlc_valid_18_nontg_index_nosecondary_final[\"Index Date\"] = pd.to_datetime(\n",
    "    ldlc_valid_18_nontg_index_nosecondary_final[\"Index Date\"]\n",
    ")"
   ]
  },
  {
   "cell_type": "markdown",
   "id": "6e686c13-8406-4385-a880-943975ad2511",
   "metadata": {},
   "source": [
    "## 3. LLT data filtering based on LDL-C Index Date"
   ]
  },
  {
   "cell_type": "code",
   "execution_count": 34,
   "id": "9552aae7-f5f9-4ea0-8093-18fb454abdcb",
   "metadata": {},
   "outputs": [
    {
     "data": {
      "text/plain": [
       "Timestamp('2014-11-04 00:00:00')"
      ]
     },
     "metadata": {},
     "output_type": "display_data"
    },
    {
     "data": {
      "text/plain": [
       "Timestamp('2024-03-27 00:00:00')"
      ]
     },
     "metadata": {},
     "output_type": "display_data"
    }
   ],
   "source": [
    "# excldue drug data that are too old: over 1 year before the minimum LDLC Index Date\n",
    "mask = df[ref_date_col] < (ldlc_valid_18_nontg_index_nosecondary_final[\"Index Date\"].min() - pd.Timedelta(days=366))\n",
    "llt = df[~mask]\n",
    "\n",
    "# check\n",
    "display(llt[ref_date_col].min())\n",
    "display(llt[ref_date_col].max())"
   ]
  },
  {
   "cell_type": "markdown",
   "id": "d7ab6746-3976-494d-b7ca-4f464d323d11",
   "metadata": {},
   "source": [
    "# 4. Scaling the LDL-C Max values"
   ]
  },
  {
   "cell_type": "code",
   "execution_count": 80,
   "id": "41e0ba6b-722f-4f4b-9bc1-7db33ddd2f7b",
   "metadata": {},
   "outputs": [],
   "source": [
    "ezetimibe_combis = {\n",
    "    \"atorvastatin\": {\n",
    "        \"10mg\" : 2.0,\n",
    "        \"20mg\" : 2.2,\n",
    "        \"40mg\" : 2.2,\n",
    "    },\n",
    "    \"pravastatin sodium\": {\n",
    "        '20MG': 1.6,\n",
    "    },\n",
    "    \"simvastatin\": {\n",
    "        \"10mg\": 1.9,\n",
    "        \"20mg\": 2.0,\n",
    "    },\n",
    "    \"rosuvastatin\" : {\n",
    "        \"10MG\" : 1.9,\n",
    "        \"20MG\" : 2.1,\n",
    "    },\n",
    "}\n",
    "\n",
    "special_factors = {\n",
    "    \"pravastatin sodium\": {\n",
    "        '20MG': 1.3,\n",
    "    }, # 20MG\n",
    "\n",
    "    \"ezetimibe,simvastatin tab\" : {\n",
    "        \"10/10\": 1.9,\n",
    "        \"10/20\": 2.0,\n",
    "    }, # 10/10, 10/20\n",
    "\n",
    "    \"ezetimibe\": {\n",
    "        \"10mg\": 1.2,\n",
    "    }, # 10mg\n",
    "\n",
    "    \"simvastatin\": {\n",
    "        \"10mg\": 1.4,\n",
    "        \"20mg\": 1.6,\n",
    "    }, # 10mg, 20mg\n",
    "\n",
    "    \"atorvastatin\": {\n",
    "        \"10mg\" : 1.6,\n",
    "        \"20mg\" : 1.8,\n",
    "        \"40mg\" : 2.0,\n",
    "    }, # 10mg, 40mg, 20mg\n",
    "\n",
    "    \"rosuvastatin\": {\n",
    "        \"10MG\" : 1.9,\n",
    "        \"20MG\" : 2.1,\n",
    "    }, # 10MG, 20MG\n",
    "\n",
    "    # # --- NOT IN NUHS DOC --- #\n",
    "    # \"lovastatin\": {\n",
    "    #     \"20mg\" : None,\n",
    "    # }, # 20mg\n",
    "\n",
    "    # \"metronidazole, nystatin\": {\n",
    "    #     \"500mg\": None,\n",
    "    #     \"100,000 unit\": None,\n",
    "    # }, # 500mg, 100,000 unit  \n",
    "\n",
    "    # \"nystatin\": {\n",
    "    #     \"100,000IU\" : None,\n",
    "    # }, # 100,000IU\n",
    "} "
   ]
  },
  {
   "cell_type": "code",
   "execution_count": 88,
   "id": "85e772af-c31b-4503-bea3-a987dc3ce7dd",
   "metadata": {},
   "outputs": [],
   "source": [
    "def llt_rescale(row):\n",
    "    pid = row[\"Patient ID\"]\n",
    "    index_date = row[\"Index Date\"]\n",
    "    temp_llt = llt[llt[pid_col] == pid]\n",
    "    \n",
    "    ## take only those records which are between 365 days and 42 days of index date\n",
    "    temp_llt = temp_llt[\n",
    "        (index_date - temp_llt[ref_date_col] >= pd.Timedelta(days=42)) & \n",
    "        (index_date - temp_llt[ref_date_col] <= pd.Timedelta(days=365))\n",
    "    ]\n",
    "    \n",
    "    ## if not empty apply correction else do not\n",
    "    if (temp_llt.empty):\n",
    "        factor = 1\n",
    "    else:\n",
    "        most_recent = temp_llt[ref_date_col].sort_values(ascending=False).iloc[0]\n",
    "        temp_llt = temp_llt[temp_llt[ref_date_col] == most_recent]\n",
    "\n",
    "        # intersections\n",
    "        prescribed_list = temp_llt[drug_name_col].str.lower().unique().tolist()\n",
    "        \n",
    "        if len(prescribed_list) == 1:\n",
    "            drug_key =  prescribed_list[0]\n",
    "            factor_dict = special_factors.get(drug_key)\n",
    "            if not factor_dict:\n",
    "                if drug_key in utils.llt_meds:\n",
    "                    factor = 1/0.7\n",
    "                else:\n",
    "                    factor = 1\n",
    "            else:\n",
    "                dose_key = temp_llt[temp_llt[drug_name_col]==drug_key].iloc[0][\"Drug Strength\"]\n",
    "                factor = factor_dict.get(dose_key)\n",
    "            \n",
    "        elif len(set(prescribed_list).intersection(set(ezetimibe_combis.keys()))) \\\n",
    "            and (\"ezetimibe\" in prescribed_list):\n",
    "            prescribed_list.remove(\"ezetimibe\")\n",
    "            \n",
    "            combis_set = set(prescribed_list).intersection(set(ezetimibe_combis.keys()))\n",
    "            \n",
    "            # get a random special drug\n",
    "            drug_key = random.sample(list(combis_set), 1)[0]\n",
    "\n",
    "            # get dose\n",
    "            drug_subset = temp_llt.loc[temp_llt[drug_name_col].str.lower() == drug_key]\n",
    "            dose_key = drug_subset.iloc[0][\"Drug Strength\"]\n",
    "\n",
    "            # get factor\n",
    "            factor = ezetimibe_combis.get(drug_key).get(dose_key)\n",
    "                \n",
    "        elif len(set(prescribed_list).intersection(set(special_factors.keys()))):\n",
    "            special_set = set(prescribed_list).intersection(set(special_factors.keys()))\n",
    "\n",
    "            # get a random special drug\n",
    "            drug_key = random.sample(list(special_set), 1)[0]\n",
    "\n",
    "            # get dose\n",
    "            drug_subset = temp_llt.loc[temp_llt[drug_name_col].str.lower() == drug_key]\n",
    "            dose_key = drug_subset.iloc[0][\"Drug Strength\"]\n",
    "\n",
    "            # get factor\n",
    "            factor = special_factors.get(drug_key).get(dose_key)\n",
    "            # if factor == None:\n",
    "            #      raise Exception(f\"{drug_key}--{dose_key}\")\n",
    "                                        \n",
    "        elif len(set(prescribed_list).intersection(set(utils.llt_meds))):\n",
    "            factor = 1/0.7\n",
    "\n",
    "        else:\n",
    "            factor = 1 \n",
    "    # display(row[\"Patient ID\"])        \n",
    "    return row[\"LDL-C Max\"] * factor\n",
    "    "
   ]
  },
  {
   "cell_type": "code",
   "execution_count": 89,
   "id": "57721d1c-4699-4753-9017-1fb5a17b47b7",
   "metadata": {},
   "outputs": [
    {
     "name": "stderr",
     "output_type": "stream",
     "text": [
      " 17%|█████▉                              | 3451/20787 [31:07<2:36:22,  1.85it/s]\n"
     ]
    },
    {
     "ename": "IndexError",
     "evalue": "single positional indexer is out-of-bounds",
     "output_type": "error",
     "traceback": [
      "\u001b[0;31m---------------------------------------------------------------------------\u001b[0m",
      "\u001b[0;31mIndexError\u001b[0m                                Traceback (most recent call last)",
      "Cell \u001b[0;32mIn[89], line 3\u001b[0m\n\u001b[1;32m      1\u001b[0m tqdm\u001b[38;5;241m.\u001b[39mpandas()\n\u001b[0;32m----> 3\u001b[0m ldlc_valid_18_nontg_index_nosecondary_final[\u001b[38;5;124m\"\u001b[39m\u001b[38;5;124mScaled LDL-C Max\u001b[39m\u001b[38;5;124m\"\u001b[39m] \u001b[38;5;241m=\u001b[39m \u001b[43mldlc_valid_18_nontg_index_nosecondary_final\u001b[49m\u001b[38;5;241;43m.\u001b[39;49m\u001b[43mprogress_apply\u001b[49m\u001b[43m(\u001b[49m\n\u001b[1;32m      4\u001b[0m \u001b[43m    \u001b[49m\u001b[43mllt_rescale\u001b[49m\u001b[43m,\u001b[49m\u001b[43m \u001b[49m\u001b[43maxis\u001b[49m\u001b[38;5;241;43m=\u001b[39;49m\u001b[38;5;241;43m1\u001b[39;49m\n\u001b[1;32m      5\u001b[0m \u001b[43m)\u001b[49m\n",
      "File \u001b[0;32m~/miniconda3/envs/basic-ds-toolkit/lib/python3.12/site-packages/tqdm/std.py:805\u001b[0m, in \u001b[0;36mtqdm.pandas.<locals>.inner_generator.<locals>.inner\u001b[0;34m(df, func, *args, **kwargs)\u001b[0m\n\u001b[1;32m    802\u001b[0m \u001b[38;5;66;03m# Apply the provided function (in **kwargs)\u001b[39;00m\n\u001b[1;32m    803\u001b[0m \u001b[38;5;66;03m# on the df using our wrapper (which provides bar updating)\u001b[39;00m\n\u001b[1;32m    804\u001b[0m \u001b[38;5;28;01mtry\u001b[39;00m:\n\u001b[0;32m--> 805\u001b[0m     \u001b[38;5;28;01mreturn\u001b[39;00m \u001b[38;5;28;43mgetattr\u001b[39;49m\u001b[43m(\u001b[49m\u001b[43mdf\u001b[49m\u001b[43m,\u001b[49m\u001b[43m \u001b[49m\u001b[43mdf_function\u001b[49m\u001b[43m)\u001b[49m\u001b[43m(\u001b[49m\u001b[43mwrapper\u001b[49m\u001b[43m,\u001b[49m\u001b[43m \u001b[49m\u001b[38;5;241;43m*\u001b[39;49m\u001b[38;5;241;43m*\u001b[39;49m\u001b[43mkwargs\u001b[49m\u001b[43m)\u001b[49m\n\u001b[1;32m    806\u001b[0m \u001b[38;5;28;01mfinally\u001b[39;00m:\n\u001b[1;32m    807\u001b[0m     t\u001b[38;5;241m.\u001b[39mclose()\n",
      "File \u001b[0;32m~/miniconda3/envs/basic-ds-toolkit/lib/python3.12/site-packages/pandas/core/frame.py:10374\u001b[0m, in \u001b[0;36mDataFrame.apply\u001b[0;34m(self, func, axis, raw, result_type, args, by_row, engine, engine_kwargs, **kwargs)\u001b[0m\n\u001b[1;32m  10360\u001b[0m \u001b[38;5;28;01mfrom\u001b[39;00m \u001b[38;5;21;01mpandas\u001b[39;00m\u001b[38;5;21;01m.\u001b[39;00m\u001b[38;5;21;01mcore\u001b[39;00m\u001b[38;5;21;01m.\u001b[39;00m\u001b[38;5;21;01mapply\u001b[39;00m \u001b[38;5;28;01mimport\u001b[39;00m frame_apply\n\u001b[1;32m  10362\u001b[0m op \u001b[38;5;241m=\u001b[39m frame_apply(\n\u001b[1;32m  10363\u001b[0m     \u001b[38;5;28mself\u001b[39m,\n\u001b[1;32m  10364\u001b[0m     func\u001b[38;5;241m=\u001b[39mfunc,\n\u001b[0;32m   (...)\u001b[0m\n\u001b[1;32m  10372\u001b[0m     kwargs\u001b[38;5;241m=\u001b[39mkwargs,\n\u001b[1;32m  10373\u001b[0m )\n\u001b[0;32m> 10374\u001b[0m \u001b[38;5;28;01mreturn\u001b[39;00m \u001b[43mop\u001b[49m\u001b[38;5;241;43m.\u001b[39;49m\u001b[43mapply\u001b[49m\u001b[43m(\u001b[49m\u001b[43m)\u001b[49m\u001b[38;5;241m.\u001b[39m__finalize__(\u001b[38;5;28mself\u001b[39m, method\u001b[38;5;241m=\u001b[39m\u001b[38;5;124m\"\u001b[39m\u001b[38;5;124mapply\u001b[39m\u001b[38;5;124m\"\u001b[39m)\n",
      "File \u001b[0;32m~/miniconda3/envs/basic-ds-toolkit/lib/python3.12/site-packages/pandas/core/apply.py:916\u001b[0m, in \u001b[0;36mFrameApply.apply\u001b[0;34m(self)\u001b[0m\n\u001b[1;32m    913\u001b[0m \u001b[38;5;28;01melif\u001b[39;00m \u001b[38;5;28mself\u001b[39m\u001b[38;5;241m.\u001b[39mraw:\n\u001b[1;32m    914\u001b[0m     \u001b[38;5;28;01mreturn\u001b[39;00m \u001b[38;5;28mself\u001b[39m\u001b[38;5;241m.\u001b[39mapply_raw(engine\u001b[38;5;241m=\u001b[39m\u001b[38;5;28mself\u001b[39m\u001b[38;5;241m.\u001b[39mengine, engine_kwargs\u001b[38;5;241m=\u001b[39m\u001b[38;5;28mself\u001b[39m\u001b[38;5;241m.\u001b[39mengine_kwargs)\n\u001b[0;32m--> 916\u001b[0m \u001b[38;5;28;01mreturn\u001b[39;00m \u001b[38;5;28;43mself\u001b[39;49m\u001b[38;5;241;43m.\u001b[39;49m\u001b[43mapply_standard\u001b[49m\u001b[43m(\u001b[49m\u001b[43m)\u001b[49m\n",
      "File \u001b[0;32m~/miniconda3/envs/basic-ds-toolkit/lib/python3.12/site-packages/pandas/core/apply.py:1063\u001b[0m, in \u001b[0;36mFrameApply.apply_standard\u001b[0;34m(self)\u001b[0m\n\u001b[1;32m   1061\u001b[0m \u001b[38;5;28;01mdef\u001b[39;00m \u001b[38;5;21mapply_standard\u001b[39m(\u001b[38;5;28mself\u001b[39m):\n\u001b[1;32m   1062\u001b[0m     \u001b[38;5;28;01mif\u001b[39;00m \u001b[38;5;28mself\u001b[39m\u001b[38;5;241m.\u001b[39mengine \u001b[38;5;241m==\u001b[39m \u001b[38;5;124m\"\u001b[39m\u001b[38;5;124mpython\u001b[39m\u001b[38;5;124m\"\u001b[39m:\n\u001b[0;32m-> 1063\u001b[0m         results, res_index \u001b[38;5;241m=\u001b[39m \u001b[38;5;28;43mself\u001b[39;49m\u001b[38;5;241;43m.\u001b[39;49m\u001b[43mapply_series_generator\u001b[49m\u001b[43m(\u001b[49m\u001b[43m)\u001b[49m\n\u001b[1;32m   1064\u001b[0m     \u001b[38;5;28;01melse\u001b[39;00m:\n\u001b[1;32m   1065\u001b[0m         results, res_index \u001b[38;5;241m=\u001b[39m \u001b[38;5;28mself\u001b[39m\u001b[38;5;241m.\u001b[39mapply_series_numba()\n",
      "File \u001b[0;32m~/miniconda3/envs/basic-ds-toolkit/lib/python3.12/site-packages/pandas/core/apply.py:1081\u001b[0m, in \u001b[0;36mFrameApply.apply_series_generator\u001b[0;34m(self)\u001b[0m\n\u001b[1;32m   1078\u001b[0m \u001b[38;5;28;01mwith\u001b[39;00m option_context(\u001b[38;5;124m\"\u001b[39m\u001b[38;5;124mmode.chained_assignment\u001b[39m\u001b[38;5;124m\"\u001b[39m, \u001b[38;5;28;01mNone\u001b[39;00m):\n\u001b[1;32m   1079\u001b[0m     \u001b[38;5;28;01mfor\u001b[39;00m i, v \u001b[38;5;129;01min\u001b[39;00m \u001b[38;5;28menumerate\u001b[39m(series_gen):\n\u001b[1;32m   1080\u001b[0m         \u001b[38;5;66;03m# ignore SettingWithCopy here in case the user mutates\u001b[39;00m\n\u001b[0;32m-> 1081\u001b[0m         results[i] \u001b[38;5;241m=\u001b[39m \u001b[38;5;28;43mself\u001b[39;49m\u001b[38;5;241;43m.\u001b[39;49m\u001b[43mfunc\u001b[49m\u001b[43m(\u001b[49m\u001b[43mv\u001b[49m\u001b[43m,\u001b[49m\u001b[43m \u001b[49m\u001b[38;5;241;43m*\u001b[39;49m\u001b[38;5;28;43mself\u001b[39;49m\u001b[38;5;241;43m.\u001b[39;49m\u001b[43margs\u001b[49m\u001b[43m,\u001b[49m\u001b[43m \u001b[49m\u001b[38;5;241;43m*\u001b[39;49m\u001b[38;5;241;43m*\u001b[39;49m\u001b[38;5;28;43mself\u001b[39;49m\u001b[38;5;241;43m.\u001b[39;49m\u001b[43mkwargs\u001b[49m\u001b[43m)\u001b[49m\n\u001b[1;32m   1082\u001b[0m         \u001b[38;5;28;01mif\u001b[39;00m \u001b[38;5;28misinstance\u001b[39m(results[i], ABCSeries):\n\u001b[1;32m   1083\u001b[0m             \u001b[38;5;66;03m# If we have a view on v, we need to make a copy because\u001b[39;00m\n\u001b[1;32m   1084\u001b[0m             \u001b[38;5;66;03m#  series_generator will swap out the underlying data\u001b[39;00m\n\u001b[1;32m   1085\u001b[0m             results[i] \u001b[38;5;241m=\u001b[39m results[i]\u001b[38;5;241m.\u001b[39mcopy(deep\u001b[38;5;241m=\u001b[39m\u001b[38;5;28;01mFalse\u001b[39;00m)\n",
      "File \u001b[0;32m~/miniconda3/envs/basic-ds-toolkit/lib/python3.12/site-packages/tqdm/std.py:800\u001b[0m, in \u001b[0;36mtqdm.pandas.<locals>.inner_generator.<locals>.inner.<locals>.wrapper\u001b[0;34m(*args, **kwargs)\u001b[0m\n\u001b[1;32m    794\u001b[0m \u001b[38;5;28;01mdef\u001b[39;00m \u001b[38;5;21mwrapper\u001b[39m(\u001b[38;5;241m*\u001b[39margs, \u001b[38;5;241m*\u001b[39m\u001b[38;5;241m*\u001b[39mkwargs):\n\u001b[1;32m    795\u001b[0m     \u001b[38;5;66;03m# update tbar correctly\u001b[39;00m\n\u001b[1;32m    796\u001b[0m     \u001b[38;5;66;03m# it seems `pandas apply` calls `func` twice\u001b[39;00m\n\u001b[1;32m    797\u001b[0m     \u001b[38;5;66;03m# on the first column/row to decide whether it can\u001b[39;00m\n\u001b[1;32m    798\u001b[0m     \u001b[38;5;66;03m# take a fast or slow code path; so stop when t.total==t.n\u001b[39;00m\n\u001b[1;32m    799\u001b[0m     t\u001b[38;5;241m.\u001b[39mupdate(n\u001b[38;5;241m=\u001b[39m\u001b[38;5;241m1\u001b[39m \u001b[38;5;28;01mif\u001b[39;00m \u001b[38;5;129;01mnot\u001b[39;00m t\u001b[38;5;241m.\u001b[39mtotal \u001b[38;5;129;01mor\u001b[39;00m t\u001b[38;5;241m.\u001b[39mn \u001b[38;5;241m<\u001b[39m t\u001b[38;5;241m.\u001b[39mtotal \u001b[38;5;28;01melse\u001b[39;00m \u001b[38;5;241m0\u001b[39m)\n\u001b[0;32m--> 800\u001b[0m     \u001b[38;5;28;01mreturn\u001b[39;00m \u001b[43mfunc\u001b[49m\u001b[43m(\u001b[49m\u001b[38;5;241;43m*\u001b[39;49m\u001b[43margs\u001b[49m\u001b[43m,\u001b[49m\u001b[43m \u001b[49m\u001b[38;5;241;43m*\u001b[39;49m\u001b[38;5;241;43m*\u001b[39;49m\u001b[43mkwargs\u001b[49m\u001b[43m)\u001b[49m\n",
      "Cell \u001b[0;32mIn[88], line 31\u001b[0m, in \u001b[0;36mllt_rescale\u001b[0;34m(row)\u001b[0m\n\u001b[1;32m     29\u001b[0m             factor \u001b[38;5;241m=\u001b[39m \u001b[38;5;241m1\u001b[39m\n\u001b[1;32m     30\u001b[0m     \u001b[38;5;28;01melse\u001b[39;00m:\n\u001b[0;32m---> 31\u001b[0m         dose_key \u001b[38;5;241m=\u001b[39m \u001b[43mtemp_llt\u001b[49m\u001b[43m[\u001b[49m\u001b[43mtemp_llt\u001b[49m\u001b[43m[\u001b[49m\u001b[43mdrug_name_col\u001b[49m\u001b[43m]\u001b[49m\u001b[38;5;241;43m==\u001b[39;49m\u001b[43mdrug_key\u001b[49m\u001b[43m]\u001b[49m\u001b[38;5;241;43m.\u001b[39;49m\u001b[43miloc\u001b[49m\u001b[43m[\u001b[49m\u001b[38;5;241;43m0\u001b[39;49m\u001b[43m]\u001b[49m[\u001b[38;5;124m\"\u001b[39m\u001b[38;5;124mDrug Strength\u001b[39m\u001b[38;5;124m\"\u001b[39m]\n\u001b[1;32m     32\u001b[0m         factor \u001b[38;5;241m=\u001b[39m factor_dict\u001b[38;5;241m.\u001b[39mget(dose_key)\n\u001b[1;32m     34\u001b[0m \u001b[38;5;28;01melif\u001b[39;00m \u001b[38;5;28mlen\u001b[39m(\u001b[38;5;28mset\u001b[39m(prescribed_list)\u001b[38;5;241m.\u001b[39mintersection(\u001b[38;5;28mset\u001b[39m(ezetimibe_combis\u001b[38;5;241m.\u001b[39mkeys()))) \\\n\u001b[1;32m     35\u001b[0m     \u001b[38;5;129;01mand\u001b[39;00m (\u001b[38;5;124m\"\u001b[39m\u001b[38;5;124mezetimibe\u001b[39m\u001b[38;5;124m\"\u001b[39m \u001b[38;5;129;01min\u001b[39;00m prescribed_list):\n",
      "File \u001b[0;32m~/miniconda3/envs/basic-ds-toolkit/lib/python3.12/site-packages/pandas/core/indexing.py:1191\u001b[0m, in \u001b[0;36m_LocationIndexer.__getitem__\u001b[0;34m(self, key)\u001b[0m\n\u001b[1;32m   1189\u001b[0m maybe_callable \u001b[38;5;241m=\u001b[39m com\u001b[38;5;241m.\u001b[39mapply_if_callable(key, \u001b[38;5;28mself\u001b[39m\u001b[38;5;241m.\u001b[39mobj)\n\u001b[1;32m   1190\u001b[0m maybe_callable \u001b[38;5;241m=\u001b[39m \u001b[38;5;28mself\u001b[39m\u001b[38;5;241m.\u001b[39m_check_deprecated_callable_usage(key, maybe_callable)\n\u001b[0;32m-> 1191\u001b[0m \u001b[38;5;28;01mreturn\u001b[39;00m \u001b[38;5;28;43mself\u001b[39;49m\u001b[38;5;241;43m.\u001b[39;49m\u001b[43m_getitem_axis\u001b[49m\u001b[43m(\u001b[49m\u001b[43mmaybe_callable\u001b[49m\u001b[43m,\u001b[49m\u001b[43m \u001b[49m\u001b[43maxis\u001b[49m\u001b[38;5;241;43m=\u001b[39;49m\u001b[43maxis\u001b[49m\u001b[43m)\u001b[49m\n",
      "File \u001b[0;32m~/miniconda3/envs/basic-ds-toolkit/lib/python3.12/site-packages/pandas/core/indexing.py:1752\u001b[0m, in \u001b[0;36m_iLocIndexer._getitem_axis\u001b[0;34m(self, key, axis)\u001b[0m\n\u001b[1;32m   1749\u001b[0m     \u001b[38;5;28;01mraise\u001b[39;00m \u001b[38;5;167;01mTypeError\u001b[39;00m(\u001b[38;5;124m\"\u001b[39m\u001b[38;5;124mCannot index by location index with a non-integer key\u001b[39m\u001b[38;5;124m\"\u001b[39m)\n\u001b[1;32m   1751\u001b[0m \u001b[38;5;66;03m# validate the location\u001b[39;00m\n\u001b[0;32m-> 1752\u001b[0m \u001b[38;5;28;43mself\u001b[39;49m\u001b[38;5;241;43m.\u001b[39;49m\u001b[43m_validate_integer\u001b[49m\u001b[43m(\u001b[49m\u001b[43mkey\u001b[49m\u001b[43m,\u001b[49m\u001b[43m \u001b[49m\u001b[43maxis\u001b[49m\u001b[43m)\u001b[49m\n\u001b[1;32m   1754\u001b[0m \u001b[38;5;28;01mreturn\u001b[39;00m \u001b[38;5;28mself\u001b[39m\u001b[38;5;241m.\u001b[39mobj\u001b[38;5;241m.\u001b[39m_ixs(key, axis\u001b[38;5;241m=\u001b[39maxis)\n",
      "File \u001b[0;32m~/miniconda3/envs/basic-ds-toolkit/lib/python3.12/site-packages/pandas/core/indexing.py:1685\u001b[0m, in \u001b[0;36m_iLocIndexer._validate_integer\u001b[0;34m(self, key, axis)\u001b[0m\n\u001b[1;32m   1683\u001b[0m len_axis \u001b[38;5;241m=\u001b[39m \u001b[38;5;28mlen\u001b[39m(\u001b[38;5;28mself\u001b[39m\u001b[38;5;241m.\u001b[39mobj\u001b[38;5;241m.\u001b[39m_get_axis(axis))\n\u001b[1;32m   1684\u001b[0m \u001b[38;5;28;01mif\u001b[39;00m key \u001b[38;5;241m>\u001b[39m\u001b[38;5;241m=\u001b[39m len_axis \u001b[38;5;129;01mor\u001b[39;00m key \u001b[38;5;241m<\u001b[39m \u001b[38;5;241m-\u001b[39mlen_axis:\n\u001b[0;32m-> 1685\u001b[0m     \u001b[38;5;28;01mraise\u001b[39;00m \u001b[38;5;167;01mIndexError\u001b[39;00m(\u001b[38;5;124m\"\u001b[39m\u001b[38;5;124msingle positional indexer is out-of-bounds\u001b[39m\u001b[38;5;124m\"\u001b[39m)\n",
      "\u001b[0;31mIndexError\u001b[0m: single positional indexer is out-of-bounds"
     ]
    }
   ],
   "source": [
    "tqdm.pandas()\n",
    "\n",
    "ldlc_valid_18_nontg_index_nosecondary_final[\"Scaled LDL-C Max\"] = ldlc_valid_18_nontg_index_nosecondary_final.progress_apply(\n",
    "    llt_rescale, axis=1\n",
    ")"
   ]
  },
  {
   "cell_type": "code",
   "execution_count": 14,
   "id": "b667f410-0888-4eb2-a8e1-2f2818287de3",
   "metadata": {},
   "outputs": [
    {
     "data": {
      "text/plain": [
       "736"
      ]
     },
     "execution_count": 14,
     "metadata": {},
     "output_type": "execute_result"
    }
   ],
   "source": [
    "# number of cases scaled\n",
    "(ldlc_valid_18_nontg_index_nosecondary_final[\"LDL-C Max\"] != ldlc_valid_18_nontg_index_nosecondary_final[\"Scaled LDL-C Max\"]).sum()"
   ]
  },
  {
   "cell_type": "code",
   "execution_count": 15,
   "id": "3a861857-9207-4b5f-8ca8-7283da0ef0be",
   "metadata": {},
   "outputs": [
    {
     "data": {
      "text/html": [
       "<div>\n",
       "<style scoped>\n",
       "    .dataframe tbody tr th:only-of-type {\n",
       "        vertical-align: middle;\n",
       "    }\n",
       "\n",
       "    .dataframe tbody tr th {\n",
       "        vertical-align: top;\n",
       "    }\n",
       "\n",
       "    .dataframe thead th {\n",
       "        text-align: right;\n",
       "    }\n",
       "</style>\n",
       "<table border=\"1\" class=\"dataframe\">\n",
       "  <thead>\n",
       "    <tr style=\"text-align: right;\">\n",
       "      <th></th>\n",
       "      <th>Patient ID</th>\n",
       "      <th>LDL-C Max</th>\n",
       "      <th>Index Date</th>\n",
       "      <th>Scaled LDL-C Max</th>\n",
       "    </tr>\n",
       "  </thead>\n",
       "  <tbody>\n",
       "    <tr>\n",
       "      <th>24</th>\n",
       "      <td>005fea938fa8e55e5b82</td>\n",
       "      <td>2.61</td>\n",
       "      <td>2017-12-11</td>\n",
       "      <td>3.728571</td>\n",
       "    </tr>\n",
       "    <tr>\n",
       "      <th>65</th>\n",
       "      <td>00db0b5981b442793f2b</td>\n",
       "      <td>3.53</td>\n",
       "      <td>2016-11-08</td>\n",
       "      <td>5.042857</td>\n",
       "    </tr>\n",
       "    <tr>\n",
       "      <th>94</th>\n",
       "      <td>0127cc42a5f153ced7f9</td>\n",
       "      <td>1.70</td>\n",
       "      <td>2015-09-15</td>\n",
       "      <td>2.428571</td>\n",
       "    </tr>\n",
       "    <tr>\n",
       "      <th>126</th>\n",
       "      <td>0183a8b095cbcf928046</td>\n",
       "      <td>1.98</td>\n",
       "      <td>2015-11-17</td>\n",
       "      <td>2.828571</td>\n",
       "    </tr>\n",
       "    <tr>\n",
       "      <th>151</th>\n",
       "      <td>01c76eb4667c01937eaa</td>\n",
       "      <td>2.13</td>\n",
       "      <td>2015-09-13</td>\n",
       "      <td>3.042857</td>\n",
       "    </tr>\n",
       "    <tr>\n",
       "      <th>...</th>\n",
       "      <td>...</td>\n",
       "      <td>...</td>\n",
       "      <td>...</td>\n",
       "      <td>...</td>\n",
       "    </tr>\n",
       "    <tr>\n",
       "      <th>20670</th>\n",
       "      <td>fe7ad02ccf26189ed59a</td>\n",
       "      <td>2.05</td>\n",
       "      <td>2016-07-07</td>\n",
       "      <td>2.928571</td>\n",
       "    </tr>\n",
       "    <tr>\n",
       "      <th>20686</th>\n",
       "      <td>fea6bb891c7340c41edb</td>\n",
       "      <td>2.37</td>\n",
       "      <td>2016-10-22</td>\n",
       "      <td>3.385714</td>\n",
       "    </tr>\n",
       "    <tr>\n",
       "      <th>20728</th>\n",
       "      <td>ff38216f6e43cd9602c5</td>\n",
       "      <td>0.89</td>\n",
       "      <td>2018-10-18</td>\n",
       "      <td>1.271429</td>\n",
       "    </tr>\n",
       "    <tr>\n",
       "      <th>20731</th>\n",
       "      <td>ff3a413299e78f9b8598</td>\n",
       "      <td>3.87</td>\n",
       "      <td>2017-02-28</td>\n",
       "      <td>5.528571</td>\n",
       "    </tr>\n",
       "    <tr>\n",
       "      <th>20778</th>\n",
       "      <td>ffed72306d9970bafa2a</td>\n",
       "      <td>2.98</td>\n",
       "      <td>2016-08-22</td>\n",
       "      <td>4.257143</td>\n",
       "    </tr>\n",
       "  </tbody>\n",
       "</table>\n",
       "<p>736 rows × 4 columns</p>\n",
       "</div>"
      ],
      "text/plain": [
       "                 Patient ID  LDL-C Max Index Date  Scaled LDL-C Max\n",
       "24     005fea938fa8e55e5b82       2.61 2017-12-11          3.728571\n",
       "65     00db0b5981b442793f2b       3.53 2016-11-08          5.042857\n",
       "94     0127cc42a5f153ced7f9       1.70 2015-09-15          2.428571\n",
       "126    0183a8b095cbcf928046       1.98 2015-11-17          2.828571\n",
       "151    01c76eb4667c01937eaa       2.13 2015-09-13          3.042857\n",
       "...                     ...        ...        ...               ...\n",
       "20670  fe7ad02ccf26189ed59a       2.05 2016-07-07          2.928571\n",
       "20686  fea6bb891c7340c41edb       2.37 2016-10-22          3.385714\n",
       "20728  ff38216f6e43cd9602c5       0.89 2018-10-18          1.271429\n",
       "20731  ff3a413299e78f9b8598       3.87 2017-02-28          5.528571\n",
       "20778  ffed72306d9970bafa2a       2.98 2016-08-22          4.257143\n",
       "\n",
       "[736 rows x 4 columns]"
      ]
     },
     "execution_count": 15,
     "metadata": {},
     "output_type": "execute_result"
    }
   ],
   "source": [
    "ldlc_valid_18_nontg_index_nosecondary_final[ldlc_valid_18_nontg_index_nosecondary_final[\"LDL-C Max\"] != ldlc_valid_18_nontg_index_nosecondary_final[\"Scaled LDL-C Max\"]]"
   ]
  },
  {
   "cell_type": "code",
   "execution_count": 16,
   "id": "d7418736-01b4-41ac-bcb1-9feea1d20033",
   "metadata": {},
   "outputs": [],
   "source": [
    "##\n",
    "def segment(ldlc_val):\n",
    "    if ldlc_val >= 4.9:\n",
    "        return \"Cases\"\n",
    "    elif 3.36 < ldlc_val < 4.9:\n",
    "        return \"Unknown\"\n",
    "    elif ldlc_val <= 3.36:\n",
    "        return \"Control\"\n",
    "    else:\n",
    "        raise ValueError(\"Unable to handle ldlc_val.\")\n",
    "\n",
    "ldlc_valid_18_nontg_index_nosecondary_final[\"Category\"] = ldlc_valid_18_nontg_index_nosecondary_final[\"Scaled LDL-C Max\"].apply(segment)"
   ]
  },
  {
   "cell_type": "code",
   "execution_count": 17,
   "id": "50fef757-0361-4c88-824f-62a34ce30e82",
   "metadata": {},
   "outputs": [
    {
     "data": {
      "text/plain": [
       "Category\n",
       "Control    14044\n",
       "Unknown     5575\n",
       "Cases       1168\n",
       "Name: count, dtype: int64"
      ]
     },
     "execution_count": 17,
     "metadata": {},
     "output_type": "execute_result"
    }
   ],
   "source": [
    "ldlc_valid_18_nontg_index_nosecondary_final[\"Category\"].value_counts()"
   ]
  },
  {
   "cell_type": "code",
   "execution_count": 18,
   "id": "dc4dc4ac-2ed7-4285-9902-de97a0c1c9bd",
   "metadata": {},
   "outputs": [],
   "source": [
    "# Add race/nationality filter in reporting results\n",
    "# Add table 1 using general lab data (main source, ldlc is the limiting feature)"
   ]
  },
  {
   "cell_type": "markdown",
   "id": "ed3ea18d-f703-44c6-9f2d-c9e2d3fb07fa",
   "metadata": {},
   "source": [
    "## End."
   ]
  }
 ],
 "metadata": {
  "kernelspec": {
   "display_name": "basic-ds-toolkit",
   "language": "python",
   "name": "basic-ds-toolkit"
  },
  "language_info": {
   "codemirror_mode": {
    "name": "ipython",
    "version": 3
   },
   "file_extension": ".py",
   "mimetype": "text/x-python",
   "name": "python",
   "nbconvert_exporter": "python",
   "pygments_lexer": "ipython3",
   "version": "3.12.1"
  }
 },
 "nbformat": 4,
 "nbformat_minor": 5
}
