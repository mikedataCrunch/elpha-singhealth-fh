{
 "cells": [
  {
   "cell_type": "markdown",
   "id": "4b6cd7f7-91de-46ac-9337-5c67205dc0b5",
   "metadata": {},
   "source": [
    "# Labs Filtering\n",
    "\n",
    "This notebook covers the creation of references for the following Stage 1 filtering criteria:\n",
    "1. `Labs` `List` Age is 18 and over with valid low-density lipoprotein cholesterol (LDL-C) test result\n",
    "2.  `Labs` `List` Existing triglycerides (TG) measurements and thresholded at 5.645 mmol/L\n",
    "3. `Labs` `Dictionary` Date of highest LDL-C measurement (Index Date)\n",
    "5. `Labs` `List` Those with secondary causes as proxied by lab results thresholded using Table 3.\n",
    "\n",
    "## Move to llt notebook\n",
    "6. `Drugs` `List` Those with lipid lowering treatments (LLT) within 1 year to 6 weeks of their Index Date\n",
    "7. `Labs` `Dictionary` `Modified` Create LDL-C measurement dictionary with actual and scaled values (i.e., based on LLT)\n",
    "\n",
    "## To-do:\n",
    "4. `Diagnosis` `List` Those with secondary causes within 1 year (+/-) of Index Date"
   ]
  },
  {
   "cell_type": "code",
   "execution_count": 1,
   "id": "3233f2d9-1bcb-4371-95c8-37d2f513281f",
   "metadata": {},
   "outputs": [],
   "source": [
    "%load_ext autoreload\n",
    "%autoreload 2"
   ]
  },
  {
   "cell_type": "code",
   "execution_count": 2,
   "id": "699a4c64-654a-437a-a531-606c45aac99b",
   "metadata": {},
   "outputs": [],
   "source": [
    "import os, sys\n",
    "from dotenv import load_dotenv\n",
    "load_dotenv(\"../.env\")  # take environment variables\n",
    "PROJECT_ROOT = os.environ.get(\"PROJECT_ROOT\")\n",
    "sys.path.append(PROJECT_ROOT)\n",
    "\n",
    "import numpy as np\n",
    "import pandas as pd\n",
    "from glob import glob\n",
    "from tqdm import tqdm\n",
    "from datetime import datetime\n",
    "\n",
    "import utils.PATHS as PATHS\n",
    "import utils.utils as utils\n",
    "# import utils.emr_utils as emr_utils\n",
    "# import utils.load_utils as load_utils"
   ]
  },
  {
   "cell_type": "markdown",
   "id": "67343f80-40e4-44e2-8861-0142b49c494c",
   "metadata": {},
   "source": [
    "## 1. Valid LDL-C and Age >= 18 patient list\n",
    "\n",
    "### Notes:\n",
    "* As LDL-C measurements will be the primary constraint to this referral algorithm, this criteria and refernece dataset (i.e., general labs) is the maximum scope\n",
    "* Patient not in the general labs dataset will not be accounted for by the referral algorithm\n",
    "* We are using the following as test names for LDL-C as they appear in the dataset:\n",
    "  - `LDL-CHOLESTEROL,CALCULATED`; Units: MMOL/L\n",
    "  - `LDL-CHOLESTEROL,DIRECT`; Units: MMOL/L\n",
    "* Both CALCULATED and DIRECT measurements are handled the same way.\n",
    "* Few cases with LDL-C result value of '> 10.30', these were pegged to a value of **10.30**--this risks spurious results in selecting the Index Date for these particular cases; we are not handling this issue for now."
   ]
  },
  {
   "cell_type": "code",
   "execution_count": 3,
   "id": "d15f8ec8-df1e-4b45-9f90-2a9d5f223c88",
   "metadata": {},
   "outputs": [
    {
     "name": "stderr",
     "output_type": "stream",
     "text": [
      "100%|███████████████████████████████████████████████████████| 48/48 [01:14<00:00,  1.55s/it]\n"
     ]
    }
   ],
   "source": [
    "lab_fp_list = glob(os.path.join(PATHS.LABS, \"*.csv\"))\n",
    "\n",
    "# general labs dataframe\n",
    "df_list = [pd.read_csv(path, low_memory=False) for path in tqdm(lab_fp_list)]\n",
    "df = pd.concat(df_list, ignore_index=True)"
   ]
  },
  {
   "cell_type": "code",
   "execution_count": 4,
   "id": "7c624600-4bbf-4d43-abf2-86bb6e9e4aca",
   "metadata": {},
   "outputs": [
    {
     "name": "stdout",
     "output_type": "stream",
     "text": [
      "<class 'pandas.core.frame.DataFrame'>\n",
      "RangeIndex: 30943083 entries, 0 to 30943082\n",
      "Data columns (total 25 columns):\n",
      " #   Column                                   Dtype  \n",
      "---  ------                                   -----  \n",
      " 0   Institution Code                         object \n",
      " 1   Patient ID                               object \n",
      " 2   Gender                                   object \n",
      " 3   Race                                     object \n",
      " 4   Date of Birth                            object \n",
      " 5   Nationality                              object \n",
      " 6   Country of Residence                     object \n",
      " 7   Resident Indicator                       object \n",
      " 8   Case No                                  object \n",
      " 9   Result Comment Date                      float64\n",
      " 10  Specimen Received Date                   object \n",
      " 11  Lab Test Code                            object \n",
      " 12  Lab Test Description                     object \n",
      " 13  Lab Test Type                            object \n",
      " 14  Lab Test Type (KKH Only)                 float64\n",
      " 15  Lab Resulted Order Test Description      object \n",
      " 16  Lab Test Display                         float64\n",
      " 17  Lab Resulted Order Test Type             object \n",
      " 18  Lab Resulted Order Test Type (KKH Only)  float64\n",
      " 19  Lab Resulted Order Test Display          float64\n",
      " 20  Result Value                             object \n",
      " 21  Specimen Received Date.1                 object \n",
      " 22  Admit Date                               object \n",
      " 23  Specimen Collection Date                 object \n",
      " 24  Visit Date                               float64\n",
      "dtypes: float64(6), object(19)\n",
      "memory usage: 5.8+ GB\n"
     ]
    }
   ],
   "source": [
    "df.info()"
   ]
  },
  {
   "cell_type": "code",
   "execution_count": 5,
   "id": "2744b9d7-5d33-4d24-aa1a-5f5dc8cf12b5",
   "metadata": {},
   "outputs": [
    {
     "data": {
      "text/plain": [
       "array([nan])"
      ]
     },
     "execution_count": 5,
     "metadata": {},
     "output_type": "execute_result"
    }
   ],
   "source": [
    "df['Lab Resulted Order Test Display'].unique()"
   ]
  },
  {
   "cell_type": "code",
   "execution_count": 6,
   "id": "585250fc-1928-4a13-a168-7633a0f0c14c",
   "metadata": {},
   "outputs": [
    {
     "data": {
      "text/plain": [
       "array(['T', 'P', 'C', 'G'], dtype=object)"
      ]
     },
     "execution_count": 6,
     "metadata": {},
     "output_type": "execute_result"
    }
   ],
   "source": [
    "df['Lab Resulted Order Test Type'].unique()"
   ]
  },
  {
   "cell_type": "code",
   "execution_count": 7,
   "id": "196b5a76-9107-4e4f-817e-cd6af05cd9cf",
   "metadata": {},
   "outputs": [
    {
     "data": {
      "text/plain": [
       "array([nan])"
      ]
     },
     "execution_count": 7,
     "metadata": {},
     "output_type": "execute_result"
    }
   ],
   "source": [
    "df['Result Comment Date'].unique()"
   ]
  },
  {
   "cell_type": "code",
   "execution_count": 8,
   "id": "db31e2b4-239a-406e-81a7-cf8d3668aaec",
   "metadata": {},
   "outputs": [
    {
     "data": {
      "text/plain": [
       "162694"
      ]
     },
     "execution_count": 8,
     "metadata": {},
     "output_type": "execute_result"
    }
   ],
   "source": [
    "# Total unique patients\n",
    "df[\"Patient ID\"].unique().size"
   ]
  },
  {
   "cell_type": "code",
   "execution_count": 9,
   "id": "c3e62b50-e88a-47fc-8318-655673128a3b",
   "metadata": {},
   "outputs": [
    {
     "data": {
      "text/plain": [
       "array(['LDL-CHOLESTEROL,CALCULATED', 'LDL-CHOLESTEROL,DIRECT',\n",
       "       'CHOLESTEROL,TG,HDL,LDL'], dtype=object)"
      ]
     },
     "execution_count": 9,
     "metadata": {},
     "output_type": "execute_result"
    }
   ],
   "source": [
    "# test results reference column\n",
    "pid_col = \"Patient ID\"\n",
    "result_col = \"Result Value\"\n",
    "test_name_col = \"Lab Resulted Order Test Description\"\n",
    "query_str = \"LDL\" # lipoprotein, \n",
    "\n",
    "# check potential LDL-C tests naming\n",
    "(\n",
    "    df.loc[df[test_name_col].str.contains(query_str, case=False)]\n",
    "    [[pid_col, test_name_col, result_col]]\n",
    ")[test_name_col].unique()"
   ]
  },
  {
   "cell_type": "code",
   "execution_count": 10,
   "id": "90584fae-262f-4161-8397-f10a7cb3adaf",
   "metadata": {},
   "outputs": [
    {
     "data": {
      "text/plain": [
       "array(['APOLIPOPROTEIN A-1', 'APOLIPOPROTEIN B'], dtype=object)"
      ]
     },
     "execution_count": 10,
     "metadata": {},
     "output_type": "execute_result"
    }
   ],
   "source": [
    "query_str = \"lipoprotein\"\n",
    "(\n",
    "    df.loc[df[test_name_col].str.contains(query_str, case=False)]\n",
    "    [[pid_col, test_name_col, result_col]]\n",
    ")[test_name_col].unique()"
   ]
  },
  {
   "cell_type": "code",
   "execution_count": 11,
   "id": "0ef2a5ba-df64-4f70-957f-098d77bc221e",
   "metadata": {},
   "outputs": [
    {
     "data": {
      "text/plain": [
       "array(['LDL-CHOLESTEROL,CALCULATED', 'ALDOSTERONE', 'ALDOLASE',\n",
       "       'LDL-CHOLESTEROL,DIRECT', 'LDH,FLUID', 'BLD FILM REPORT',\n",
       "       'CHOLESTEROL,TG,HDL,LDL', 'KARYOTYPE NEONATE BLD',\n",
       "       'BLD FOR MICROFILARIA', 'BURKHOLDERIA PSEUDOMALLEI PCR',\n",
       "       '24HR URINARY ALDOSTERONE', 'KARYOTYPE NEONATE BLD PROFILE',\n",
       "       'KARY HEM DISORDERS BLD PRO'], dtype=object)"
      ]
     },
     "execution_count": 11,
     "metadata": {},
     "output_type": "execute_result"
    }
   ],
   "source": [
    "# most are nto relevant, stick with LDL-CHOLESTEROL,CALCULATED and\n",
    "# LDL-CHOLESTEROL,DIRECT\n",
    "query_str = \"LD\"\n",
    "(\n",
    "    df.loc[df[test_name_col].str.contains(query_str, case=False)]\n",
    "    [[pid_col, test_name_col, result_col]]\n",
    ")[test_name_col].unique()"
   ]
  },
  {
   "cell_type": "code",
   "execution_count": 12,
   "id": "3989d356-6fce-4226-bdbd-5fe3826c4e75",
   "metadata": {},
   "outputs": [],
   "source": [
    "def not_startswithdigit(x):\n",
    "    try:\n",
    "        return not x[0].isdigit()\n",
    "    except:\n",
    "        return False"
   ]
  },
  {
   "cell_type": "code",
   "execution_count": 13,
   "id": "c78ecd60-b0f3-4d49-ac9d-762b39aec64a",
   "metadata": {},
   "outputs": [
    {
     "data": {
      "text/plain": [
       "array(['> 50', 'FEMALE', 'NOT DETECTED', '.', '-5.5', 'NIL', '< 1.0',\n",
       "       'DETECTED', '+', '< 13', '-1.0', '< 0.06', 'NEGATIVE',\n",
       "       'NON-REACTIVE', 'POSITIVE', 'TRACE', 'Indeterminate', 'Positive',\n",
       "       '< 0.023', 'Negative'], dtype=object)"
      ]
     },
     "execution_count": 13,
     "metadata": {},
     "output_type": "execute_result"
    }
   ],
   "source": [
    "# full data\n",
    "nonfloat = df.loc[df[result_col].apply(lambda x: not_startswithdigit(x))][result_col].unique()\n",
    "nonfloat[0:20]"
   ]
  },
  {
   "cell_type": "code",
   "execution_count": 14,
   "id": "67c7f362-e346-4a1b-a4f7-2256e21f4795",
   "metadata": {},
   "outputs": [],
   "source": [
    "test_names = [\n",
    "    'LDL-CHOLESTEROL,CALCULATED',\n",
    "    'LDL-CHOLESTEROL,DIRECT'\n",
    "]\n",
    "ldlc_all = df.loc[df[test_name_col].isin(test_names)]"
   ]
  },
  {
   "cell_type": "code",
   "execution_count": 15,
   "id": "59b72e59-cf85-4ab1-824a-96b62c26d172",
   "metadata": {},
   "outputs": [
    {
     "data": {
      "text/plain": [
       "array(['> 10.30', 'ND'], dtype=object)"
      ]
     },
     "execution_count": 15,
     "metadata": {},
     "output_type": "execute_result"
    }
   ],
   "source": [
    "nonfloat_ldlc = ldlc_all.loc[ldlc_all[result_col].apply(lambda x: not_startswithdigit(x))][result_col].unique()\n",
    "nonfloat_ldlc"
   ]
  },
  {
   "cell_type": "code",
   "execution_count": 16,
   "id": "b2de3893-8293-4835-b7c6-914b725335c4",
   "metadata": {},
   "outputs": [
    {
     "name": "stderr",
     "output_type": "stream",
     "text": [
      "/tmp/ipykernel_219385/4172945200.py:11: SettingWithCopyWarning: \n",
      "A value is trying to be set on a copy of a slice from a DataFrame.\n",
      "Try using .loc[row_indexer,col_indexer] = value instead\n",
      "\n",
      "See the caveats in the documentation: https://pandas.pydata.org/pandas-docs/stable/user_guide/indexing.html#returning-a-view-versus-a-copy\n",
      "  ldlc_valid[result_col] = ldlc_valid[result_col].astype(float)\n"
     ]
    }
   ],
   "source": [
    "# address '> 10.30' string\n",
    "ldlc_all.loc[ldlc_all[result_col] == '> 10.30', \"Result Value\"] = 10.3\n",
    "\n",
    "# Validity filtering: Exclude ND and NaN values\n",
    "# drop those with 'ND' results : Invalid\n",
    "ldlc_valid = ldlc_all.loc[ldlc_all[result_col] != 'ND']\n",
    "\n",
    "# coerce results to float\n",
    "# ldlc_valid.loc[:,result_col] = ldlc_valid[result_col].astype(float)\n",
    "# use this as .loc back-casts to object type (right hand side)\n",
    "ldlc_valid[result_col] = ldlc_valid[result_col].astype(float) \n",
    "\n",
    "# remove nans\n",
    "ldlc_valid = ldlc_valid.dropna(subset=result_col)"
   ]
  },
  {
   "cell_type": "code",
   "execution_count": 17,
   "id": "f30ef5bd-4cfa-414e-bdd0-998acde60cc8",
   "metadata": {},
   "outputs": [
    {
     "data": {
      "text/plain": [
       "(30509, 25)"
      ]
     },
     "metadata": {},
     "output_type": "display_data"
    },
    {
     "data": {
      "text/plain": [
       "(30499, 25)"
      ]
     },
     "metadata": {},
     "output_type": "display_data"
    }
   ],
   "source": [
    "# pre filtering of valid values\n",
    "display(ldlc_all.shape)\n",
    "\n",
    "# post filtering\n",
    "display(ldlc_valid.shape)"
   ]
  },
  {
   "cell_type": "code",
   "execution_count": 18,
   "id": "f9cab3d1-5ea9-4ad4-8901-fa51dfc14f9a",
   "metadata": {},
   "outputs": [
    {
     "data": {
      "text/html": [
       "<div>\n",
       "<style scoped>\n",
       "    .dataframe tbody tr th:only-of-type {\n",
       "        vertical-align: middle;\n",
       "    }\n",
       "\n",
       "    .dataframe tbody tr th {\n",
       "        vertical-align: top;\n",
       "    }\n",
       "\n",
       "    .dataframe thead th {\n",
       "        text-align: right;\n",
       "    }\n",
       "</style>\n",
       "<table border=\"1\" class=\"dataframe\">\n",
       "  <thead>\n",
       "    <tr style=\"text-align: right;\">\n",
       "      <th></th>\n",
       "      <th>Result Value</th>\n",
       "    </tr>\n",
       "  </thead>\n",
       "  <tbody>\n",
       "    <tr>\n",
       "      <th>count</th>\n",
       "      <td>30499.000000</td>\n",
       "    </tr>\n",
       "    <tr>\n",
       "      <th>mean</th>\n",
       "      <td>2.715251</td>\n",
       "    </tr>\n",
       "    <tr>\n",
       "      <th>std</th>\n",
       "      <td>1.389682</td>\n",
       "    </tr>\n",
       "    <tr>\n",
       "      <th>min</th>\n",
       "      <td>0.000000</td>\n",
       "    </tr>\n",
       "    <tr>\n",
       "      <th>25%</th>\n",
       "      <td>1.860000</td>\n",
       "    </tr>\n",
       "    <tr>\n",
       "      <th>50%</th>\n",
       "      <td>2.580000</td>\n",
       "    </tr>\n",
       "    <tr>\n",
       "      <th>75%</th>\n",
       "      <td>3.420000</td>\n",
       "    </tr>\n",
       "    <tr>\n",
       "      <th>max</th>\n",
       "      <td>71.420000</td>\n",
       "    </tr>\n",
       "  </tbody>\n",
       "</table>\n",
       "</div>"
      ],
      "text/plain": [
       "       Result Value\n",
       "count  30499.000000\n",
       "mean       2.715251\n",
       "std        1.389682\n",
       "min        0.000000\n",
       "25%        1.860000\n",
       "50%        2.580000\n",
       "75%        3.420000\n",
       "max       71.420000"
      ]
     },
     "execution_count": 18,
     "metadata": {},
     "output_type": "execute_result"
    }
   ],
   "source": [
    "# overall summary statistics\n",
    "ldlc_valid[[test_name_col, result_col]].describe()"
   ]
  },
  {
   "cell_type": "code",
   "execution_count": 19,
   "id": "2fb0dafe-9f91-4bd9-a9c9-716a6b1dc981",
   "metadata": {},
   "outputs": [
    {
     "name": "stdout",
     "output_type": "stream",
     "text": [
      "LDL-CHOLESTEROL,CALCULATED\n"
     ]
    },
    {
     "data": {
      "text/html": [
       "<div>\n",
       "<style scoped>\n",
       "    .dataframe tbody tr th:only-of-type {\n",
       "        vertical-align: middle;\n",
       "    }\n",
       "\n",
       "    .dataframe tbody tr th {\n",
       "        vertical-align: top;\n",
       "    }\n",
       "\n",
       "    .dataframe thead th {\n",
       "        text-align: right;\n",
       "    }\n",
       "</style>\n",
       "<table border=\"1\" class=\"dataframe\">\n",
       "  <thead>\n",
       "    <tr style=\"text-align: right;\">\n",
       "      <th></th>\n",
       "      <th>Result Value</th>\n",
       "    </tr>\n",
       "  </thead>\n",
       "  <tbody>\n",
       "    <tr>\n",
       "      <th>count</th>\n",
       "      <td>30392.000000</td>\n",
       "    </tr>\n",
       "    <tr>\n",
       "      <th>mean</th>\n",
       "      <td>2.712738</td>\n",
       "    </tr>\n",
       "    <tr>\n",
       "      <th>std</th>\n",
       "      <td>1.387382</td>\n",
       "    </tr>\n",
       "    <tr>\n",
       "      <th>min</th>\n",
       "      <td>0.000000</td>\n",
       "    </tr>\n",
       "    <tr>\n",
       "      <th>25%</th>\n",
       "      <td>1.860000</td>\n",
       "    </tr>\n",
       "    <tr>\n",
       "      <th>50%</th>\n",
       "      <td>2.580000</td>\n",
       "    </tr>\n",
       "    <tr>\n",
       "      <th>75%</th>\n",
       "      <td>3.410000</td>\n",
       "    </tr>\n",
       "    <tr>\n",
       "      <th>max</th>\n",
       "      <td>71.420000</td>\n",
       "    </tr>\n",
       "  </tbody>\n",
       "</table>\n",
       "</div>"
      ],
      "text/plain": [
       "       Result Value\n",
       "count  30392.000000\n",
       "mean       2.712738\n",
       "std        1.387382\n",
       "min        0.000000\n",
       "25%        1.860000\n",
       "50%        2.580000\n",
       "75%        3.410000\n",
       "max       71.420000"
      ]
     },
     "metadata": {},
     "output_type": "display_data"
    },
    {
     "name": "stdout",
     "output_type": "stream",
     "text": [
      "LDL-CHOLESTEROL,DIRECT\n"
     ]
    },
    {
     "data": {
      "text/html": [
       "<div>\n",
       "<style scoped>\n",
       "    .dataframe tbody tr th:only-of-type {\n",
       "        vertical-align: middle;\n",
       "    }\n",
       "\n",
       "    .dataframe tbody tr th {\n",
       "        vertical-align: top;\n",
       "    }\n",
       "\n",
       "    .dataframe thead th {\n",
       "        text-align: right;\n",
       "    }\n",
       "</style>\n",
       "<table border=\"1\" class=\"dataframe\">\n",
       "  <thead>\n",
       "    <tr style=\"text-align: right;\">\n",
       "      <th></th>\n",
       "      <th>Result Value</th>\n",
       "    </tr>\n",
       "  </thead>\n",
       "  <tbody>\n",
       "    <tr>\n",
       "      <th>count</th>\n",
       "      <td>107.000000</td>\n",
       "    </tr>\n",
       "    <tr>\n",
       "      <th>mean</th>\n",
       "      <td>3.429065</td>\n",
       "    </tr>\n",
       "    <tr>\n",
       "      <th>std</th>\n",
       "      <td>1.806929</td>\n",
       "    </tr>\n",
       "    <tr>\n",
       "      <th>min</th>\n",
       "      <td>0.220000</td>\n",
       "    </tr>\n",
       "    <tr>\n",
       "      <th>25%</th>\n",
       "      <td>2.235000</td>\n",
       "    </tr>\n",
       "    <tr>\n",
       "      <th>50%</th>\n",
       "      <td>3.130000</td>\n",
       "    </tr>\n",
       "    <tr>\n",
       "      <th>75%</th>\n",
       "      <td>3.990000</td>\n",
       "    </tr>\n",
       "    <tr>\n",
       "      <th>max</th>\n",
       "      <td>10.300000</td>\n",
       "    </tr>\n",
       "  </tbody>\n",
       "</table>\n",
       "</div>"
      ],
      "text/plain": [
       "       Result Value\n",
       "count    107.000000\n",
       "mean       3.429065\n",
       "std        1.806929\n",
       "min        0.220000\n",
       "25%        2.235000\n",
       "50%        3.130000\n",
       "75%        3.990000\n",
       "max       10.300000"
      ]
     },
     "metadata": {},
     "output_type": "display_data"
    }
   ],
   "source": [
    "# stratified\n",
    "grouper = ldlc_valid[[test_name_col, result_col]].groupby(test_name_col)\n",
    "for name, group_data in grouper:\n",
    "    print(name)\n",
    "    display(group_data.set_index(test_name_col).describe())"
   ]
  },
  {
   "cell_type": "code",
   "execution_count": 20,
   "id": "4a72c73c-deaf-4591-a6c6-6217d81035ca",
   "metadata": {},
   "outputs": [
    {
     "data": {
      "text/plain": [
       "0"
      ]
     },
     "metadata": {},
     "output_type": "display_data"
    },
    {
     "name": "stderr",
     "output_type": "stream",
     "text": [
      "100%|██████████████████████████████████████████████| 24170/24170 [00:00<00:00, 95103.13it/s]\n",
      "100%|█████████████████████████████████████████████| 24170/24170 [00:00<00:00, 474832.80it/s]\n",
      "100%|████████████████████████████████████████████| 24170/24170 [00:00<00:00, 1660002.09it/s]\n"
     ]
    },
    {
     "data": {
      "text/plain": [
       "Patient ID\n",
       "ffd757c66b4e6b225b20    1\n",
       "ffd9a0062d28db766d29    1\n",
       "ffe013830194c57ebf6b    1\n",
       "ffe0d168ca0628f977eb    1\n",
       "ffe29b60cc135a865749    1\n",
       "                       ..\n",
       "fffc7834b1be0778220d    1\n",
       "fffdc69ec9e4e8d95613    1\n",
       "ffff3d1e06e7dbc39130    1\n",
       "ffffbd6a9ee98468a416    1\n",
       "00031c3262ee7a0c2981    1\n",
       "Name: Date of Birth, Length: 24170, dtype: int64"
      ]
     },
     "execution_count": 20,
     "metadata": {},
     "output_type": "execute_result"
    }
   ],
   "source": [
    "# sanity checks : nans and ambiguities per patient\n",
    "tqdm.pandas()\n",
    "\n",
    "# nan DOBs\n",
    "display(ldlc_valid[\"Date of Birth\"].isna().sum())\n",
    "\n",
    "# multiple dob per patient (including nan) : NONE, all pids have 1 unique DOB\n",
    "(ldlc_valid.groupby(\"Patient ID\")[\"Date of Birth\"]\n",
    " .progress_apply(set)\n",
    " .progress_apply(list)\n",
    " .progress_apply(lambda x: len(x))\n",
    ").sort_values()\n",
    "\n"
   ]
  },
  {
   "cell_type": "code",
   "execution_count": 21,
   "id": "cdade978-5a52-4ca1-8c7e-90bd134d58d0",
   "metadata": {},
   "outputs": [],
   "source": [
    "# create age col\n",
    "ref_date = \"2024-01-01\"\n",
    "ldlc_valid[\"Date of Birth\"] = pd.to_datetime(ldlc_valid[\"Date of Birth\"])\n",
    "ldlc_valid[\"Age\"] = ldlc_valid[\"Date of Birth\"].apply(utils.get_age, args=(\"%Y-%m-%d\", ref_date))"
   ]
  },
  {
   "cell_type": "code",
   "execution_count": 22,
   "id": "b94c03ff-6bcc-41f7-9e9f-e2fab251f378",
   "metadata": {},
   "outputs": [
    {
     "data": {
      "text/plain": [
       "(30509, 25)"
      ]
     },
     "metadata": {},
     "output_type": "display_data"
    },
    {
     "data": {
      "text/plain": [
       "(30499, 26)"
      ]
     },
     "metadata": {},
     "output_type": "display_data"
    },
    {
     "data": {
      "text/plain": [
       "(30499, 26)"
      ]
     },
     "metadata": {},
     "output_type": "display_data"
    }
   ],
   "source": [
    "ldlc_valid_18 = ldlc_valid.loc[ldlc_valid[\"Age\"] >= 18]\n",
    "\n",
    "# pre filtering of valid values\n",
    "display(ldlc_all.shape)\n",
    "\n",
    "# post filtering\n",
    "display(ldlc_valid.shape)\n",
    "\n",
    "# post filtering age\n",
    "display(ldlc_valid_18.shape)"
   ]
  },
  {
   "cell_type": "code",
   "execution_count": 23,
   "id": "1f6e530a-077f-4a8f-83cb-4480f1b106e9",
   "metadata": {},
   "outputs": [
    {
     "data": {
      "text/plain": [
       "1405        53\n",
       "1664        46\n",
       "3369        67\n",
       "3905        95\n",
       "4104        42\n",
       "            ..\n",
       "30904658    28\n",
       "30911917    22\n",
       "30919951    34\n",
       "30920394    69\n",
       "30927159    54\n",
       "Name: Age, Length: 30499, dtype: int64"
      ]
     },
     "execution_count": 23,
     "metadata": {},
     "output_type": "execute_result"
    }
   ],
   "source": [
    "ldlc_valid_18[\"Age\"]"
   ]
  },
  {
   "cell_type": "code",
   "execution_count": 24,
   "id": "f6d66db8-4e6c-4201-b26f-d95463a8358a",
   "metadata": {},
   "outputs": [
    {
     "data": {
      "text/plain": [
       "24170"
      ]
     },
     "execution_count": 24,
     "metadata": {},
     "output_type": "execute_result"
    }
   ],
   "source": [
    "ldlc_valid_18_plist = ldlc_valid_18[pid_col].unique().tolist()\n",
    "len(ldlc_valid_18_plist)"
   ]
  },
  {
   "attachments": {},
   "cell_type": "markdown",
   "id": "4bec84c3-e2de-485b-975e-9250393e8053",
   "metadata": {},
   "source": [
    "## 2. Existing triglycerides (TG) measurements and thresholded at 5.645 mmol/L\n",
    "\n",
    "NUHS Reference: \"We also exclude those patients who have had a triglycerides test with a value greater than or equal to 5.645 mmol/L **more than once.**\"\n",
    "\n",
    "### Notes:\n",
    "* Count occurence of TG >= 5.645 mmol/L. If more than 1, then exclude.\n",
    "* Only using 'TRIGLYCERIDES', excludng those with 'TRIGLYCERIDES,FLUID' and 'TRIGLYCERIDES,URINE'; To be verified.\n",
    "* NO TIME HORIZON for this criteria. All TG measurements are accounted for regardless of date."
   ]
  },
  {
   "cell_type": "code",
   "execution_count": 25,
   "id": "97de1fb8-44a4-49ae-9d3a-3d0d94d04d13",
   "metadata": {},
   "outputs": [
    {
     "data": {
      "text/plain": [
       "array(['Anti-Intrinsic Factor', 'TRIGLYCERIDES', 'TRICHOMONAS',\n",
       "       'NITRITE DIPSTIX', 'TRIGLYCERIDES,FLUID',\n",
       "       'Clostridium difficile Tox A&B', 'TRICHOPHYTON MENTAGROPHYTES',\n",
       "       'BILIRUBIN,PAEDIATRIC', 'Trichophyton Mentagrophytes',\n",
       "       'TRIGLYCERIDES,URINE'], dtype=object)"
      ]
     },
     "execution_count": 25,
     "metadata": {},
     "output_type": "execute_result"
    }
   ],
   "source": [
    "# tricglycerides\n",
    "query_str = \"tri\"\n",
    "(\n",
    "    df.loc[df[test_name_col].str.contains(query_str, case=False)]\n",
    "    [[pid_col, test_name_col, result_col]]\n",
    ")[test_name_col].unique()"
   ]
  },
  {
   "cell_type": "code",
   "execution_count": 26,
   "id": "ad5da339-ce0e-4617-95ae-f036557dc6fb",
   "metadata": {},
   "outputs": [
    {
     "data": {
      "text/plain": [
       "array(['> 50.00', '< 0.10', 'ND'], dtype=object)"
      ]
     },
     "execution_count": 26,
     "metadata": {},
     "output_type": "execute_result"
    }
   ],
   "source": [
    "# prep tg df\n",
    "tg = df.loc[df[test_name_col].isin([\"TRIGLYCERIDES\"])]\n",
    "tg[result_col][tg[result_col].apply(lambda x: not_startswithdigit(x))].unique()"
   ]
  },
  {
   "cell_type": "code",
   "execution_count": 27,
   "id": "18794dae-a2db-4fe1-9ebb-e63878a34be2",
   "metadata": {},
   "outputs": [
    {
     "name": "stderr",
     "output_type": "stream",
     "text": [
      "/tmp/ipykernel_219385/3593115788.py:12: SettingWithCopyWarning: \n",
      "A value is trying to be set on a copy of a slice from a DataFrame.\n",
      "Try using .loc[row_indexer,col_indexer] = value instead\n",
      "\n",
      "See the caveats in the documentation: https://pandas.pydata.org/pandas-docs/stable/user_guide/indexing.html#returning-a-view-versus-a-copy\n",
      "  tg_cleaned[result_col] = tg_cleaned[result_col].astype(float)\n"
     ]
    }
   ],
   "source": [
    "# address string values\n",
    "tg.loc[tg[result_col] == '< 0.10', \"Result Value\"] = 0.099 # arbitrary\n",
    "tg.loc[tg[result_col] == '> 50.00', \"Result Value\"] = 50.0099 # arbitrary\n",
    "\n",
    "# Validity filtering: Exclude ND and NaN values\n",
    "# drop those with 'ND' results : Invalid\n",
    "tg_cleaned = tg.loc[tg[result_col] != 'ND']\n",
    "\n",
    "# coerce results to float\n",
    "# ldlc_valid.loc[:,result_col] = ldlc_valid[result_col].astype(float)\n",
    "# use this as .loc back-casts to object type (right hand side)\n",
    "tg_cleaned[result_col] = tg_cleaned[result_col].astype(float) \n",
    "\n",
    "# remove nans\n",
    "tg_cleaned = tg_cleaned.dropna(subset=result_col)"
   ]
  },
  {
   "cell_type": "code",
   "execution_count": 28,
   "id": "6aeaf92e-133c-42a4-9c95-54550b5c0758",
   "metadata": {},
   "outputs": [
    {
     "data": {
      "text/plain": [
       "count    37032.000000\n",
       "mean         1.774926\n",
       "std          2.187615\n",
       "min          0.099000\n",
       "25%          0.970000\n",
       "50%          1.360000\n",
       "75%          2.000000\n",
       "max         50.009900\n",
       "Name: Result Value, dtype: float64"
      ]
     },
     "execution_count": 28,
     "metadata": {},
     "output_type": "execute_result"
    }
   ],
   "source": [
    "tg_cleaned[result_col].describe()"
   ]
  },
  {
   "cell_type": "code",
   "execution_count": 29,
   "id": "6828074c-c720-4021-97b9-2f33cf9751f0",
   "metadata": {},
   "outputs": [],
   "source": [
    "# create patient list with TG >= 5.645 more than once\n",
    "# NO TIME HORIZON for this criteria\n",
    "tg_exclude_plist = []\n",
    "for pid, p_data in tg_cleaned.groupby(pid_col):\n",
    "    temp = p_data.drop_duplicates()\n",
    "    if temp.shape[0] > 1:\n",
    "        occurence = temp[result_col].apply(lambda x: x >= 5.645).sum()\n",
    "        if occurence > 1:\n",
    "            tg_exclude_plist.append(pid)"
   ]
  },
  {
   "cell_type": "code",
   "execution_count": 30,
   "id": "e6d12d5a-b7e8-4410-bcfc-14c68c8dc2a4",
   "metadata": {},
   "outputs": [
    {
     "name": "stdout",
     "output_type": "stream",
     "text": [
      "24170\n",
      "88\n",
      "Remaining:  24122\n",
      "Removed:  48\n"
     ]
    }
   ],
   "source": [
    "print(len(ldlc_valid_18_plist))\n",
    "print(len(tg_exclude_plist))\n",
    "running_plist = list(set(ldlc_valid_18_plist).difference(set(tg_exclude_plist)))\n",
    "print(\"Remaining: \", len(running_plist))\n",
    "\n",
    "print(\"Removed: \", len(ldlc_valid_18_plist) - len(running_plist))"
   ]
  },
  {
   "cell_type": "markdown",
   "id": "277d7007-620f-4145-b0e1-3e83ffa662ff",
   "metadata": {},
   "source": [
    "## 3. Date of highest LDL-C measurement (Index Date)\n",
    "\n",
    "This step creates a dictionary of dates and values of highest LDL-C measurement for patients that are included (so far) at this stage."
   ]
  },
  {
   "cell_type": "code",
   "execution_count": 31,
   "id": "43b9ba30-4926-4fe2-a26e-fcb966804de7",
   "metadata": {},
   "outputs": [
    {
     "data": {
      "text/plain": [
       "24122"
      ]
     },
     "metadata": {},
     "output_type": "display_data"
    }
   ],
   "source": [
    "ldlc_valid_18_nontg = ldlc_valid_18.loc[ldlc_valid_18[pid_col].isin(running_plist)]\n",
    "display(ldlc_valid_18_nontg[pid_col].unique().size)\n",
    "# verified, can save"
   ]
  },
  {
   "cell_type": "code",
   "execution_count": 32,
   "id": "ef19507c-695f-424e-8b50-2d4ddc5da9a7",
   "metadata": {},
   "outputs": [
    {
     "name": "stderr",
     "output_type": "stream",
     "text": [
      "/tmp/ipykernel_219385/177836886.py:3: SettingWithCopyWarning: \n",
      "A value is trying to be set on a copy of a slice from a DataFrame.\n",
      "Try using .loc[row_indexer,col_indexer] = value instead\n",
      "\n",
      "See the caveats in the documentation: https://pandas.pydata.org/pandas-docs/stable/user_guide/indexing.html#returning-a-view-versus-a-copy\n",
      "  ldlc_valid_18_nontg[date_col] = pd.to_datetime(ldlc_valid_18_nontg[date_col])\n"
     ]
    }
   ],
   "source": [
    "# prep date col\n",
    "date_col = \"Specimen Received Date\"\n",
    "ldlc_valid_18_nontg[date_col] = pd.to_datetime(ldlc_valid_18_nontg[date_col])\n",
    "\n",
    "ldlc_index_dict = {} # can save this dict\n",
    "for pid, p_data in ldlc_valid_18_nontg.groupby(pid_col):\n",
    "    temp = p_data.drop_duplicates().sort_values(by=result_col)\n",
    "    # index -1 is the max (sort is least to most default)\n",
    "    max_ldlc = temp.iloc[-1][result_col] # max ldlc val\n",
    "    index_date = temp.iloc[-1][date_col] # index date\n",
    "    ldlc_index_dict[pid] = {\n",
    "        \"LDL-C Max\" : max_ldlc,\n",
    "        \"Index Date\" : index_date,\n",
    "    }"
   ]
  },
  {
   "cell_type": "code",
   "execution_count": 34,
   "id": "ac4a1636-8885-4b81-8498-414f6fb82c0d",
   "metadata": {},
   "outputs": [],
   "source": [
    "# either use this or the dict\n",
    "ldlc_valid_18_nontg_index = pd.DataFrame().from_dict(ldlc_index_dict, orient='index')\n",
    "ldlc_valid_18_nontg_index.index.name = 'Patient ID'\n",
    "ldlc_valid_18_nontg_index.to_csv(\n",
    "    os.path.join(PROJECT_ROOT, \"results\", \"ldlc_valid_18_nontg_index.csv\"), \n",
    ")"
   ]
  },
  {
   "cell_type": "markdown",
   "id": "c227e067-2b40-42c3-b73d-890489703097",
   "metadata": {},
   "source": [
    "## 4. With lab-based secondary causes\n",
    "\n",
    "#### Notes:\n",
    "\n",
    "* Thresholds used:\n",
    "  - Threshold for `HBA1C` was converted from mmol/L to percentages to suit the dataset units. We used 9% threshold from the Mayo Clinic document instead of the conversion from the NUHS value i.e., 9.6%.\n",
    "  - Threshold for `TSH RECEPTOR ANTIBODY` and `TSH RECEPTOR ANTIBODIES (TRAb)` were converted from mU/L to IU/L to suit the dataset.\n",
    "  - The rest of the thresholds were kept as is.\n",
    "* All test records with `ND` values were removed\n",
    "* Specific cleaning done:\n",
    "  - `BILIRUBIN,TOTAL`\n",
    "    * \"< 3\" changed to 2.99\n",
    "    * \"< 2\" changed to 1.99\n",
    "  - `URINE TOTAL PROTEIN`\n",
    "    * \"> 20.0\" and \"> 20\" changed to 20.1\n",
    "    * \"< 0.023\" changed to 0.0229\n",
    "  - `CREATININE`\n",
    "    * \"< 15\" changed to 14.99\n",
    "    * \"> 2200\" changed to 2200.1\n",
    "  - `HBA1C`\n",
    "    * \"> 20.1\" changed to 20.2\n",
    "    * \"< 4.2\" changed to 4.19\n",
    "  - `TSH RECEPTOR ANTIBODY`\n",
    "    * \"> 40.0\" changed to 40.1\n",
    "  - `TSH RECEPTOR ANTIBODIES (TRAb)`\n",
    "    * \"< 0.90\" changed to 0.89 # will cause issues with the threshold for 92 patients\n",
    "    * \"< 1.10\" changed to 1.09 # will cause issues with the threshold for 92 patients\n",
    "    * \"> 40.00\" changed to 40.1\n"
   ]
  },
  {
   "cell_type": "markdown",
   "id": "fba752b9-11c4-482e-bd91-8a77b0a7295a",
   "metadata": {},
   "source": [
    "### 4.1 Thresholds"
   ]
  },
  {
   "cell_type": "code",
   "execution_count": 35,
   "id": "0a0b6246-dc09-416a-ad4e-83a9767a2c77",
   "metadata": {},
   "outputs": [],
   "source": [
    "# thresholds dictionary\n",
    "secondary_thresholds = {\n",
    "    \"TSH RECEPTOR ANTIBODY\": (lambda x: x >= 0.01), # tsh,  mU/L (milli-Units per litre); IU/L (CONVERTED)\n",
    "    \"TSH RECEPTOR ANTIBODIES (TRAb)\": (lambda x: x >= 0.01), # tsh,  mU/L (milli-Units per litre); IU/L (CONVERTED)\\\n",
    "    \n",
    "    \"BILIRUBIN,TOTAL\" : (lambda x: x > 34.208), # micro-mol/L; UMOL/L (KEEP THRESHOLD)\n",
    "    \n",
    "    # \"PROTEIN,TOTAL\" : (lambda x: x > 3), # grams (DISCARD due to dist of values)\n",
    "    \"URINE TOTAL PROTEIN\" : (lambda x: x > 3), # grams, G/L; KEEP\n",
    "    \"PROTEIN,24HR URINE\" : (lambda x: x > 3), # grams, G/day; KEEP\n",
    "    \n",
    "    \"CREATININE\" : (lambda x: x > 229.84), # micro-mol/L; UMOL/L; KEEP\n",
    "    \n",
    "    \"HBA1C\" : (lambda x: x > 81.861), # milli-mol/L; percentage (change to percentage threshold 9% from Mayo clinic document, 9.6% using conversion from NUHS threshold)\n",
    "    \n",
    "    \"GLUCOSE FASTING\" : (lambda x: x > 12.22), # milli-mol/L; mmol/L; KEEP\n",
    "    \n",
    "    \"MDRD eGFR\" : (lambda x: x < 15), # efgr, <15 ml/min; NO UNIT; KEEP\n",
    "    \"CORRECTED CALC CG eGFR\" : (lambda x: x < 15), # efgr, < 15 ml/min; NO UNIT; KEEP\n",
    "    \"CKD-EPI eGFR\": (lambda x: x < 15), # efgr, < 15 ml/min; NO UNIT; KEEP\n",
    "}"
   ]
  },
  {
   "cell_type": "markdown",
   "id": "42b0dee5-8cef-4bab-9ff4-e368a361128b",
   "metadata": {},
   "source": [
    "### 4.2 Data cleaning"
   ]
  },
  {
   "cell_type": "code",
   "execution_count": 36,
   "id": "f4040752-499a-4a08-8617-ea9323990a08",
   "metadata": {},
   "outputs": [],
   "source": [
    "# thresholds dictionary\n",
    "value_cleaner = {\n",
    "    \"TSH RECEPTOR ANTIBODY\": {\n",
    "        \"> 40.0\" : 40.1,\n",
    "    },\n",
    "    \"TSH RECEPTOR ANTIBODIES (TRAb)\": {\n",
    "        \"< 0.90\" : 0.89, # will cause issues with the threshold for 92 patients\n",
    "        \"< 1.10\" : 1.09, # will cause issues with the threshold for 92 patients\n",
    "        \"> 40.00\": 40.1,\n",
    "    },\n",
    "    \"BILIRUBIN,TOTAL\" : {\n",
    "        \"< 3\": 2.99,\n",
    "        \"< 2\": 1.99,\n",
    "    },\n",
    "    \"URINE TOTAL PROTEIN\" : {\n",
    "        \"> 20.0\": 20.1,\n",
    "        \"> 20\" : 20.1,\n",
    "        \"< 0.023\": 0.0229,\n",
    "    },\n",
    "    \"CREATININE\" : {\n",
    "        \"< 15\" : 14.99,\n",
    "        \"> 2200\" : 2200.1,\n",
    "    },\n",
    "    \"HBA1C\" : {\n",
    "        \"> 20.1\" : 20.2,\n",
    "        \"< 4.2\" : 4.19,\n",
    "    },\n",
    "}"
   ]
  },
  {
   "cell_type": "code",
   "execution_count": 37,
   "id": "d2a1fb57-9b67-4bce-b3d2-597c2381ff43",
   "metadata": {},
   "outputs": [],
   "source": [
    "def clean_values(row):\n",
    "    mapper = value_cleaner.get(row[test_name_col])\n",
    "    if mapper:\n",
    "        row[result_col] = mapper.get(row[result_col], row[result_col])\n",
    "        return row\n",
    "    else:\n",
    "        return row"
   ]
  },
  {
   "cell_type": "code",
   "execution_count": 38,
   "id": "928fad1a-836a-4dcd-857a-b3aea813b55b",
   "metadata": {},
   "outputs": [
    {
     "name": "stderr",
     "output_type": "stream",
     "text": [
      "100%|██████████████████████████████████████████| 1082833/1082833 [00:41<00:00, 25884.23it/s]\n"
     ]
    },
    {
     "data": {
      "text/plain": [
       "array(['ND'], dtype=object)"
      ]
     },
     "metadata": {},
     "output_type": "display_data"
    },
    {
     "data": {
      "text/plain": [
       "array([], dtype=float64)"
      ]
     },
     "metadata": {},
     "output_type": "display_data"
    },
    {
     "data": {
      "text/plain": [
       "False"
      ]
     },
     "metadata": {},
     "output_type": "display_data"
    }
   ],
   "source": [
    "tqdm.pandas()\n",
    "secondary_labs = df.loc[df[test_name_col].isin(secondary_thresholds.keys())]\n",
    "\n",
    "# update values\n",
    "secondary_labs_cleaned = secondary_labs.progress_apply(lambda row: clean_values(row), axis=1)\n",
    "\n",
    "# sanity check : will show only ND values are left\n",
    "display(secondary_labs_cleaned[result_col][secondary_labs_cleaned[result_col].apply(lambda x: not_startswithdigit(x))].unique())\n",
    "\n",
    "# address ND and NaN values; cast to float\n",
    "secondary_labs_cleaned = secondary_labs_cleaned.loc[secondary_labs_cleaned[result_col] != 'ND']\n",
    "secondary_labs_cleaned[result_col] = secondary_labs_cleaned[result_col].astype(float) \n",
    "secondary_labs_cleaned = secondary_labs_cleaned.dropna(subset=result_col)\n",
    "\n",
    "# sanity checks for ND and NaNs\n",
    "display(secondary_labs_cleaned[result_col][secondary_labs_cleaned[result_col].apply(lambda x: not_startswithdigit(x))].unique())\n",
    "display(secondary_labs_cleaned[result_col].isna().any())"
   ]
  },
  {
   "cell_type": "code",
   "execution_count": 39,
   "id": "591cab72-7caa-41c2-a721-78fd8bc395cb",
   "metadata": {},
   "outputs": [],
   "source": [
    "# # tests need to be preprocessed according to Result Values seen for each tests\n",
    "# # WHAT UNIT IS THIS? LIKELY SAME AS NUHS, use NUHS threshold\n",
    "# for test in secondary_thresholds.keys():\n",
    "#     print(test)\n",
    "#     temp = df.loc[df[test_name_col].isin([test])]\n",
    "#     display(temp[result_col][temp[result_col].apply(lambda x: not_startswithdigit(x))].unique())\n",
    "#     # describe\n",
    "#     display(temp[result_col][temp[result_col].apply(lambda x: not not_startswithdigit(x))].astype(float).describe())\n",
    "#     print(\"\\n\\n\")"
   ]
  },
  {
   "cell_type": "code",
   "execution_count": 40,
   "id": "a1f9539e-a76d-4038-b7eb-1d043ad4dc11",
   "metadata": {},
   "outputs": [],
   "source": [
    "# patient count checker\n",
    "# temp = df.loc[df[test_name_col].isin([\"TSH RECEPTOR ANTIBODY\", \"TSH RECEPTOR ANTIBODIES (TRAb)\"])]\n",
    "# temp[temp[result_col].isin([\"< 0.90\", \"< 1.10\"])][\"Patient ID\"].unique().size"
   ]
  },
  {
   "cell_type": "code",
   "execution_count": 41,
   "id": "fc12f55d-3f18-4983-b2e5-e39ca18110a3",
   "metadata": {},
   "outputs": [
    {
     "data": {
      "text/html": [
       "<div>\n",
       "<style scoped>\n",
       "    .dataframe tbody tr th:only-of-type {\n",
       "        vertical-align: middle;\n",
       "    }\n",
       "\n",
       "    .dataframe tbody tr th {\n",
       "        vertical-align: top;\n",
       "    }\n",
       "\n",
       "    .dataframe thead th {\n",
       "        text-align: right;\n",
       "    }\n",
       "</style>\n",
       "<table border=\"1\" class=\"dataframe\">\n",
       "  <thead>\n",
       "    <tr style=\"text-align: right;\">\n",
       "      <th></th>\n",
       "      <th>Institution Code</th>\n",
       "      <th>Patient ID</th>\n",
       "      <th>Gender</th>\n",
       "      <th>Race</th>\n",
       "      <th>Date of Birth</th>\n",
       "      <th>Nationality</th>\n",
       "      <th>Country of Residence</th>\n",
       "      <th>Resident Indicator</th>\n",
       "      <th>Case No</th>\n",
       "      <th>Result Comment Date</th>\n",
       "      <th>...</th>\n",
       "      <th>Lab Resulted Order Test Description</th>\n",
       "      <th>Lab Test Display</th>\n",
       "      <th>Lab Resulted Order Test Type</th>\n",
       "      <th>Lab Resulted Order Test Type (KKH Only)</th>\n",
       "      <th>Lab Resulted Order Test Display</th>\n",
       "      <th>Result Value</th>\n",
       "      <th>Specimen Received Date.1</th>\n",
       "      <th>Admit Date</th>\n",
       "      <th>Specimen Collection Date</th>\n",
       "      <th>Visit Date</th>\n",
       "    </tr>\n",
       "  </thead>\n",
       "  <tbody>\n",
       "  </tbody>\n",
       "</table>\n",
       "<p>0 rows × 25 columns</p>\n",
       "</div>"
      ],
      "text/plain": [
       "Empty DataFrame\n",
       "Columns: [Institution Code, Patient ID, Gender, Race, Date of Birth, Nationality, Country of Residence, Resident Indicator, Case No, Result Comment Date, Specimen Received Date, Lab Test Code, Lab Test Description, Lab Test Type, Lab Test Type (KKH Only), Lab Resulted Order Test Description, Lab Test Display, Lab Resulted Order Test Type, Lab Resulted Order Test Type (KKH Only), Lab Resulted Order Test Display, Result Value, Specimen Received Date.1, Admit Date, Specimen Collection Date, Visit Date]\n",
       "Index: []\n",
       "\n",
       "[0 rows x 25 columns]"
      ]
     },
     "execution_count": 41,
     "metadata": {},
     "output_type": "execute_result"
    }
   ],
   "source": [
    "secondary_labs_cleaned.loc[secondary_labs_cleaned[test_name_col]==\"ABC\"]"
   ]
  },
  {
   "cell_type": "markdown",
   "id": "97a7eabe-53bf-4e2f-95a0-c6fb106564ff",
   "metadata": {},
   "source": [
    "### 4.3 Thresholding"
   ]
  },
  {
   "cell_type": "code",
   "execution_count": 42,
   "id": "eb0aeb7f-9d13-4343-a198-c219b58a148b",
   "metadata": {},
   "outputs": [],
   "source": [
    "def threshold_labs(row):\n",
    "    thresholder = secondary_thresholds.get(row[test_name_col])\n",
    "    if thresholder:\n",
    "        return thresholder(row[result_col])\n",
    "    else:\n",
    "        return False\n",
    "    # else:\n",
    "    #     raise ValueError(f\"{row[test_name_col]} not in secondary_thresholds.\")"
   ]
  },
  {
   "cell_type": "code",
   "execution_count": 43,
   "id": "8038a880-099f-4614-8852-119866122918",
   "metadata": {},
   "outputs": [
    {
     "name": "stderr",
     "output_type": "stream",
     "text": [
      "100%|█████████████████████████████████████████| 1079203/1079203 [00:05<00:00, 183332.69it/s]\n"
     ]
    }
   ],
   "source": [
    "secondary_labs_final = secondary_labs_cleaned.loc[secondary_labs_cleaned.progress_apply(lambda row: threshold_labs(row), axis=1)]"
   ]
  },
  {
   "cell_type": "code",
   "execution_count": 44,
   "id": "39b71e2b-da7c-4e69-8606-248987e5b5a6",
   "metadata": {},
   "outputs": [
    {
     "data": {
      "text/plain": [
       "18824"
      ]
     },
     "execution_count": 44,
     "metadata": {},
     "output_type": "execute_result"
    }
   ],
   "source": [
    "secondary_labs_final[\"Patient ID\"].unique().size"
   ]
  },
  {
   "cell_type": "code",
   "execution_count": 45,
   "id": "1a50bef5-15d6-4e45-a6c5-c21f6bc435e0",
   "metadata": {},
   "outputs": [
    {
     "name": "stdout",
     "output_type": "stream",
     "text": [
      "<class 'pandas.core.frame.DataFrame'>\n",
      "Index: 196140 entries, 73 to 30942124\n",
      "Data columns (total 25 columns):\n",
      " #   Column                                   Non-Null Count   Dtype  \n",
      "---  ------                                   --------------   -----  \n",
      " 0   Institution Code                         196140 non-null  object \n",
      " 1   Patient ID                               196140 non-null  object \n",
      " 2   Gender                                   196139 non-null  object \n",
      " 3   Race                                     196138 non-null  object \n",
      " 4   Date of Birth                            196139 non-null  object \n",
      " 5   Nationality                              196138 non-null  object \n",
      " 6   Country of Residence                     9472 non-null    object \n",
      " 7   Resident Indicator                       196139 non-null  object \n",
      " 8   Case No                                  196140 non-null  object \n",
      " 9   Result Comment Date                      0 non-null       float64\n",
      " 10  Specimen Received Date                   196140 non-null  object \n",
      " 11  Lab Test Code                            196140 non-null  object \n",
      " 12  Lab Test Description                     196140 non-null  object \n",
      " 13  Lab Test Type                            196140 non-null  object \n",
      " 14  Lab Test Type (KKH Only)                 0 non-null       float64\n",
      " 15  Lab Resulted Order Test Description      196140 non-null  object \n",
      " 16  Lab Test Display                         0 non-null       float64\n",
      " 17  Lab Resulted Order Test Type             196140 non-null  object \n",
      " 18  Lab Resulted Order Test Type (KKH Only)  0 non-null       float64\n",
      " 19  Lab Resulted Order Test Display          0 non-null       float64\n",
      " 20  Result Value                             196140 non-null  float64\n",
      " 21  Specimen Received Date.1                 196140 non-null  object \n",
      " 22  Admit Date                               196140 non-null  object \n",
      " 23  Specimen Collection Date                 196140 non-null  object \n",
      " 24  Visit Date                               372 non-null     float64\n",
      "dtypes: float64(7), object(18)\n",
      "memory usage: 38.9+ MB\n"
     ]
    }
   ],
   "source": [
    "secondary_labs_final.info()"
   ]
  },
  {
   "cell_type": "markdown",
   "id": "7509bd60-b459-47c2-8423-3559ecc8f79f",
   "metadata": {},
   "source": [
    "## Filtering for secondary labs based on index date"
   ]
  },
  {
   "cell_type": "code",
   "execution_count": 46,
   "id": "23c23e5c-39f3-4716-a901-0856affe7238",
   "metadata": {},
   "outputs": [],
   "source": [
    "def check_secondary_labs(\n",
    "    row, \n",
    "    date_col,\n",
    "    ref_df,\n",
    "):\n",
    "    pid = row[\"Patient ID\"]\n",
    "    index_date = row[\"Index Date\"]\n",
    "\n",
    "    ref_df[date_col] = pd.to_datetime(ref_df[date_col])\n",
    "    pid_secondary_labs = ref_df[ref_df[\"Patient ID\"] == pid]\n",
    "    \n",
    "    ## take only those records which are between 365 days and 42 days of index date\n",
    "    pid_secondary_labs = pid_secondary_labs[\n",
    "        (index_date - pid_secondary_labs[date_col] >= pd.Timedelta(days=0)) & \n",
    "        (index_date - pid_secondary_labs[date_col] <= pd.Timedelta(days=365))\n",
    "    ]\n",
    "    ## if not empty apply correction else do not\n",
    "    if (pid_secondary_labs.empty):\n",
    "        return False\n",
    "    else:\n",
    "        return True"
   ]
  },
  {
   "cell_type": "code",
   "execution_count": 47,
   "id": "111933e2-9c43-4ba7-b5bd-6c4b12676f88",
   "metadata": {},
   "outputs": [
    {
     "name": "stderr",
     "output_type": "stream",
     "text": [
      "100%|█████████████████████████████████████████████████| 24122/24122 [07:55<00:00, 50.70it/s]\n"
     ]
    }
   ],
   "source": [
    "tqdm.pandas()\n",
    "ldlc_valid_18_nontg_index = ldlc_valid_18_nontg_index.reset_index()\n",
    "\n",
    "\n",
    "date_col = \"Specimen Received Date\"\n",
    "with_secondary_labs = ldlc_valid_18_nontg_index[\n",
    "    ldlc_valid_18_nontg_index.progress_apply(\n",
    "        check_secondary_labs, args=(date_col, secondary_labs_final), axis=1)\n",
    "]"
   ]
  },
  {
   "cell_type": "code",
   "execution_count": 48,
   "id": "769f2dcd-44f0-4ad2-aad8-c8d97f084835",
   "metadata": {},
   "outputs": [
    {
     "name": "stdout",
     "output_type": "stream",
     "text": [
      "<class 'pandas.core.frame.DataFrame'>\n",
      "Index: 3310 entries, 4 to 24120\n",
      "Data columns (total 3 columns):\n",
      " #   Column      Non-Null Count  Dtype         \n",
      "---  ------      --------------  -----         \n",
      " 0   Patient ID  3310 non-null   object        \n",
      " 1   LDL-C Max   3310 non-null   float64       \n",
      " 2   Index Date  3310 non-null   datetime64[ns]\n",
      "dtypes: datetime64[ns](1), float64(1), object(1)\n",
      "memory usage: 103.4+ KB\n"
     ]
    }
   ],
   "source": [
    "with_secondary_labs.info()"
   ]
  },
  {
   "cell_type": "code",
   "execution_count": 49,
   "id": "4ac435f6-d5e0-481f-b78a-8a1e31c37912",
   "metadata": {},
   "outputs": [
    {
     "data": {
      "text/plain": [
       "3310"
      ]
     },
     "execution_count": 49,
     "metadata": {},
     "output_type": "execute_result"
    }
   ],
   "source": [
    "with_secondary_labs[\"Patient ID\"].unique().size"
   ]
  },
  {
   "cell_type": "code",
   "execution_count": 50,
   "id": "cc416520-8541-4144-a9b1-307e9d1dfb6c",
   "metadata": {},
   "outputs": [],
   "source": [
    "with_secondary_labs.to_csv(\n",
    "    os.path.join(PROJECT_ROOT, \"results\", \"with_secondary_labs.csv\"), index=False,\n",
    ")"
   ]
  },
  {
   "cell_type": "code",
   "execution_count": 51,
   "id": "98189a5d-7f33-4a1e-b939-0cf0efd1c378",
   "metadata": {},
   "outputs": [
    {
     "data": {
      "text/plain": [
       "20812"
      ]
     },
     "execution_count": 51,
     "metadata": {},
     "output_type": "execute_result"
    }
   ],
   "source": [
    "ldlc_valid_18_nontg_index_nosecondarylab = ldlc_valid_18_nontg_index.loc[~ldlc_valid_18_nontg_index[\"Patient ID\"].isin(with_secondary_labs[\"Patient ID\"].unique().tolist())]\n",
    "ldlc_valid_18_nontg_index_nosecondarylab[\"Patient ID\"].unique().size"
   ]
  },
  {
   "cell_type": "code",
   "execution_count": 52,
   "id": "38ae35fe-f34c-467c-9a0c-28e128576ccd",
   "metadata": {},
   "outputs": [
    {
     "name": "stdout",
     "output_type": "stream",
     "text": [
      "<class 'pandas.core.frame.DataFrame'>\n",
      "Index: 20812 entries, 0 to 24121\n",
      "Data columns (total 3 columns):\n",
      " #   Column      Non-Null Count  Dtype         \n",
      "---  ------      --------------  -----         \n",
      " 0   Patient ID  20812 non-null  object        \n",
      " 1   LDL-C Max   20812 non-null  float64       \n",
      " 2   Index Date  20812 non-null  datetime64[ns]\n",
      "dtypes: datetime64[ns](1), float64(1), object(1)\n",
      "memory usage: 650.4+ KB\n"
     ]
    }
   ],
   "source": [
    "ldlc_valid_18_nontg_index_nosecondarylab.info()"
   ]
  },
  {
   "cell_type": "code",
   "execution_count": 53,
   "id": "a011e48a-aa49-44e2-9f3f-3c12a1740a65",
   "metadata": {},
   "outputs": [],
   "source": [
    "ldlc_valid_18_nontg_index_nosecondarylab.to_csv(\n",
    "    os.path.join(PROJECT_ROOT, \"results\", \"ldlc_valid_18_nontg_index_nosecondarylab.csv\"), index=False,\n",
    ")"
   ]
  },
  {
   "cell_type": "markdown",
   "id": "0e5de788-da3a-4cd6-b871-dca31c3aa55c",
   "metadata": {},
   "source": [
    "## End"
   ]
  }
 ],
 "metadata": {
  "kernelspec": {
   "display_name": "basic-ds-toolkit",
   "language": "python",
   "name": "basic-ds-toolkit"
  },
  "language_info": {
   "codemirror_mode": {
    "name": "ipython",
    "version": 3
   },
   "file_extension": ".py",
   "mimetype": "text/x-python",
   "name": "python",
   "nbconvert_exporter": "python",
   "pygments_lexer": "ipython3",
   "version": "3.12.7"
  }
 },
 "nbformat": 4,
 "nbformat_minor": 5
}
