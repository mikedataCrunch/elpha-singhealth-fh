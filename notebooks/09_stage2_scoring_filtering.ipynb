{
 "cells": [
  {
   "cell_type": "code",
   "execution_count": 1,
   "id": "c41dc841-84b5-4d58-9b9a-7c49861a32d2",
   "metadata": {},
   "outputs": [],
   "source": [
    "%load_ext autoreload\n",
    "%autoreload 2"
   ]
  },
  {
   "cell_type": "code",
   "execution_count": 2,
   "id": "84b80695-a6bd-4208-a3dd-e983f177ab19",
   "metadata": {},
   "outputs": [],
   "source": [
    "import os, sys\n",
    "from dotenv import load_dotenv\n",
    "load_dotenv(\"../.env\")  # take environment variables\n",
    "PROJECT_ROOT = os.environ.get(\"PROJECT_ROOT\")\n",
    "sys.path.append(PROJECT_ROOT)\n",
    "\n",
    "import numpy as np\n",
    "import pandas as pd\n",
    "from glob import glob\n",
    "from tqdm import tqdm\n",
    "from datetime import datetime\n",
    "import random\n",
    "\n",
    "import utils.PATHS as PATHS\n",
    "import utils.utils as utils\n",
    "# import utils.emr_utils as emr_utils\n",
    "# import utils.load_utils as load_utils"
   ]
  },
  {
   "cell_type": "markdown",
   "id": "5a36af15-ed04-48f1-bf47-eefc1203434f",
   "metadata": {},
   "source": [
    "## Construct Date of Birth dictionary"
   ]
  },
  {
   "cell_type": "code",
   "execution_count": 3,
   "id": "30710e52-7d2e-4dff-a16a-a348a40dfd76",
   "metadata": {
    "scrolled": true
   },
   "outputs": [
    {
     "name": "stderr",
     "output_type": "stream",
     "text": [
      "100%|█████████████████████████████████████████████████████████| 4/4 [00:01<00:00,  3.64it/s]\n",
      "100%|█████████████████████████████████████████████████████████| 8/8 [00:21<00:00,  2.72s/it]\n",
      "100%|███████████████████████████████████████████████████████| 48/48 [01:44<00:00,  2.18s/it]\n"
     ]
    }
   ],
   "source": [
    "dia_fp_list = glob(os.path.join(PATHS.DIAGNOSIS, \"*.csv\"))\n",
    "\n",
    "# general labs dataframe\n",
    "df_list = [pd.read_csv(path, low_memory=False) for path in tqdm(dia_fp_list)]\n",
    "dia_df = pd.concat(df_list, ignore_index=True)\n",
    "\n",
    "prl_fp_list = glob(os.path.join(PATHS.PROBLEM_LIST, \"*.csv\"))\n",
    "\n",
    "df_list = []\n",
    "for path in tqdm(prl_fp_list):\n",
    "    temp = pd.read_csv(path, low_memory=False)\n",
    "\n",
    "    # address div block at df tail\n",
    "    subset = temp.columns.tolist()\n",
    "    subset.remove(\"Visit Date\")\n",
    "    temp = temp.dropna(subset=subset, how=\"all\")\n",
    "\n",
    "    df_list.append(temp)\n",
    "    \n",
    "prl_df = pd.concat(df_list, ignore_index=True)\n",
    "\n",
    "\n",
    "lab_fp_list = glob(os.path.join(PATHS.LABS, \"*.csv\"))\n",
    "\n",
    "# general labs dataframe\n",
    "df_list = [pd.read_csv(path, low_memory=False) for path in tqdm(lab_fp_list)]\n",
    "lab_df = pd.concat(df_list, ignore_index=True)"
   ]
  },
  {
   "cell_type": "code",
   "execution_count": 4,
   "id": "7a913032-c48b-4247-952a-cab63b7ff297",
   "metadata": {},
   "outputs": [],
   "source": [
    "usecols = [\"Patient ID\", \"Date of Birth\"]\n",
    "dob_df = pd.concat([prl_df[usecols], dia_df[usecols], lab_df[usecols]], ignore_index=True)\n",
    "dob_df = dob_df.drop_duplicates()\n",
    "dob_df = dob_df.dropna(how='any')"
   ]
  },
  {
   "cell_type": "code",
   "execution_count": 5,
   "id": "5035fcc4-feae-4f03-af8e-317c9b3fa662",
   "metadata": {},
   "outputs": [
    {
     "name": "stderr",
     "output_type": "stream",
     "text": [
      "100%|████████████████████████████████████████████| 532284/532284 [00:08<00:00, 60173.08it/s]\n",
      "100%|███████████████████████████████████████████| 532284/532284 [00:00<00:00, 740809.86it/s]\n",
      "100%|██████████████████████████████████████████| 532284/532284 [00:00<00:00, 1361628.15it/s]\n"
     ]
    },
    {
     "data": {
      "text/plain": [
       "Patient ID\n",
       "aab81cff7d5058c22fe8    1\n",
       "aab6b4e9f47611161755    1\n",
       "aab7053f4d6faa0b10e7    1\n",
       "aab71b6a4980cf082a2d    1\n",
       "aab727071631e1bb66cb    1\n",
       "                       ..\n",
       "5515d18bbaf283373cbe    1\n",
       "5515bf6e46d09d0ba63b    1\n",
       "55157f9db1ab8b1d5778    1\n",
       "551531a6e22696a77a07    1\n",
       "926d6b2cb5a8067430b5    2\n",
       "Name: Date of Birth, Length: 532284, dtype: int64"
      ]
     },
     "execution_count": 5,
     "metadata": {},
     "output_type": "execute_result"
    }
   ],
   "source": [
    "# sanity checks : nans and ambiguities per patient\n",
    "tqdm.pandas()\n",
    "\n",
    "# multiple dob per patient (including nan) : NONE, all pids have 1 unique DOB\n",
    "(dob_df.groupby(\"Patient ID\")[\"Date of Birth\"]\n",
    " .progress_apply(set)\n",
    " .progress_apply(list)\n",
    " .progress_apply(lambda x: len(x))\n",
    ").sort_values()\n"
   ]
  },
  {
   "cell_type": "code",
   "execution_count": 6,
   "id": "ad85e674-6e6d-470e-8199-d862a3b118ab",
   "metadata": {},
   "outputs": [],
   "source": [
    "dob_dict = dob_df.groupby('Patient ID')['Date of Birth'].first().to_dict()"
   ]
  },
  {
   "cell_type": "code",
   "execution_count": 7,
   "id": "99966357-8c4b-49ba-aa6c-a9c89f601c48",
   "metadata": {},
   "outputs": [],
   "source": [
    "path = os.path.join(PROJECT_ROOT, \"results\", \"scaled_ldlc_valid_18_nontg_index_nosecondary_final.csv\")\n",
    "ldlc_valid_18_nontg_index_nosecondary_final = pd.read_csv(path, low_memory=False)"
   ]
  },
  {
   "cell_type": "code",
   "execution_count": 8,
   "id": "abcbd680-1887-499a-8ae4-fd115ddd1c75",
   "metadata": {},
   "outputs": [],
   "source": [
    "# add dob\n",
    "ldlc_valid_18_nontg_index_nosecondary_final[\"Date of Birth\"] = ldlc_valid_18_nontg_index_nosecondary_final[\"Patient ID\"].apply(lambda x: dob_dict.get(x))"
   ]
  },
  {
   "cell_type": "code",
   "execution_count": 9,
   "id": "7a2d2a89-cdf5-4170-a8f6-133feb0bd695",
   "metadata": {},
   "outputs": [
    {
     "data": {
      "text/html": [
       "<div>\n",
       "<style scoped>\n",
       "    .dataframe tbody tr th:only-of-type {\n",
       "        vertical-align: middle;\n",
       "    }\n",
       "\n",
       "    .dataframe tbody tr th {\n",
       "        vertical-align: top;\n",
       "    }\n",
       "\n",
       "    .dataframe thead th {\n",
       "        text-align: right;\n",
       "    }\n",
       "</style>\n",
       "<table border=\"1\" class=\"dataframe\">\n",
       "  <thead>\n",
       "    <tr style=\"text-align: right;\">\n",
       "      <th></th>\n",
       "      <th>Patient ID</th>\n",
       "      <th>LDL-C Max</th>\n",
       "      <th>Index Date</th>\n",
       "      <th>Scaled LDL-C Max</th>\n",
       "      <th>Category</th>\n",
       "      <th>Date of Birth</th>\n",
       "    </tr>\n",
       "  </thead>\n",
       "  <tbody>\n",
       "    <tr>\n",
       "      <th>0</th>\n",
       "      <td>00031c3262ee7a0c2981</td>\n",
       "      <td>2.46</td>\n",
       "      <td>2015-04-10</td>\n",
       "      <td>2.46</td>\n",
       "      <td>Control</td>\n",
       "      <td>1988-05-01</td>\n",
       "    </tr>\n",
       "    <tr>\n",
       "      <th>1</th>\n",
       "      <td>0005f0349ba521e1ecb8</td>\n",
       "      <td>2.33</td>\n",
       "      <td>2017-07-14</td>\n",
       "      <td>2.33</td>\n",
       "      <td>Control</td>\n",
       "      <td>1964-08-01</td>\n",
       "    </tr>\n",
       "    <tr>\n",
       "      <th>2</th>\n",
       "      <td>000b2a238717215130d6</td>\n",
       "      <td>3.74</td>\n",
       "      <td>2018-09-20</td>\n",
       "      <td>3.74</td>\n",
       "      <td>Unknown</td>\n",
       "      <td>1956-07-01</td>\n",
       "    </tr>\n",
       "    <tr>\n",
       "      <th>3</th>\n",
       "      <td>000e1e9fd6b490cfc00b</td>\n",
       "      <td>4.00</td>\n",
       "      <td>2017-10-28</td>\n",
       "      <td>4.00</td>\n",
       "      <td>Unknown</td>\n",
       "      <td>1990-04-01</td>\n",
       "    </tr>\n",
       "    <tr>\n",
       "      <th>4</th>\n",
       "      <td>001eca77df4947cc6b82</td>\n",
       "      <td>0.58</td>\n",
       "      <td>2017-12-12</td>\n",
       "      <td>0.58</td>\n",
       "      <td>Control</td>\n",
       "      <td>1931-06-01</td>\n",
       "    </tr>\n",
       "  </tbody>\n",
       "</table>\n",
       "</div>"
      ],
      "text/plain": [
       "             Patient ID  LDL-C Max  Index Date  Scaled LDL-C Max Category  \\\n",
       "0  00031c3262ee7a0c2981       2.46  2015-04-10              2.46  Control   \n",
       "1  0005f0349ba521e1ecb8       2.33  2017-07-14              2.33  Control   \n",
       "2  000b2a238717215130d6       3.74  2018-09-20              3.74  Unknown   \n",
       "3  000e1e9fd6b490cfc00b       4.00  2017-10-28              4.00  Unknown   \n",
       "4  001eca77df4947cc6b82       0.58  2017-12-12              0.58  Control   \n",
       "\n",
       "  Date of Birth  \n",
       "0    1988-05-01  \n",
       "1    1964-08-01  \n",
       "2    1956-07-01  \n",
       "3    1990-04-01  \n",
       "4    1931-06-01  "
      ]
     },
     "execution_count": 9,
     "metadata": {},
     "output_type": "execute_result"
    }
   ],
   "source": [
    "ldlc_valid_18_nontg_index_nosecondary_final.head()"
   ]
  },
  {
   "cell_type": "markdown",
   "id": "c5a110fe-5c66-47d7-b257-f41dd2b8b028",
   "metadata": {},
   "source": [
    "## Premature `CHD`"
   ]
  },
  {
   "cell_type": "code",
   "execution_count": 10,
   "id": "2f39efe2-8bcf-4436-9405-28118d649448",
   "metadata": {},
   "outputs": [],
   "source": [
    "paths = [path for path in glob(os.path.join(PROJECT_ROOT, \"results\", \"*\")) if \"chd\" in path]"
   ]
  },
  {
   "cell_type": "code",
   "execution_count": 11,
   "id": "1be5de96-4225-4e28-a7f5-7f21cf9ff55e",
   "metadata": {
    "scrolled": true
   },
   "outputs": [],
   "source": [
    "col_rename = {\n",
    "    \"Diagnosis Description (ICD10)\": \"desc\",\n",
    "    \"Diagnosis Code (ICD10)\": \"code\",\n",
    "    \"Problem Code (Coded)\": \"code\",\n",
    "    \"Problem Desc (Coded)\": \"desc\",\n",
    "    \"Visit Date\": \"date\",\n",
    "    \"Admit/Visit Date\": \"date\",\n",
    "}\n",
    "df_list = []\n",
    "for path in paths:\n",
    "    temp = pd.read_csv(path, low_memory=False)\n",
    "    temp = temp.rename(columns=col_rename)\n",
    "    temp = temp[[\"code\", \"desc\", \"Score\", \"Key Term\"]]\n",
    "    df_list.append(temp)\n",
    "\n",
    "relevant_history = pd.concat(df_list, ignore_index=True)\n",
    "terms = relevant_history['desc'].unique().tolist()\n",
    "codes = relevant_history['code'].unique().tolist()"
   ]
  },
  {
   "cell_type": "code",
   "execution_count": 12,
   "id": "b953afb0-f9cd-4f7b-8680-42a76cabd301",
   "metadata": {},
   "outputs": [
    {
     "data": {
      "text/html": [
       "<div>\n",
       "<style scoped>\n",
       "    .dataframe tbody tr th:only-of-type {\n",
       "        vertical-align: middle;\n",
       "    }\n",
       "\n",
       "    .dataframe tbody tr th {\n",
       "        vertical-align: top;\n",
       "    }\n",
       "\n",
       "    .dataframe thead th {\n",
       "        text-align: right;\n",
       "    }\n",
       "</style>\n",
       "<table border=\"1\" class=\"dataframe\">\n",
       "  <thead>\n",
       "    <tr style=\"text-align: right;\">\n",
       "      <th></th>\n",
       "      <th>Patient ID</th>\n",
       "      <th>code</th>\n",
       "      <th>desc</th>\n",
       "      <th>date</th>\n",
       "      <th>Gender</th>\n",
       "    </tr>\n",
       "  </thead>\n",
       "  <tbody>\n",
       "    <tr>\n",
       "      <th>0</th>\n",
       "      <td>f04cd72dfb45a0929025</td>\n",
       "      <td>35027015</td>\n",
       "      <td>CHRONIC CHOLECYSTITIS</td>\n",
       "      <td>2016-01-01</td>\n",
       "      <td>MALE</td>\n",
       "    </tr>\n",
       "    <tr>\n",
       "      <th>1</th>\n",
       "      <td>fd381d17b78192f49b0b</td>\n",
       "      <td>379662011</td>\n",
       "      <td>BREAST CANCER</td>\n",
       "      <td>2016-01-01</td>\n",
       "      <td>FEMALE</td>\n",
       "    </tr>\n",
       "    <tr>\n",
       "      <th>2</th>\n",
       "      <td>fd381d17b78192f49b0b</td>\n",
       "      <td>1233066018</td>\n",
       "      <td>UTI - URINARY TRACT INFECTION</td>\n",
       "      <td>2016-01-01</td>\n",
       "      <td>FEMALE</td>\n",
       "    </tr>\n",
       "    <tr>\n",
       "      <th>3</th>\n",
       "      <td>0ece0e12fdc7605939c2</td>\n",
       "      <td>2793932016</td>\n",
       "      <td>HISTORY OF RENAL TRANSPLANT*</td>\n",
       "      <td>2016-01-01</td>\n",
       "      <td>MALE</td>\n",
       "    </tr>\n",
       "    <tr>\n",
       "      <th>4</th>\n",
       "      <td>0ece0e12fdc7605939c2</td>\n",
       "      <td>1232637011</td>\n",
       "      <td>PARTIAL THICKNESS BURN OF TRUNK</td>\n",
       "      <td>2016-01-01</td>\n",
       "      <td>MALE</td>\n",
       "    </tr>\n",
       "  </tbody>\n",
       "</table>\n",
       "</div>"
      ],
      "text/plain": [
       "             Patient ID        code                             desc  \\\n",
       "0  f04cd72dfb45a0929025    35027015            CHRONIC CHOLECYSTITIS   \n",
       "1  fd381d17b78192f49b0b   379662011                    BREAST CANCER   \n",
       "2  fd381d17b78192f49b0b  1233066018    UTI - URINARY TRACT INFECTION   \n",
       "3  0ece0e12fdc7605939c2  2793932016     HISTORY OF RENAL TRANSPLANT*   \n",
       "4  0ece0e12fdc7605939c2  1232637011  PARTIAL THICKNESS BURN OF TRUNK   \n",
       "\n",
       "         date  Gender  \n",
       "0  2016-01-01    MALE  \n",
       "1  2016-01-01  FEMALE  \n",
       "2  2016-01-01  FEMALE  \n",
       "3  2016-01-01    MALE  \n",
       "4  2016-01-01    MALE  "
      ]
     },
     "metadata": {},
     "output_type": "display_data"
    },
    {
     "data": {
      "text/html": [
       "<div>\n",
       "<style scoped>\n",
       "    .dataframe tbody tr th:only-of-type {\n",
       "        vertical-align: middle;\n",
       "    }\n",
       "\n",
       "    .dataframe tbody tr th {\n",
       "        vertical-align: top;\n",
       "    }\n",
       "\n",
       "    .dataframe thead th {\n",
       "        text-align: right;\n",
       "    }\n",
       "</style>\n",
       "<table border=\"1\" class=\"dataframe\">\n",
       "  <thead>\n",
       "    <tr style=\"text-align: right;\">\n",
       "      <th></th>\n",
       "      <th>Patient ID</th>\n",
       "      <th>code</th>\n",
       "      <th>desc</th>\n",
       "      <th>date</th>\n",
       "      <th>Gender</th>\n",
       "    </tr>\n",
       "  </thead>\n",
       "  <tbody>\n",
       "    <tr>\n",
       "      <th>3281647</th>\n",
       "      <td>b90b6597eaca1dd4493b</td>\n",
       "      <td>I351</td>\n",
       "      <td>Aortic (valve) insufficiency</td>\n",
       "      <td>2016-02-29</td>\n",
       "      <td>MALE</td>\n",
       "    </tr>\n",
       "    <tr>\n",
       "      <th>3285320</th>\n",
       "      <td>ba145e42c3ff11db8461</td>\n",
       "      <td>I350</td>\n",
       "      <td>Aortic (valve) stenosis</td>\n",
       "      <td>2016-12-22</td>\n",
       "      <td>FEMALE</td>\n",
       "    </tr>\n",
       "    <tr>\n",
       "      <th>3285321</th>\n",
       "      <td>ba145e42c3ff11db8461</td>\n",
       "      <td>I350</td>\n",
       "      <td>Aortic (valve) stenosis</td>\n",
       "      <td>2016-12-22</td>\n",
       "      <td>FEMALE</td>\n",
       "    </tr>\n",
       "    <tr>\n",
       "      <th>3287089</th>\n",
       "      <td>94807e1791068a604b66</td>\n",
       "      <td>Q2110</td>\n",
       "      <td>Unspecified atrial septal defect</td>\n",
       "      <td>2016-03-14</td>\n",
       "      <td>MALE</td>\n",
       "    </tr>\n",
       "    <tr>\n",
       "      <th>3287092</th>\n",
       "      <td>94807e1791068a604b66</td>\n",
       "      <td>Q250</td>\n",
       "      <td>Patent ductus arteriosus</td>\n",
       "      <td>2016-03-14</td>\n",
       "      <td>MALE</td>\n",
       "    </tr>\n",
       "  </tbody>\n",
       "</table>\n",
       "</div>"
      ],
      "text/plain": [
       "                   Patient ID   code                              desc  \\\n",
       "3281647  b90b6597eaca1dd4493b   I351      Aortic (valve) insufficiency   \n",
       "3285320  ba145e42c3ff11db8461   I350           Aortic (valve) stenosis   \n",
       "3285321  ba145e42c3ff11db8461   I350           Aortic (valve) stenosis   \n",
       "3287089  94807e1791068a604b66  Q2110  Unspecified atrial septal defect   \n",
       "3287092  94807e1791068a604b66   Q250          Patent ductus arteriosus   \n",
       "\n",
       "               date  Gender  \n",
       "3281647  2016-02-29    MALE  \n",
       "3285320  2016-12-22  FEMALE  \n",
       "3285321  2016-12-22  FEMALE  \n",
       "3287089  2016-03-14    MALE  \n",
       "3287092  2016-03-14    MALE  "
      ]
     },
     "metadata": {},
     "output_type": "display_data"
    }
   ],
   "source": [
    "prl_usecols = [\"Patient ID\", \"Problem Code (Coded)\", \"Problem Desc (Coded)\", \"Visit Date\", \"Gender\"]\n",
    "dia_usecols = [\"Patient ID\", \"Diagnosis Description (ICD10)\", \"Diagnosis Code (ICD10)\", \"Admit/Visit Date\", \"Gender\"]\n",
    "\n",
    "prl_temp = prl_df[prl_usecols].rename(columns=col_rename)\n",
    "dia_temp = dia_df[dia_usecols].rename(columns=col_rename)\n",
    "\n",
    "history = pd.concat([prl_temp, dia_temp], ignore_index=True)\n",
    "history = history.rename(columns=col_rename)\n",
    "display(history.head())\n",
    "\n",
    "# filter history\n",
    "history = history[history['code'].isin(codes)]\n",
    "display(history.head())"
   ]
  },
  {
   "cell_type": "code",
   "execution_count": 13,
   "id": "33574659-bfba-4027-b988-c97f46683e4d",
   "metadata": {},
   "outputs": [],
   "source": [
    "history['dob'] = history[\"Patient ID\"].apply(lambda x: dob_dict.get(x))"
   ]
  },
  {
   "cell_type": "code",
   "execution_count": 14,
   "id": "7e499597-3988-48f7-a072-bd2b2269bb6b",
   "metadata": {},
   "outputs": [],
   "source": [
    "def get_age(ref, dob, fmt=\"%Y-%m-%d\",):\n",
    "    ref = datetime.strptime(ref, fmt)\n",
    "    dob = datetime.strptime(dob, fmt)\n",
    "    try:\n",
    "        return ref.year - dob.year - ((ref.month,  ref.day) < (dob.month, dob.day))\n",
    "    except:\n",
    "        return np.nan\n",
    "        \n",
    "history['age'] = history[['date', 'dob']].apply(lambda row: get_age(row['date'], row['dob'], fmt=\"%Y-%m-%d\"), axis=1)"
   ]
  },
  {
   "cell_type": "code",
   "execution_count": 15,
   "id": "7e124762-bbe6-466a-b5bc-ffe1701bf29a",
   "metadata": {},
   "outputs": [
    {
     "data": {
      "text/html": [
       "<div>\n",
       "<style scoped>\n",
       "    .dataframe tbody tr th:only-of-type {\n",
       "        vertical-align: middle;\n",
       "    }\n",
       "\n",
       "    .dataframe tbody tr th {\n",
       "        vertical-align: top;\n",
       "    }\n",
       "\n",
       "    .dataframe thead th {\n",
       "        text-align: right;\n",
       "    }\n",
       "</style>\n",
       "<table border=\"1\" class=\"dataframe\">\n",
       "  <thead>\n",
       "    <tr style=\"text-align: right;\">\n",
       "      <th></th>\n",
       "      <th>Patient ID</th>\n",
       "      <th>code</th>\n",
       "      <th>desc</th>\n",
       "      <th>date</th>\n",
       "      <th>Gender</th>\n",
       "      <th>dob</th>\n",
       "      <th>age</th>\n",
       "    </tr>\n",
       "  </thead>\n",
       "  <tbody>\n",
       "    <tr>\n",
       "      <th>3281647</th>\n",
       "      <td>b90b6597eaca1dd4493b</td>\n",
       "      <td>I351</td>\n",
       "      <td>Aortic (valve) insufficiency</td>\n",
       "      <td>2016-02-29</td>\n",
       "      <td>MALE</td>\n",
       "      <td>1972-12-01</td>\n",
       "      <td>43</td>\n",
       "    </tr>\n",
       "    <tr>\n",
       "      <th>3285320</th>\n",
       "      <td>ba145e42c3ff11db8461</td>\n",
       "      <td>I350</td>\n",
       "      <td>Aortic (valve) stenosis</td>\n",
       "      <td>2016-12-22</td>\n",
       "      <td>FEMALE</td>\n",
       "      <td>1986-09-01</td>\n",
       "      <td>30</td>\n",
       "    </tr>\n",
       "    <tr>\n",
       "      <th>3285321</th>\n",
       "      <td>ba145e42c3ff11db8461</td>\n",
       "      <td>I350</td>\n",
       "      <td>Aortic (valve) stenosis</td>\n",
       "      <td>2016-12-22</td>\n",
       "      <td>FEMALE</td>\n",
       "      <td>1986-09-01</td>\n",
       "      <td>30</td>\n",
       "    </tr>\n",
       "    <tr>\n",
       "      <th>3287089</th>\n",
       "      <td>94807e1791068a604b66</td>\n",
       "      <td>Q2110</td>\n",
       "      <td>Unspecified atrial septal defect</td>\n",
       "      <td>2016-03-14</td>\n",
       "      <td>MALE</td>\n",
       "      <td>2016-03-01</td>\n",
       "      <td>0</td>\n",
       "    </tr>\n",
       "    <tr>\n",
       "      <th>3287092</th>\n",
       "      <td>94807e1791068a604b66</td>\n",
       "      <td>Q250</td>\n",
       "      <td>Patent ductus arteriosus</td>\n",
       "      <td>2016-03-14</td>\n",
       "      <td>MALE</td>\n",
       "      <td>2016-03-01</td>\n",
       "      <td>0</td>\n",
       "    </tr>\n",
       "  </tbody>\n",
       "</table>\n",
       "</div>"
      ],
      "text/plain": [
       "                   Patient ID   code                              desc  \\\n",
       "3281647  b90b6597eaca1dd4493b   I351      Aortic (valve) insufficiency   \n",
       "3285320  ba145e42c3ff11db8461   I350           Aortic (valve) stenosis   \n",
       "3285321  ba145e42c3ff11db8461   I350           Aortic (valve) stenosis   \n",
       "3287089  94807e1791068a604b66  Q2110  Unspecified atrial septal defect   \n",
       "3287092  94807e1791068a604b66   Q250          Patent ductus arteriosus   \n",
       "\n",
       "               date  Gender         dob  age  \n",
       "3281647  2016-02-29    MALE  1972-12-01   43  \n",
       "3285320  2016-12-22  FEMALE  1986-09-01   30  \n",
       "3285321  2016-12-22  FEMALE  1986-09-01   30  \n",
       "3287089  2016-03-14    MALE  2016-03-01    0  \n",
       "3287092  2016-03-14    MALE  2016-03-01    0  "
      ]
     },
     "execution_count": 15,
     "metadata": {},
     "output_type": "execute_result"
    }
   ],
   "source": [
    "history.head()"
   ]
  },
  {
   "cell_type": "code",
   "execution_count": 16,
   "id": "bbaaeecb-ddfc-4cbc-9556-6399c207da6b",
   "metadata": {},
   "outputs": [
    {
     "data": {
      "text/plain": [
       "(50, 7)"
      ]
     },
     "execution_count": 16,
     "metadata": {},
     "output_type": "execute_result"
    }
   ],
   "source": [
    "history.shape"
   ]
  },
  {
   "cell_type": "code",
   "execution_count": 17,
   "id": "91c24008-30dd-4dff-8ec5-0862142799c6",
   "metadata": {},
   "outputs": [],
   "source": [
    "def is_qualified_history(row):\n",
    "    if row[\"Gender\"] == 'MALE':\n",
    "        return row['age'] <= 55\n",
    "    else:\n",
    "        return row['age'] <= 65\n",
    "        \n",
    "premature_chd = history[history.apply(is_qualified_history, axis=1)]"
   ]
  },
  {
   "cell_type": "code",
   "execution_count": 18,
   "id": "c92c1a10-3a9a-4c62-bae3-ad68007ac351",
   "metadata": {},
   "outputs": [
    {
     "data": {
      "text/plain": [
       "(43, 7)"
      ]
     },
     "execution_count": 18,
     "metadata": {},
     "output_type": "execute_result"
    }
   ],
   "source": [
    "premature_chd.shape"
   ]
  },
  {
   "cell_type": "code",
   "execution_count": 19,
   "id": "526d3caf-29a0-492b-a846-c5cf50262f13",
   "metadata": {},
   "outputs": [],
   "source": [
    "premature_chd_ids = premature_chd['Patient ID'].unique().tolist()"
   ]
  },
  {
   "cell_type": "code",
   "execution_count": 20,
   "id": "2c65af22-ea7d-409b-8060-0b289f62ad67",
   "metadata": {},
   "outputs": [],
   "source": [
    "ldlc_valid_18_nontg_index_nosecondary_final['premature_chd_history'] = ldlc_valid_18_nontg_index_nosecondary_final['Patient ID'].isin(premature_chd_ids)"
   ]
  },
  {
   "cell_type": "markdown",
   "id": "82cb4019-baa2-4f9c-8965-14f4fccc2490",
   "metadata": {},
   "source": [
    "## Premature `CVD`"
   ]
  },
  {
   "cell_type": "code",
   "execution_count": 21,
   "id": "f2a5b71f-18de-445f-a353-90f0cd832a2a",
   "metadata": {},
   "outputs": [],
   "source": [
    "paths = [path for path in glob(os.path.join(PROJECT_ROOT, \"results\", \"*\")) if \"cvd\" in path]"
   ]
  },
  {
   "cell_type": "code",
   "execution_count": 22,
   "id": "7312f21b-7ada-4b2a-8c0e-db27b0afd79d",
   "metadata": {
    "scrolled": true
   },
   "outputs": [],
   "source": [
    "col_rename = {\n",
    "    \"Diagnosis Description (ICD10)\": \"desc\",\n",
    "    \"Diagnosis Code (ICD10)\": \"code\",\n",
    "    \"Problem Code (Coded)\": \"code\",\n",
    "    \"Problem Desc (Coded)\": \"desc\",\n",
    "    \"Visit Date\": \"date\",\n",
    "    \"Admit/Visit Date\": \"date\",\n",
    "}\n",
    "df_list = []\n",
    "for path in paths:\n",
    "    temp = pd.read_csv(path, low_memory=False)\n",
    "    temp = temp.rename(columns=col_rename)\n",
    "    temp = temp[[\"code\", \"desc\", \"Score\", \"Key Term\"]]\n",
    "    df_list.append(temp)\n",
    "\n",
    "relevant_history = pd.concat(df_list, ignore_index=True)\n",
    "terms = relevant_history['desc'].unique().tolist()\n",
    "codes = relevant_history['code'].unique().tolist()"
   ]
  },
  {
   "cell_type": "code",
   "execution_count": 23,
   "id": "21c7162a-bb53-44d2-a492-d2fe6aa6c44b",
   "metadata": {},
   "outputs": [
    {
     "data": {
      "text/html": [
       "<div>\n",
       "<style scoped>\n",
       "    .dataframe tbody tr th:only-of-type {\n",
       "        vertical-align: middle;\n",
       "    }\n",
       "\n",
       "    .dataframe tbody tr th {\n",
       "        vertical-align: top;\n",
       "    }\n",
       "\n",
       "    .dataframe thead th {\n",
       "        text-align: right;\n",
       "    }\n",
       "</style>\n",
       "<table border=\"1\" class=\"dataframe\">\n",
       "  <thead>\n",
       "    <tr style=\"text-align: right;\">\n",
       "      <th></th>\n",
       "      <th>Patient ID</th>\n",
       "      <th>code</th>\n",
       "      <th>desc</th>\n",
       "      <th>date</th>\n",
       "      <th>Gender</th>\n",
       "    </tr>\n",
       "  </thead>\n",
       "  <tbody>\n",
       "    <tr>\n",
       "      <th>0</th>\n",
       "      <td>f04cd72dfb45a0929025</td>\n",
       "      <td>35027015</td>\n",
       "      <td>CHRONIC CHOLECYSTITIS</td>\n",
       "      <td>2016-01-01</td>\n",
       "      <td>MALE</td>\n",
       "    </tr>\n",
       "    <tr>\n",
       "      <th>1</th>\n",
       "      <td>fd381d17b78192f49b0b</td>\n",
       "      <td>379662011</td>\n",
       "      <td>BREAST CANCER</td>\n",
       "      <td>2016-01-01</td>\n",
       "      <td>FEMALE</td>\n",
       "    </tr>\n",
       "    <tr>\n",
       "      <th>2</th>\n",
       "      <td>fd381d17b78192f49b0b</td>\n",
       "      <td>1233066018</td>\n",
       "      <td>UTI - URINARY TRACT INFECTION</td>\n",
       "      <td>2016-01-01</td>\n",
       "      <td>FEMALE</td>\n",
       "    </tr>\n",
       "    <tr>\n",
       "      <th>3</th>\n",
       "      <td>0ece0e12fdc7605939c2</td>\n",
       "      <td>2793932016</td>\n",
       "      <td>HISTORY OF RENAL TRANSPLANT*</td>\n",
       "      <td>2016-01-01</td>\n",
       "      <td>MALE</td>\n",
       "    </tr>\n",
       "    <tr>\n",
       "      <th>4</th>\n",
       "      <td>0ece0e12fdc7605939c2</td>\n",
       "      <td>1232637011</td>\n",
       "      <td>PARTIAL THICKNESS BURN OF TRUNK</td>\n",
       "      <td>2016-01-01</td>\n",
       "      <td>MALE</td>\n",
       "    </tr>\n",
       "  </tbody>\n",
       "</table>\n",
       "</div>"
      ],
      "text/plain": [
       "             Patient ID        code                             desc  \\\n",
       "0  f04cd72dfb45a0929025    35027015            CHRONIC CHOLECYSTITIS   \n",
       "1  fd381d17b78192f49b0b   379662011                    BREAST CANCER   \n",
       "2  fd381d17b78192f49b0b  1233066018    UTI - URINARY TRACT INFECTION   \n",
       "3  0ece0e12fdc7605939c2  2793932016     HISTORY OF RENAL TRANSPLANT*   \n",
       "4  0ece0e12fdc7605939c2  1232637011  PARTIAL THICKNESS BURN OF TRUNK   \n",
       "\n",
       "         date  Gender  \n",
       "0  2016-01-01    MALE  \n",
       "1  2016-01-01  FEMALE  \n",
       "2  2016-01-01  FEMALE  \n",
       "3  2016-01-01    MALE  \n",
       "4  2016-01-01    MALE  "
      ]
     },
     "metadata": {},
     "output_type": "display_data"
    },
    {
     "data": {
      "text/html": [
       "<div>\n",
       "<style scoped>\n",
       "    .dataframe tbody tr th:only-of-type {\n",
       "        vertical-align: middle;\n",
       "    }\n",
       "\n",
       "    .dataframe tbody tr th {\n",
       "        vertical-align: top;\n",
       "    }\n",
       "\n",
       "    .dataframe thead th {\n",
       "        text-align: right;\n",
       "    }\n",
       "</style>\n",
       "<table border=\"1\" class=\"dataframe\">\n",
       "  <thead>\n",
       "    <tr style=\"text-align: right;\">\n",
       "      <th></th>\n",
       "      <th>Patient ID</th>\n",
       "      <th>code</th>\n",
       "      <th>desc</th>\n",
       "      <th>date</th>\n",
       "      <th>Gender</th>\n",
       "    </tr>\n",
       "  </thead>\n",
       "  <tbody>\n",
       "    <tr>\n",
       "      <th>3249060</th>\n",
       "      <td>8553766829a37c670348</td>\n",
       "      <td>I64</td>\n",
       "      <td>Stroke, not specified as haemorrhage orinfarction</td>\n",
       "      <td>2016-10-25</td>\n",
       "      <td>MALE</td>\n",
       "    </tr>\n",
       "    <tr>\n",
       "      <th>3249172</th>\n",
       "      <td>b20d03fb9e2f87375797</td>\n",
       "      <td>I64</td>\n",
       "      <td>Stroke, not specified as haemorrhage orinfarction</td>\n",
       "      <td>2016-11-09</td>\n",
       "      <td>MALE</td>\n",
       "    </tr>\n",
       "    <tr>\n",
       "      <th>3249173</th>\n",
       "      <td>b20d03fb9e2f87375797</td>\n",
       "      <td>I64</td>\n",
       "      <td>Stroke, not specified as haemorrhage orinfarction</td>\n",
       "      <td>2016-12-28</td>\n",
       "      <td>MALE</td>\n",
       "    </tr>\n",
       "    <tr>\n",
       "      <th>3249325</th>\n",
       "      <td>535f1cc90a9cb626f28d</td>\n",
       "      <td>I64</td>\n",
       "      <td>Stroke, not specified as haemorrhage orinfarction</td>\n",
       "      <td>2016-08-01</td>\n",
       "      <td>FEMALE</td>\n",
       "    </tr>\n",
       "    <tr>\n",
       "      <th>3249698</th>\n",
       "      <td>42a725602ba8e6153efe</td>\n",
       "      <td>I64</td>\n",
       "      <td>Stroke, not specified as haemorrhage orinfarction</td>\n",
       "      <td>2016-07-19</td>\n",
       "      <td>MALE</td>\n",
       "    </tr>\n",
       "  </tbody>\n",
       "</table>\n",
       "</div>"
      ],
      "text/plain": [
       "                   Patient ID code  \\\n",
       "3249060  8553766829a37c670348  I64   \n",
       "3249172  b20d03fb9e2f87375797  I64   \n",
       "3249173  b20d03fb9e2f87375797  I64   \n",
       "3249325  535f1cc90a9cb626f28d  I64   \n",
       "3249698  42a725602ba8e6153efe  I64   \n",
       "\n",
       "                                                      desc        date  Gender  \n",
       "3249060  Stroke, not specified as haemorrhage orinfarction  2016-10-25    MALE  \n",
       "3249172  Stroke, not specified as haemorrhage orinfarction  2016-11-09    MALE  \n",
       "3249173  Stroke, not specified as haemorrhage orinfarction  2016-12-28    MALE  \n",
       "3249325  Stroke, not specified as haemorrhage orinfarction  2016-08-01  FEMALE  \n",
       "3249698  Stroke, not specified as haemorrhage orinfarction  2016-07-19    MALE  "
      ]
     },
     "metadata": {},
     "output_type": "display_data"
    }
   ],
   "source": [
    "prl_usecols = [\"Patient ID\", \"Problem Code (Coded)\", \"Problem Desc (Coded)\", \"Visit Date\", \"Gender\"]\n",
    "dia_usecols = [\"Patient ID\", \"Diagnosis Description (ICD10)\", \"Diagnosis Code (ICD10)\", \"Admit/Visit Date\", \"Gender\"]\n",
    "\n",
    "prl_temp = prl_df[prl_usecols].rename(columns=col_rename)\n",
    "dia_temp = dia_df[dia_usecols].rename(columns=col_rename)\n",
    "\n",
    "history = pd.concat([prl_temp, dia_temp], ignore_index=True)\n",
    "history = history.rename(columns=col_rename)\n",
    "display(history.head())\n",
    "\n",
    "# filter history\n",
    "history = history[history['code'].isin(codes)]\n",
    "display(history.head())"
   ]
  },
  {
   "cell_type": "code",
   "execution_count": 24,
   "id": "59152dc5-66f5-4d09-b6cd-17be5457871f",
   "metadata": {},
   "outputs": [],
   "source": [
    "history['dob'] = history[\"Patient ID\"].apply(lambda x: dob_dict.get(x))"
   ]
  },
  {
   "cell_type": "code",
   "execution_count": 25,
   "id": "2a522965-e0cd-4bd8-9983-f8dc6996ff54",
   "metadata": {},
   "outputs": [],
   "source": [
    "def get_age(ref, dob, fmt=\"%Y-%m-%d\",):\n",
    "    ref = datetime.strptime(ref, fmt)\n",
    "    dob = datetime.strptime(dob, fmt)\n",
    "    try:\n",
    "        return ref.year - dob.year - ((ref.month,  ref.day) < (dob.month, dob.day))\n",
    "    except:\n",
    "        return np.nan\n",
    "        \n",
    "history['age'] = history[['date', 'dob']].apply(lambda row: get_age(row['date'], row['dob'], fmt=\"%Y-%m-%d\"), axis=1)"
   ]
  },
  {
   "cell_type": "code",
   "execution_count": 26,
   "id": "0c8ba085-b09b-4427-9410-babe322dda4c",
   "metadata": {},
   "outputs": [
    {
     "data": {
      "text/html": [
       "<div>\n",
       "<style scoped>\n",
       "    .dataframe tbody tr th:only-of-type {\n",
       "        vertical-align: middle;\n",
       "    }\n",
       "\n",
       "    .dataframe tbody tr th {\n",
       "        vertical-align: top;\n",
       "    }\n",
       "\n",
       "    .dataframe thead th {\n",
       "        text-align: right;\n",
       "    }\n",
       "</style>\n",
       "<table border=\"1\" class=\"dataframe\">\n",
       "  <thead>\n",
       "    <tr style=\"text-align: right;\">\n",
       "      <th></th>\n",
       "      <th>Patient ID</th>\n",
       "      <th>code</th>\n",
       "      <th>desc</th>\n",
       "      <th>date</th>\n",
       "      <th>Gender</th>\n",
       "      <th>dob</th>\n",
       "      <th>age</th>\n",
       "    </tr>\n",
       "  </thead>\n",
       "  <tbody>\n",
       "    <tr>\n",
       "      <th>3249060</th>\n",
       "      <td>8553766829a37c670348</td>\n",
       "      <td>I64</td>\n",
       "      <td>Stroke, not specified as haemorrhage orinfarction</td>\n",
       "      <td>2016-10-25</td>\n",
       "      <td>MALE</td>\n",
       "      <td>1953-07-01</td>\n",
       "      <td>63</td>\n",
       "    </tr>\n",
       "    <tr>\n",
       "      <th>3249172</th>\n",
       "      <td>b20d03fb9e2f87375797</td>\n",
       "      <td>I64</td>\n",
       "      <td>Stroke, not specified as haemorrhage orinfarction</td>\n",
       "      <td>2016-11-09</td>\n",
       "      <td>MALE</td>\n",
       "      <td>1953-12-01</td>\n",
       "      <td>62</td>\n",
       "    </tr>\n",
       "    <tr>\n",
       "      <th>3249173</th>\n",
       "      <td>b20d03fb9e2f87375797</td>\n",
       "      <td>I64</td>\n",
       "      <td>Stroke, not specified as haemorrhage orinfarction</td>\n",
       "      <td>2016-12-28</td>\n",
       "      <td>MALE</td>\n",
       "      <td>1953-12-01</td>\n",
       "      <td>63</td>\n",
       "    </tr>\n",
       "    <tr>\n",
       "      <th>3249325</th>\n",
       "      <td>535f1cc90a9cb626f28d</td>\n",
       "      <td>I64</td>\n",
       "      <td>Stroke, not specified as haemorrhage orinfarction</td>\n",
       "      <td>2016-08-01</td>\n",
       "      <td>FEMALE</td>\n",
       "      <td>1949-11-01</td>\n",
       "      <td>66</td>\n",
       "    </tr>\n",
       "    <tr>\n",
       "      <th>3249698</th>\n",
       "      <td>42a725602ba8e6153efe</td>\n",
       "      <td>I64</td>\n",
       "      <td>Stroke, not specified as haemorrhage orinfarction</td>\n",
       "      <td>2016-07-19</td>\n",
       "      <td>MALE</td>\n",
       "      <td>1953-08-01</td>\n",
       "      <td>62</td>\n",
       "    </tr>\n",
       "  </tbody>\n",
       "</table>\n",
       "</div>"
      ],
      "text/plain": [
       "                   Patient ID code  \\\n",
       "3249060  8553766829a37c670348  I64   \n",
       "3249172  b20d03fb9e2f87375797  I64   \n",
       "3249173  b20d03fb9e2f87375797  I64   \n",
       "3249325  535f1cc90a9cb626f28d  I64   \n",
       "3249698  42a725602ba8e6153efe  I64   \n",
       "\n",
       "                                                      desc        date  \\\n",
       "3249060  Stroke, not specified as haemorrhage orinfarction  2016-10-25   \n",
       "3249172  Stroke, not specified as haemorrhage orinfarction  2016-11-09   \n",
       "3249173  Stroke, not specified as haemorrhage orinfarction  2016-12-28   \n",
       "3249325  Stroke, not specified as haemorrhage orinfarction  2016-08-01   \n",
       "3249698  Stroke, not specified as haemorrhage orinfarction  2016-07-19   \n",
       "\n",
       "         Gender         dob  age  \n",
       "3249060    MALE  1953-07-01   63  \n",
       "3249172    MALE  1953-12-01   62  \n",
       "3249173    MALE  1953-12-01   63  \n",
       "3249325  FEMALE  1949-11-01   66  \n",
       "3249698    MALE  1953-08-01   62  "
      ]
     },
     "execution_count": 26,
     "metadata": {},
     "output_type": "execute_result"
    }
   ],
   "source": [
    "history.head()"
   ]
  },
  {
   "cell_type": "code",
   "execution_count": 27,
   "id": "44f210dc-166c-4a0c-8d57-acc611b68479",
   "metadata": {},
   "outputs": [
    {
     "data": {
      "text/plain": [
       "(601, 7)"
      ]
     },
     "execution_count": 27,
     "metadata": {},
     "output_type": "execute_result"
    }
   ],
   "source": [
    "history.shape"
   ]
  },
  {
   "cell_type": "code",
   "execution_count": 28,
   "id": "3c7c433a-ca90-425a-9c70-4cc87936763d",
   "metadata": {},
   "outputs": [],
   "source": [
    "def is_qualified_history(row):\n",
    "    if row[\"Gender\"] == 'MALE':\n",
    "        return row['age'] <= 55\n",
    "    else:\n",
    "        return row['age'] <= 65\n",
    "        \n",
    "premature_cvd = history[history.apply(is_qualified_history, axis=1)]"
   ]
  },
  {
   "cell_type": "code",
   "execution_count": 29,
   "id": "e6085a1b-8826-437e-8e57-a2512cc4b1ab",
   "metadata": {},
   "outputs": [
    {
     "data": {
      "text/plain": [
       "(172, 7)"
      ]
     },
     "execution_count": 29,
     "metadata": {},
     "output_type": "execute_result"
    }
   ],
   "source": [
    "premature_cvd.shape"
   ]
  },
  {
   "cell_type": "code",
   "execution_count": 30,
   "id": "c7164a6a-86b7-4aea-b954-7a8231579e94",
   "metadata": {},
   "outputs": [],
   "source": [
    "premature_cvd_ids = premature_cvd['Patient ID'].unique().tolist()"
   ]
  },
  {
   "cell_type": "code",
   "execution_count": 31,
   "id": "1f297896-2612-4444-9322-5a33554b37f2",
   "metadata": {},
   "outputs": [],
   "source": [
    "ldlc_valid_18_nontg_index_nosecondary_final['premature_cvd_history'] = ldlc_valid_18_nontg_index_nosecondary_final['Patient ID'].isin(premature_cvd_ids)"
   ]
  },
  {
   "cell_type": "markdown",
   "id": "d593feb9-63ed-4453-be46-b43381638b47",
   "metadata": {},
   "source": [
    "## `xanthomas` Physical Examination"
   ]
  },
  {
   "cell_type": "code",
   "execution_count": 32,
   "id": "8ae122e4-32e3-46c2-a913-39deafc12eef",
   "metadata": {},
   "outputs": [],
   "source": [
    "paths = [path for path in glob(os.path.join(PROJECT_ROOT, \"results\", \"*\")) if \"xanthomas\" in path]"
   ]
  },
  {
   "cell_type": "code",
   "execution_count": 33,
   "id": "7bbc5cbf-5c6e-452d-9376-dcdd724c22ae",
   "metadata": {},
   "outputs": [
    {
     "data": {
      "text/html": [
       "<div>\n",
       "<style scoped>\n",
       "    .dataframe tbody tr th:only-of-type {\n",
       "        vertical-align: middle;\n",
       "    }\n",
       "\n",
       "    .dataframe tbody tr th {\n",
       "        vertical-align: top;\n",
       "    }\n",
       "\n",
       "    .dataframe thead th {\n",
       "        text-align: right;\n",
       "    }\n",
       "</style>\n",
       "<table border=\"1\" class=\"dataframe\">\n",
       "  <thead>\n",
       "    <tr style=\"text-align: right;\">\n",
       "      <th></th>\n",
       "      <th>Patient ID</th>\n",
       "      <th>code</th>\n",
       "      <th>desc</th>\n",
       "      <th>date</th>\n",
       "      <th>Gender</th>\n",
       "    </tr>\n",
       "  </thead>\n",
       "  <tbody>\n",
       "    <tr>\n",
       "      <th>0</th>\n",
       "      <td>f04cd72dfb45a0929025</td>\n",
       "      <td>35027015</td>\n",
       "      <td>CHRONIC CHOLECYSTITIS</td>\n",
       "      <td>2016-01-01</td>\n",
       "      <td>MALE</td>\n",
       "    </tr>\n",
       "    <tr>\n",
       "      <th>1</th>\n",
       "      <td>fd381d17b78192f49b0b</td>\n",
       "      <td>379662011</td>\n",
       "      <td>BREAST CANCER</td>\n",
       "      <td>2016-01-01</td>\n",
       "      <td>FEMALE</td>\n",
       "    </tr>\n",
       "    <tr>\n",
       "      <th>2</th>\n",
       "      <td>fd381d17b78192f49b0b</td>\n",
       "      <td>1233066018</td>\n",
       "      <td>UTI - URINARY TRACT INFECTION</td>\n",
       "      <td>2016-01-01</td>\n",
       "      <td>FEMALE</td>\n",
       "    </tr>\n",
       "    <tr>\n",
       "      <th>3</th>\n",
       "      <td>0ece0e12fdc7605939c2</td>\n",
       "      <td>2793932016</td>\n",
       "      <td>HISTORY OF RENAL TRANSPLANT*</td>\n",
       "      <td>2016-01-01</td>\n",
       "      <td>MALE</td>\n",
       "    </tr>\n",
       "    <tr>\n",
       "      <th>4</th>\n",
       "      <td>0ece0e12fdc7605939c2</td>\n",
       "      <td>1232637011</td>\n",
       "      <td>PARTIAL THICKNESS BURN OF TRUNK</td>\n",
       "      <td>2016-01-01</td>\n",
       "      <td>MALE</td>\n",
       "    </tr>\n",
       "  </tbody>\n",
       "</table>\n",
       "</div>"
      ],
      "text/plain": [
       "             Patient ID        code                             desc  \\\n",
       "0  f04cd72dfb45a0929025    35027015            CHRONIC CHOLECYSTITIS   \n",
       "1  fd381d17b78192f49b0b   379662011                    BREAST CANCER   \n",
       "2  fd381d17b78192f49b0b  1233066018    UTI - URINARY TRACT INFECTION   \n",
       "3  0ece0e12fdc7605939c2  2793932016     HISTORY OF RENAL TRANSPLANT*   \n",
       "4  0ece0e12fdc7605939c2  1232637011  PARTIAL THICKNESS BURN OF TRUNK   \n",
       "\n",
       "         date  Gender  \n",
       "0  2016-01-01    MALE  \n",
       "1  2016-01-01  FEMALE  \n",
       "2  2016-01-01  FEMALE  \n",
       "3  2016-01-01    MALE  \n",
       "4  2016-01-01    MALE  "
      ]
     },
     "metadata": {},
     "output_type": "display_data"
    },
    {
     "data": {
      "text/html": [
       "<div>\n",
       "<style scoped>\n",
       "    .dataframe tbody tr th:only-of-type {\n",
       "        vertical-align: middle;\n",
       "    }\n",
       "\n",
       "    .dataframe tbody tr th {\n",
       "        vertical-align: top;\n",
       "    }\n",
       "\n",
       "    .dataframe thead th {\n",
       "        text-align: right;\n",
       "    }\n",
       "</style>\n",
       "<table border=\"1\" class=\"dataframe\">\n",
       "  <thead>\n",
       "    <tr style=\"text-align: right;\">\n",
       "      <th></th>\n",
       "      <th>Patient ID</th>\n",
       "      <th>code</th>\n",
       "      <th>desc</th>\n",
       "      <th>date</th>\n",
       "      <th>Gender</th>\n",
       "    </tr>\n",
       "  </thead>\n",
       "  <tbody>\n",
       "    <tr>\n",
       "      <th>0</th>\n",
       "      <td>f04cd72dfb45a0929025</td>\n",
       "      <td>35027015</td>\n",
       "      <td>CHRONIC CHOLECYSTITIS</td>\n",
       "      <td>2016-01-01</td>\n",
       "      <td>MALE</td>\n",
       "    </tr>\n",
       "    <tr>\n",
       "      <th>1</th>\n",
       "      <td>fd381d17b78192f49b0b</td>\n",
       "      <td>379662011</td>\n",
       "      <td>BREAST CANCER</td>\n",
       "      <td>2016-01-01</td>\n",
       "      <td>FEMALE</td>\n",
       "    </tr>\n",
       "    <tr>\n",
       "      <th>2</th>\n",
       "      <td>fd381d17b78192f49b0b</td>\n",
       "      <td>1233066018</td>\n",
       "      <td>UTI - URINARY TRACT INFECTION</td>\n",
       "      <td>2016-01-01</td>\n",
       "      <td>FEMALE</td>\n",
       "    </tr>\n",
       "    <tr>\n",
       "      <th>3</th>\n",
       "      <td>0ece0e12fdc7605939c2</td>\n",
       "      <td>2793932016</td>\n",
       "      <td>HISTORY OF RENAL TRANSPLANT*</td>\n",
       "      <td>2016-01-01</td>\n",
       "      <td>MALE</td>\n",
       "    </tr>\n",
       "    <tr>\n",
       "      <th>4</th>\n",
       "      <td>0ece0e12fdc7605939c2</td>\n",
       "      <td>1232637011</td>\n",
       "      <td>PARTIAL THICKNESS BURN OF TRUNK</td>\n",
       "      <td>2016-01-01</td>\n",
       "      <td>MALE</td>\n",
       "    </tr>\n",
       "  </tbody>\n",
       "</table>\n",
       "</div>"
      ],
      "text/plain": [
       "             Patient ID        code                             desc  \\\n",
       "0  f04cd72dfb45a0929025    35027015            CHRONIC CHOLECYSTITIS   \n",
       "1  fd381d17b78192f49b0b   379662011                    BREAST CANCER   \n",
       "2  fd381d17b78192f49b0b  1233066018    UTI - URINARY TRACT INFECTION   \n",
       "3  0ece0e12fdc7605939c2  2793932016     HISTORY OF RENAL TRANSPLANT*   \n",
       "4  0ece0e12fdc7605939c2  1232637011  PARTIAL THICKNESS BURN OF TRUNK   \n",
       "\n",
       "         date  Gender  \n",
       "0  2016-01-01    MALE  \n",
       "1  2016-01-01  FEMALE  \n",
       "2  2016-01-01  FEMALE  \n",
       "3  2016-01-01    MALE  \n",
       "4  2016-01-01    MALE  "
      ]
     },
     "metadata": {},
     "output_type": "display_data"
    }
   ],
   "source": [
    "col_rename = {\n",
    "    \"Diagnosis Description (ICD10)\": \"desc\",\n",
    "    \"Diagnosis Code (ICD10)\": \"code\",\n",
    "    \"Problem Code (Coded)\": \"code\",\n",
    "    \"Problem Desc (Coded)\": \"desc\",\n",
    "    \"Visit Date\": \"date\",\n",
    "    \"Admit/Visit Date\": \"date\",\n",
    "}\n",
    "df_list = []\n",
    "for path in paths:\n",
    "    temp = pd.read_csv(path, low_memory=False)\n",
    "    if temp.empty:\n",
    "        continue\n",
    "    temp = temp.rename(columns=col_rename)\n",
    "    temp = temp[[\"code\", \"desc\", \"Score\", \"Key Term\"]]\n",
    "    df_list.append(temp)\n",
    "\n",
    "if len(df_list):\n",
    "    relevant_history = pd.concat(df_list, ignore_index=True)\n",
    "    terms = relevant_history['desc'].unique().tolist()\n",
    "    codes = relevant_history['code'].unique().tolist()\n",
    "    \n",
    "    prl_usecols = [\"Patient ID\", \"Problem Code (Coded)\", \"Problem Desc (Coded)\", \"Visit Date\", \"Gender\"]\n",
    "    dia_usecols = [\"Patient ID\", \"Diagnosis Description (ICD10)\", \"Diagnosis Code (ICD10)\", \"Admit/Visit Date\", \"Gender\"]\n",
    "    \n",
    "    prl_temp = prl_df[prl_usecols].rename(columns=col_rename)\n",
    "    dia_temp = dia_df[dia_usecols].rename(columns=col_rename)\n",
    "    \n",
    "    history = pd.concat([prl_temp, dia_temp], ignore_index=True)\n",
    "    history = history.rename(columns=col_rename)\n",
    "    display(history.head())\n",
    "    \n",
    "    # filter history\n",
    "    xanthomas_reference = history[history['code'].isin(codes)]\n",
    "    display(history.head())\n",
    "    xanthomas_reference_ids = xanthomas_reference['Patient ID'].unique().tolist()\n",
    "else:\n",
    "    xanthomas_reference_ids = []"
   ]
  },
  {
   "cell_type": "code",
   "execution_count": 34,
   "id": "ddf0e3d6-01e0-49f3-9609-4b2fca8d71d9",
   "metadata": {},
   "outputs": [],
   "source": [
    "ldlc_valid_18_nontg_index_nosecondary_final['has_xanthomas'] = ldlc_valid_18_nontg_index_nosecondary_final['Patient ID'].isin(xanthomas_reference_ids)"
   ]
  },
  {
   "cell_type": "markdown",
   "id": "1304e3c0-c75d-4901-8d21-6f97462ee3ac",
   "metadata": {},
   "source": [
    "## `corneal_arcus` Physical Examination"
   ]
  },
  {
   "cell_type": "code",
   "execution_count": 35,
   "id": "e6e6c53d-d5b1-457a-a3b9-4bc1cde33ab2",
   "metadata": {},
   "outputs": [],
   "source": [
    "paths = [path for path in glob(os.path.join(PROJECT_ROOT, \"results\", \"*\")) if \"corneal_arcus\" in path]"
   ]
  },
  {
   "cell_type": "code",
   "execution_count": 36,
   "id": "15681594-cf31-4837-956b-2702f33bdf56",
   "metadata": {},
   "outputs": [],
   "source": [
    "col_rename = {\n",
    "    \"Diagnosis Description (ICD10)\": \"desc\",\n",
    "    \"Diagnosis Code (ICD10)\": \"code\",\n",
    "    \"Problem Code (Coded)\": \"code\",\n",
    "    \"Problem Desc (Coded)\": \"desc\",\n",
    "    \"Visit Date\": \"date\",\n",
    "    \"Admit/Visit Date\": \"date\",\n",
    "}\n",
    "df_list = []\n",
    "for path in paths:\n",
    "    temp = pd.read_csv(path, low_memory=False)\n",
    "    if temp.empty:\n",
    "        continue\n",
    "    temp = temp.rename(columns=col_rename)\n",
    "    temp = temp[[\"code\", \"desc\", \"Score\", \"Key Term\"]]\n",
    "    df_list.append(temp)\n",
    "\n",
    "if len(df_list):\n",
    "    relevant_history = pd.concat(df_list, ignore_index=True)\n",
    "    terms = relevant_history['desc'].unique().tolist()\n",
    "    codes = relevant_history['code'].unique().tolist()\n",
    "    \n",
    "    prl_usecols = [\"Patient ID\", \"Problem Code (Coded)\", \"Problem Desc (Coded)\", \"Visit Date\", \"Gender\"]\n",
    "    dia_usecols = [\"Patient ID\", \"Diagnosis Description (ICD10)\", \"Diagnosis Code (ICD10)\", \"Admit/Visit Date\", \"Gender\"]\n",
    "    \n",
    "    prl_temp = prl_df[prl_usecols].rename(columns=col_rename)\n",
    "    dia_temp = dia_df[dia_usecols].rename(columns=col_rename)\n",
    "    \n",
    "    history = pd.concat([prl_temp, dia_temp], ignore_index=True)\n",
    "    history = history.rename(columns=col_rename)\n",
    "    display(history.head())\n",
    "    \n",
    "    # filter history\n",
    "    corneal_arcus_reference = history[history['code'].isin(codes)]\n",
    "    display(history.head())\n",
    "    corneal_arcus_reference_ids = corneal_arcus_reference['Patient ID'].unique().tolist()\n",
    "else:\n",
    "    corneal_arcus_reference_ids = []"
   ]
  },
  {
   "cell_type": "code",
   "execution_count": 37,
   "id": "8dc51f92-bf36-4bef-b3e4-1b7bda44e6ed",
   "metadata": {},
   "outputs": [],
   "source": [
    "ldlc_valid_18_nontg_index_nosecondary_final['has_corneal_arcus'] = ldlc_valid_18_nontg_index_nosecondary_final['Patient ID'].isin(corneal_arcus_reference_ids)"
   ]
  },
  {
   "cell_type": "markdown",
   "id": "c284a5be-ab99-469d-943e-84f576e73d78",
   "metadata": {},
   "source": [
    "## Scoring"
   ]
  },
  {
   "cell_type": "code",
   "execution_count": 38,
   "id": "328e863c-c2e0-49a7-9111-d54fa34b665d",
   "metadata": {},
   "outputs": [],
   "source": [
    "def score(row):\n",
    "    score = 0\n",
    "    \n",
    "    if row['Scaled LDL-C Max'] >= 8.40:\n",
    "        score += 8\n",
    "    elif 6.49 <= row['Scaled LDL-C Max'] < 8.40: \n",
    "        score += 5\n",
    "    elif 4.93 <= row['Scaled LDL-C Max'] < 6.49: \n",
    "        score += 3\n",
    "    elif row['Scaled LDL-C Max'] < 4.93:\n",
    "        score += 1\n",
    "    else:\n",
    "        raise ValueError(\"Unable to handle value.\")\n",
    "    \n",
    "    if row['premature_chd_history']:\n",
    "        score += 2\n",
    "    if row['premature_cvd_history']:\n",
    "        score += 1\n",
    "    if row['has_corneal_arcus']:\n",
    "        score += 4\n",
    "    if row['has_xanthomas']:\n",
    "        score += 6\n",
    "    return score\n",
    "\n",
    "def segment(score):\n",
    "    if score >= 6.0:\n",
    "        return \"Cases\"\n",
    "    elif 2.0 < score < 6.0: # [3, 5]\n",
    "        return \"Unknown\"\n",
    "    elif score <= 2:\n",
    "        return \"Control\"\n",
    "    else:\n",
    "        raise ValueError(\"Unable to handle score.\")\n"
   ]
  },
  {
   "cell_type": "code",
   "execution_count": 39,
   "id": "90554fbe-bf57-456e-aeb5-47aae9c87f85",
   "metadata": {},
   "outputs": [
    {
     "data": {
      "text/plain": [
       "premature_chd_history\n",
       "False    20785\n",
       "True         1\n",
       "Name: count, dtype: int64"
      ]
     },
     "metadata": {},
     "output_type": "display_data"
    },
    {
     "data": {
      "text/plain": [
       "premature_cvd_history\n",
       "False    20745\n",
       "True        41\n",
       "Name: count, dtype: int64"
      ]
     },
     "metadata": {},
     "output_type": "display_data"
    },
    {
     "data": {
      "text/plain": [
       "has_corneal_arcus\n",
       "False    20786\n",
       "Name: count, dtype: int64"
      ]
     },
     "metadata": {},
     "output_type": "display_data"
    },
    {
     "data": {
      "text/plain": [
       "has_xanthomas\n",
       "False    20786\n",
       "Name: count, dtype: int64"
      ]
     },
     "metadata": {},
     "output_type": "display_data"
    }
   ],
   "source": [
    "usecols = ['premature_chd_history', 'premature_cvd_history', 'has_corneal_arcus', 'has_xanthomas']\n",
    "for col in usecols:\n",
    "    display(ldlc_valid_18_nontg_index_nosecondary_final[col].value_counts())"
   ]
  },
  {
   "cell_type": "code",
   "execution_count": 40,
   "id": "1ad7c363-0c47-48b9-96ea-c14c3618a8a5",
   "metadata": {},
   "outputs": [
    {
     "data": {
      "text/plain": [
       "Stage2_Category\n",
       "Control    19565\n",
       "Unknown     1136\n",
       "Cases         85\n",
       "Name: count, dtype: int64"
      ]
     },
     "execution_count": 40,
     "metadata": {},
     "output_type": "execute_result"
    }
   ],
   "source": [
    "ldlc_valid_18_nontg_index_nosecondary_final[\"Score\"] = ldlc_valid_18_nontg_index_nosecondary_final.apply(score, axis=1)\n",
    "ldlc_valid_18_nontg_index_nosecondary_final[\"Stage2_Category\"] = ldlc_valid_18_nontg_index_nosecondary_final[\"Score\"].apply(segment)\n",
    "ldlc_valid_18_nontg_index_nosecondary_final[\"Stage2_Category\"].value_counts()"
   ]
  },
  {
   "cell_type": "markdown",
   "id": "ed3ea18d-f703-44c6-9f2d-c9e2d3fb07fa",
   "metadata": {},
   "source": [
    "## End."
   ]
  }
 ],
 "metadata": {
  "kernelspec": {
   "display_name": "basic-ds-toolkit",
   "language": "python",
   "name": "basic-ds-toolkit"
  },
  "language_info": {
   "codemirror_mode": {
    "name": "ipython",
    "version": 3
   },
   "file_extension": ".py",
   "mimetype": "text/x-python",
   "name": "python",
   "nbconvert_exporter": "python",
   "pygments_lexer": "ipython3",
   "version": "3.9.21"
  }
 },
 "nbformat": 4,
 "nbformat_minor": 5
}
